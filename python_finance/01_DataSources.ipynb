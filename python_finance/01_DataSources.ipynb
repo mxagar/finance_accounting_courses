{
 "cells": [
  {
   "cell_type": "markdown",
   "metadata": {},
   "source": [
    "# 1. Data Sources"
   ]
  },
  {
   "cell_type": "markdown",
   "metadata": {},
   "source": [
    "We are hoing to use two main sources:\n",
    "- pandas-datareader: Google, Yahoo APIs accessed for free\n",
    "- Quandl API: company with free tier access available with an API key\n",
    "\n",
    "Note for Pandas DataReader: Yahoo and Google have updated their APIs; if they're unstable, use the codes `iex`, `morningstar` or `yahoo` instead (only `yahoo` worked for me). More on string codes:\n",
    "\n",
    "https://pandas-datareader.readthedocs.io/\n",
    "\n",
    "**Optional readings**\n",
    "\n",
    "https://www.investopedia.com/options-basics-tutorial-4583012\n",
    "\n",
    "https://www.investopedia.com/terms/o/order-book.asp"
   ]
  },
  {
   "cell_type": "markdown",
   "metadata": {},
   "source": [
    "## Pandas DataReader: Import Stock Time Series"
   ]
  },
  {
   "cell_type": "code",
   "execution_count": 1,
   "metadata": {},
   "outputs": [],
   "source": [
    "import pandas_datareader.data as web\n",
    "import datetime"
   ]
  },
  {
   "cell_type": "code",
   "execution_count": 2,
   "metadata": {},
   "outputs": [],
   "source": [
    "# Define always start and end date to fetch data\n",
    "start = datetime.datetime(2015,1,1)\n",
    "end = datetime.datetime(2017,1,1)"
   ]
  },
  {
   "cell_type": "code",
   "execution_count": 3,
   "metadata": {},
   "outputs": [],
   "source": [
    "# Select stock & source\n",
    "# yahoo seems to be the only source that works\n",
    "facebook = web.DataReader('FB','yahoo',start,end)"
   ]
  },
  {
   "cell_type": "code",
   "execution_count": 4,
   "metadata": {},
   "outputs": [
    {
     "data": {
      "text/html": [
       "<div>\n",
       "<style scoped>\n",
       "    .dataframe tbody tr th:only-of-type {\n",
       "        vertical-align: middle;\n",
       "    }\n",
       "\n",
       "    .dataframe tbody tr th {\n",
       "        vertical-align: top;\n",
       "    }\n",
       "\n",
       "    .dataframe thead th {\n",
       "        text-align: right;\n",
       "    }\n",
       "</style>\n",
       "<table border=\"1\" class=\"dataframe\">\n",
       "  <thead>\n",
       "    <tr style=\"text-align: right;\">\n",
       "      <th></th>\n",
       "      <th>High</th>\n",
       "      <th>Low</th>\n",
       "      <th>Open</th>\n",
       "      <th>Close</th>\n",
       "      <th>Volume</th>\n",
       "      <th>Adj Close</th>\n",
       "    </tr>\n",
       "    <tr>\n",
       "      <th>Date</th>\n",
       "      <th></th>\n",
       "      <th></th>\n",
       "      <th></th>\n",
       "      <th></th>\n",
       "      <th></th>\n",
       "      <th></th>\n",
       "    </tr>\n",
       "  </thead>\n",
       "  <tbody>\n",
       "    <tr>\n",
       "      <th>2015-01-02</th>\n",
       "      <td>78.930000</td>\n",
       "      <td>77.699997</td>\n",
       "      <td>78.580002</td>\n",
       "      <td>78.449997</td>\n",
       "      <td>18177500</td>\n",
       "      <td>78.449997</td>\n",
       "    </tr>\n",
       "    <tr>\n",
       "      <th>2015-01-05</th>\n",
       "      <td>79.250000</td>\n",
       "      <td>76.860001</td>\n",
       "      <td>77.980003</td>\n",
       "      <td>77.190002</td>\n",
       "      <td>26452200</td>\n",
       "      <td>77.190002</td>\n",
       "    </tr>\n",
       "    <tr>\n",
       "      <th>2015-01-06</th>\n",
       "      <td>77.589996</td>\n",
       "      <td>75.360001</td>\n",
       "      <td>77.230003</td>\n",
       "      <td>76.150002</td>\n",
       "      <td>27399300</td>\n",
       "      <td>76.150002</td>\n",
       "    </tr>\n",
       "    <tr>\n",
       "      <th>2015-01-07</th>\n",
       "      <td>77.360001</td>\n",
       "      <td>75.820000</td>\n",
       "      <td>76.760002</td>\n",
       "      <td>76.150002</td>\n",
       "      <td>22045300</td>\n",
       "      <td>76.150002</td>\n",
       "    </tr>\n",
       "    <tr>\n",
       "      <th>2015-01-08</th>\n",
       "      <td>78.230003</td>\n",
       "      <td>76.080002</td>\n",
       "      <td>76.739998</td>\n",
       "      <td>78.180000</td>\n",
       "      <td>23961000</td>\n",
       "      <td>78.180000</td>\n",
       "    </tr>\n",
       "  </tbody>\n",
       "</table>\n",
       "</div>"
      ],
      "text/plain": [
       "                 High        Low       Open      Close    Volume  Adj Close\n",
       "Date                                                                       \n",
       "2015-01-02  78.930000  77.699997  78.580002  78.449997  18177500  78.449997\n",
       "2015-01-05  79.250000  76.860001  77.980003  77.190002  26452200  77.190002\n",
       "2015-01-06  77.589996  75.360001  77.230003  76.150002  27399300  76.150002\n",
       "2015-01-07  77.360001  75.820000  76.760002  76.150002  22045300  76.150002\n",
       "2015-01-08  78.230003  76.080002  76.739998  78.180000  23961000  78.180000"
      ]
     },
     "execution_count": 4,
     "metadata": {},
     "output_type": "execute_result"
    }
   ],
   "source": [
    "# High, Low, Open, Close\n",
    "# Adj Close = Close adjusted in case a stock split or similar has occurred\n",
    "facebook.head()"
   ]
  },
  {
   "cell_type": "markdown",
   "metadata": {},
   "source": [
    "## Pandas DataReader: Import Options\n",
    "\n",
    "Requesting for option time series is deprecated as of now. It would have worked as follows:\n",
    "\n",
    "```python\n",
    "from pandas_datareader.data import Options\n",
    "fb_options = Options('FB','yahoo')\n",
    "options_df = fb_options.get_options_data(expiry=fb_options.expiry_dates[0])\n",
    "options_df.head()\n",
    "```"
   ]
  },
  {
   "cell_type": "markdown",
   "metadata": {},
   "source": [
    "## Quandl"
   ]
  },
  {
   "cell_type": "markdown",
   "metadata": {},
   "source": [
    "Quandl is a company and it charges for advanced options, but we're going to use the free tier.\n",
    "Many information is available.\n",
    "Create account and get API key from account settings.\n",
    "After logged in on the web, press `Explore` and browse free/premium datasets; we can\n",
    "- browse and filter them with the web interface\n",
    "- download them as CSVs\n",
    "- copy the python code to access them\n",
    "\n",
    "Some of the indicators I've found browsing Quandl\n",
    "- Stocks (= Equity, USA)\n",
    "- Real Estate (USA)\n",
    "- World Bank Data\n",
    "- Sentiment Data\n",
    "- Yale Indicators\n",
    "- ..."
   ]
  },
  {
   "cell_type": "markdown",
   "metadata": {},
   "source": [
    "Installation:\n",
    "\n",
    "    pip/3 install quandl\n",
    "    \n",
    "However, I had issues with the python versions, so I installed `quandl` through the notebook. Se below."
   ]
  },
  {
   "cell_type": "code",
   "execution_count": 6,
   "metadata": {},
   "outputs": [
    {
     "name": "stdout",
     "output_type": "stream",
     "text": [
      "Requirement already satisfied: quandl in /Users/mxagar/anaconda3/lib/python3.6/site-packages (3.6.1)\n",
      "Requirement already satisfied: pandas>=0.14 in /Users/mxagar/anaconda3/lib/python3.6/site-packages (from quandl) (1.1.5)\n",
      "Requirement already satisfied: inflection>=0.3.1 in /Users/mxagar/anaconda3/lib/python3.6/site-packages (from quandl) (0.5.1)\n",
      "Requirement already satisfied: python-dateutil in /Users/mxagar/anaconda3/lib/python3.6/site-packages (from quandl) (2.7.5)\n",
      "Requirement already satisfied: numpy>=1.8 in /Users/mxagar/anaconda3/lib/python3.6/site-packages (from quandl) (1.19.5)\n",
      "Requirement already satisfied: requests>=2.7.0 in /Users/mxagar/anaconda3/lib/python3.6/site-packages (from quandl) (2.21.0)\n",
      "Requirement already satisfied: more-itertools in /Users/mxagar/anaconda3/lib/python3.6/site-packages (from quandl) (5.0.0)\n",
      "Requirement already satisfied: six in /Users/mxagar/anaconda3/lib/python3.6/site-packages (from quandl) (1.15.0)\n",
      "Requirement already satisfied: pytz>=2017.2 in /Users/mxagar/anaconda3/lib/python3.6/site-packages (from pandas>=0.14->quandl) (2018.9)\n",
      "Requirement already satisfied: chardet<3.1.0,>=3.0.2 in /Users/mxagar/anaconda3/lib/python3.6/site-packages (from requests>=2.7.0->quandl) (3.0.4)\n",
      "Requirement already satisfied: urllib3<1.25,>=1.21.1 in /Users/mxagar/anaconda3/lib/python3.6/site-packages (from requests>=2.7.0->quandl) (1.24.1)\n",
      "Requirement already satisfied: idna<2.9,>=2.5 in /Users/mxagar/anaconda3/lib/python3.6/site-packages (from requests>=2.7.0->quandl) (2.8)\n",
      "Requirement already satisfied: certifi>=2017.4.17 in /Users/mxagar/anaconda3/lib/python3.6/site-packages (from requests>=2.7.0->quandl) (2019.11.28)\n"
     ]
    }
   ],
   "source": [
    "# I have problems with th epython version used in the conda environment\n",
    "# and in the jupyter notebook, which seems to be different (3.6.1 vs 3.9)\n",
    "# A quick & dirty fix consists in installing quandl from the notebook\n",
    "!pip install quandl"
   ]
  },
  {
   "cell_type": "code",
   "execution_count": 2,
   "metadata": {},
   "outputs": [],
   "source": [
    "import quandl"
   ]
  },
  {
   "cell_type": "code",
   "execution_count": 3,
   "metadata": {},
   "outputs": [],
   "source": [
    "# Load Quandl API key obtained from quandl.com and saved into a TXT file (local)\n",
    "# Make sure TXT file is only locally: add it to .gitignore to avoid uploading it!\n",
    "key_file = open('quandl_api_key.txt')\n",
    "lines = key_file.readlines()\n",
    "key = lines[0].split('\\n')[0]"
   ]
  },
  {
   "cell_type": "code",
   "execution_count": 4,
   "metadata": {},
   "outputs": [],
   "source": [
    "quandl.ApiConfig.api_key = key"
   ]
  },
  {
   "cell_type": "code",
   "execution_count": null,
   "metadata": {},
   "outputs": [],
   "source": []
  }
 ],
 "metadata": {
  "kernelspec": {
   "display_name": "Python 3",
   "language": "python",
   "name": "python3"
  },
  "language_info": {
   "codemirror_mode": {
    "name": "ipython",
    "version": 3
   },
   "file_extension": ".py",
   "mimetype": "text/x-python",
   "name": "python",
   "nbconvert_exporter": "python",
   "pygments_lexer": "ipython3",
   "version": "3.6.8"
  }
 },
 "nbformat": 4,
 "nbformat_minor": 2
}
