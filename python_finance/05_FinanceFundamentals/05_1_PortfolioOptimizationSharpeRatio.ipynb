{
 "cells": [
  {
   "cell_type": "markdown",
   "id": "70e93662-aa68-4225-98f0-987b57f33f43",
   "metadata": {},
   "source": [
    "# 5. Finance Fundamentals"
   ]
  },
  {
   "cell_type": "markdown",
   "id": "d81a884d-0d6b-475f-86b4-8ac88ab5a008",
   "metadata": {},
   "source": [
    "Overview of contents:\n",
    "- 5.1 Portfolio and Shape Ratio\n",
    "- 5.2 Portfolio Optimization\n",
    "- 5.3 Financial Tools\n",
    "- 5.4 CAMP Model\n",
    "- 5.5 Value of a Company"
   ]
  },
  {
   "cell_type": "markdown",
   "id": "5f744233-45e9-4c13-b3d5-12d6983c76ae",
   "metadata": {},
   "source": [
    "## 5.1 Portfolio and Sharpe Ratio"
   ]
  },
  {
   "cell_type": "markdown",
   "id": "051d8c90-c916-4304-bb8a-595ef2c2a3d5",
   "metadata": {},
   "source": [
    "In a portfolio, given a total investment amount, it is allocated for different assets, such that each asset has a percent value of the total investment in the portfolio.\n",
    "\n",
    "Key statistics of a portfolio:\n",
    "- Daily return\n",
    "- Cumulative return: amount returned after an entire period of time\n",
    "- Avg. daily return: mean of daily returns\n",
    "- Std. dev. of daily return = Volatility of the return\n",
    "- **Sharpe ratio**\n"
   ]
  },
  {
   "cell_type": "markdown",
   "id": "64addba7-4d6f-42e7-9cb7-9d5201a5495c",
   "metadata": {},
   "source": [
    "### Sharpe Ratio"
   ]
  },
  {
   "cell_type": "markdown",
   "id": "11d82f54-61a2-4fed-a336-45990312e320",
   "metadata": {},
   "source": [
    "The Sharpe ratio relates the mean daily return and the volatility (variance or standard deviation). That way, we can compute the **risk-adjusted return**.\n",
    "\n",
    "$S = \\frac{R_p - R_f}{\\sigma_p}$\n",
    "\n",
    "- $R_p$: expected portfolio return\n",
    "- $R_f$: risk-free return: return we would have had if we had put our money in an investment such as savings account, LIBOR, or treasury bonds that are essentially risk free. In the USA in 2017 that interest rate is almost 0%, so that is the one used in the course. However, it is expected that the FED will increase the interest return in the future.\n",
    "- $\\sigma_p$: portfolio standard deviation\n",
    "\n",
    "So, the higher $S$ the better, because we'd have high returns with low volatility!\n",
    "\n",
    "William Sharpe (Nobel laureate) originally presented the formula for **yearly returns**: mean daily returns and std. dev. of the whole year. However, we deal often with daily, weekly and monthly sampling series, thus the **anualized Sharpe ratio** is defined:\n",
    "\n",
    "`ASR = k * SR`\n",
    "\n",
    "k = \n",
    "- `sqrt(252)` for daily sampling series\n",
    "- `sqrt(52)` for weekly sampling series\n",
    "- `sqrt(12)` for monthly sampling series\n",
    "\n",
    "Annualized Sharpe Ratio (ASR) values:\n",
    "- 1: go-to for investors\n",
    "- 2: very good\n",
    "- 3: excellent\n"
   ]
  },
  {
   "cell_type": "markdown",
   "id": "d8ded820-252b-485a-accf-8bc4fd9ac4a6",
   "metadata": {},
   "source": [
    "### Portfolio Allocation: Initial Guess"
   ]
  },
  {
   "cell_type": "code",
   "execution_count": 4,
   "id": "b13acc13-9c29-4b09-a28a-140661d188ee",
   "metadata": {},
   "outputs": [],
   "source": [
    "import pandas as pd\n",
    "import numpy as np\n",
    "import quandl"
   ]
  },
  {
   "cell_type": "code",
   "execution_count": 5,
   "id": "bfa0eb2b-89ae-449c-9443-41f8a5f75b9b",
   "metadata": {},
   "outputs": [],
   "source": [
    "# Load Quandl API key obtained from quandl.com and saved into a TXT file (local)\n",
    "# Make sure TXT file is only locally: add it to .gitignore to avoid uploading it!\n",
    "key_file = open('../quandl_api_key.txt')\n",
    "lines = key_file.readlines()\n",
    "key = lines[0].split('\\n')[0]\n",
    "quandl.ApiConfig.api_key = key"
   ]
  },
  {
   "cell_type": "code",
   "execution_count": 6,
   "id": "5be5d3dd-8bc7-4230-b263-e5c075d143fa",
   "metadata": {},
   "outputs": [],
   "source": [
    "# Define start and end dates\n",
    "start = pd.to_datetime('2012-01-01')\n",
    "end = pd.to_datetime('2017-01-01')"
   ]
  },
  {
   "cell_type": "code",
   "execution_count": 7,
   "id": "e81c8d5b-8afc-4226-b9b8-038f151d6e7a",
   "metadata": {},
   "outputs": [],
   "source": [
    "# Get stock data.\n",
    "# 11: Adjusted Close\n",
    "aapl = quandl.get('WIKI/AAPL.11',start_date=start,end_date=end)\n",
    "cisco = quandl.get('WIKI/CSCO.11',start_date=start,end_date=end)\n",
    "ibm = quandl.get('WIKI/IBM.11',start_date=start,end_date=end)\n",
    "amzn = quandl.get('WIKI/AMZN.11',start_date=start,end_date=end)"
   ]
  },
  {
   "cell_type": "code",
   "execution_count": 8,
   "id": "956d1ee0-ade5-477f-8ba2-1df990e35505",
   "metadata": {},
   "outputs": [
    {
     "data": {
      "text/html": [
       "<div>\n",
       "<style scoped>\n",
       "    .dataframe tbody tr th:only-of-type {\n",
       "        vertical-align: middle;\n",
       "    }\n",
       "\n",
       "    .dataframe tbody tr th {\n",
       "        vertical-align: top;\n",
       "    }\n",
       "\n",
       "    .dataframe thead th {\n",
       "        text-align: right;\n",
       "    }\n",
       "</style>\n",
       "<table border=\"1\" class=\"dataframe\">\n",
       "  <thead>\n",
       "    <tr style=\"text-align: right;\">\n",
       "      <th></th>\n",
       "      <th>Adj. Close</th>\n",
       "    </tr>\n",
       "    <tr>\n",
       "      <th>Date</th>\n",
       "      <th></th>\n",
       "    </tr>\n",
       "  </thead>\n",
       "  <tbody>\n",
       "    <tr>\n",
       "      <th>2012-01-03</th>\n",
       "      <td>52.848787</td>\n",
       "    </tr>\n",
       "    <tr>\n",
       "      <th>2012-01-04</th>\n",
       "      <td>53.132802</td>\n",
       "    </tr>\n",
       "    <tr>\n",
       "      <th>2012-01-05</th>\n",
       "      <td>53.722681</td>\n",
       "    </tr>\n",
       "    <tr>\n",
       "      <th>2012-01-06</th>\n",
       "      <td>54.284287</td>\n",
       "    </tr>\n",
       "    <tr>\n",
       "      <th>2012-01-09</th>\n",
       "      <td>54.198183</td>\n",
       "    </tr>\n",
       "  </tbody>\n",
       "</table>\n",
       "</div>"
      ],
      "text/plain": [
       "            Adj. Close\n",
       "Date                  \n",
       "2012-01-03   52.848787\n",
       "2012-01-04   53.132802\n",
       "2012-01-05   53.722681\n",
       "2012-01-06   54.284287\n",
       "2012-01-09   54.198183"
      ]
     },
     "execution_count": 8,
     "metadata": {},
     "output_type": "execute_result"
    }
   ],
   "source": [
    "aapl.head()"
   ]
  },
  {
   "cell_type": "code",
   "execution_count": 9,
   "id": "e0d49c9c-5993-4362-bd17-b659fc6d3ce7",
   "metadata": {},
   "outputs": [
    {
     "data": {
      "text/plain": [
       "52.848786580038"
      ]
     },
     "execution_count": 9,
     "metadata": {},
     "output_type": "execute_result"
    }
   ],
   "source": [
    "# Value os stock on first day\n",
    "aapl.iloc[0]['Adj. Close']"
   ]
  },
  {
   "cell_type": "code",
   "execution_count": 10,
   "id": "3924ad0d-0275-49b4-a335-840d81efd39a",
   "metadata": {},
   "outputs": [],
   "source": [
    "# We create a new column: Normed return:\n",
    "# Cummulative return ratio wrt first day value\n",
    "for stock_df in (aapl,cisco,ibm,amzn):\n",
    "    stock_df['Normed Return'] = stock_df['Adj. Close'] / stock_df.iloc[0]['Adj. Close']"
   ]
  },
  {
   "cell_type": "code",
   "execution_count": 11,
   "id": "4c08bc9a-a6e6-48f2-8fc6-0e5eb211aa83",
   "metadata": {},
   "outputs": [
    {
     "data": {
      "text/html": [
       "<div>\n",
       "<style scoped>\n",
       "    .dataframe tbody tr th:only-of-type {\n",
       "        vertical-align: middle;\n",
       "    }\n",
       "\n",
       "    .dataframe tbody tr th {\n",
       "        vertical-align: top;\n",
       "    }\n",
       "\n",
       "    .dataframe thead th {\n",
       "        text-align: right;\n",
       "    }\n",
       "</style>\n",
       "<table border=\"1\" class=\"dataframe\">\n",
       "  <thead>\n",
       "    <tr style=\"text-align: right;\">\n",
       "      <th></th>\n",
       "      <th>Adj. Close</th>\n",
       "      <th>Normed Return</th>\n",
       "    </tr>\n",
       "    <tr>\n",
       "      <th>Date</th>\n",
       "      <th></th>\n",
       "      <th></th>\n",
       "    </tr>\n",
       "  </thead>\n",
       "  <tbody>\n",
       "    <tr>\n",
       "      <th>2012-01-03</th>\n",
       "      <td>52.848787</td>\n",
       "      <td>1.000000</td>\n",
       "    </tr>\n",
       "    <tr>\n",
       "      <th>2012-01-04</th>\n",
       "      <td>53.132802</td>\n",
       "      <td>1.005374</td>\n",
       "    </tr>\n",
       "    <tr>\n",
       "      <th>2012-01-05</th>\n",
       "      <td>53.722681</td>\n",
       "      <td>1.016536</td>\n",
       "    </tr>\n",
       "    <tr>\n",
       "      <th>2012-01-06</th>\n",
       "      <td>54.284287</td>\n",
       "      <td>1.027162</td>\n",
       "    </tr>\n",
       "    <tr>\n",
       "      <th>2012-01-09</th>\n",
       "      <td>54.198183</td>\n",
       "      <td>1.025533</td>\n",
       "    </tr>\n",
       "  </tbody>\n",
       "</table>\n",
       "</div>"
      ],
      "text/plain": [
       "            Adj. Close  Normed Return\n",
       "Date                                 \n",
       "2012-01-03   52.848787       1.000000\n",
       "2012-01-04   53.132802       1.005374\n",
       "2012-01-05   53.722681       1.016536\n",
       "2012-01-06   54.284287       1.027162\n",
       "2012-01-09   54.198183       1.025533"
      ]
     },
     "execution_count": 11,
     "metadata": {},
     "output_type": "execute_result"
    }
   ],
   "source": [
    "aapl.head()"
   ]
  },
  {
   "cell_type": "code",
   "execution_count": 12,
   "id": "cf1b0f95-06b4-414f-8e18-25388121a7f4",
   "metadata": {},
   "outputs": [
    {
     "data": {
      "text/html": [
       "<div>\n",
       "<style scoped>\n",
       "    .dataframe tbody tr th:only-of-type {\n",
       "        vertical-align: middle;\n",
       "    }\n",
       "\n",
       "    .dataframe tbody tr th {\n",
       "        vertical-align: top;\n",
       "    }\n",
       "\n",
       "    .dataframe thead th {\n",
       "        text-align: right;\n",
       "    }\n",
       "</style>\n",
       "<table border=\"1\" class=\"dataframe\">\n",
       "  <thead>\n",
       "    <tr style=\"text-align: right;\">\n",
       "      <th></th>\n",
       "      <th>Adj. Close</th>\n",
       "      <th>Normed Return</th>\n",
       "    </tr>\n",
       "    <tr>\n",
       "      <th>Date</th>\n",
       "      <th></th>\n",
       "      <th></th>\n",
       "    </tr>\n",
       "  </thead>\n",
       "  <tbody>\n",
       "    <tr>\n",
       "      <th>2016-12-23</th>\n",
       "      <td>115.080808</td>\n",
       "      <td>2.177549</td>\n",
       "    </tr>\n",
       "    <tr>\n",
       "      <th>2016-12-27</th>\n",
       "      <td>115.811668</td>\n",
       "      <td>2.191378</td>\n",
       "    </tr>\n",
       "    <tr>\n",
       "      <th>2016-12-28</th>\n",
       "      <td>115.317843</td>\n",
       "      <td>2.182034</td>\n",
       "    </tr>\n",
       "    <tr>\n",
       "      <th>2016-12-29</th>\n",
       "      <td>115.288214</td>\n",
       "      <td>2.181473</td>\n",
       "    </tr>\n",
       "    <tr>\n",
       "      <th>2016-12-30</th>\n",
       "      <td>114.389454</td>\n",
       "      <td>2.164467</td>\n",
       "    </tr>\n",
       "  </tbody>\n",
       "</table>\n",
       "</div>"
      ],
      "text/plain": [
       "            Adj. Close  Normed Return\n",
       "Date                                 \n",
       "2016-12-23  115.080808       2.177549\n",
       "2016-12-27  115.811668       2.191378\n",
       "2016-12-28  115.317843       2.182034\n",
       "2016-12-29  115.288214       2.181473\n",
       "2016-12-30  114.389454       2.164467"
      ]
     },
     "execution_count": 12,
     "metadata": {},
     "output_type": "execute_result"
    }
   ],
   "source": [
    "aapl.tail()"
   ]
  },
  {
   "cell_type": "code",
   "execution_count": 13,
   "id": "fd0e7ce1-6b81-4ca3-9711-f8a6b2adb770",
   "metadata": {},
   "outputs": [],
   "source": [
    "# Portfolio allocation\n",
    "# We start with a fixed allocation\n",
    "# and plot how our investment would have evolved\n",
    "# 30% Apple\n",
    "# 20% Cisco\n",
    "# 40% Amazon\n",
    "# 10% IBM"
   ]
  },
  {
   "cell_type": "code",
   "execution_count": 14,
   "id": "26875d5d-c5e5-4304-862a-f62a0bb032ca",
   "metadata": {},
   "outputs": [],
   "source": [
    "# Cummulative return ratio * allocation %\n",
    "for stock_df, allo in zip((aapl,cisco,ibm,amzn),[0.3,0.2,0.4,0.1]):\n",
    "    stock_df['Allocation'] = stock_df['Normed Return']*allo"
   ]
  },
  {
   "cell_type": "code",
   "execution_count": 15,
   "id": "60a761f9-b1e2-4528-bec7-01d1ca557c11",
   "metadata": {},
   "outputs": [
    {
     "data": {
      "text/html": [
       "<div>\n",
       "<style scoped>\n",
       "    .dataframe tbody tr th:only-of-type {\n",
       "        vertical-align: middle;\n",
       "    }\n",
       "\n",
       "    .dataframe tbody tr th {\n",
       "        vertical-align: top;\n",
       "    }\n",
       "\n",
       "    .dataframe thead th {\n",
       "        text-align: right;\n",
       "    }\n",
       "</style>\n",
       "<table border=\"1\" class=\"dataframe\">\n",
       "  <thead>\n",
       "    <tr style=\"text-align: right;\">\n",
       "      <th></th>\n",
       "      <th>Adj. Close</th>\n",
       "      <th>Normed Return</th>\n",
       "      <th>Allocation</th>\n",
       "    </tr>\n",
       "    <tr>\n",
       "      <th>Date</th>\n",
       "      <th></th>\n",
       "      <th></th>\n",
       "      <th></th>\n",
       "    </tr>\n",
       "  </thead>\n",
       "  <tbody>\n",
       "    <tr>\n",
       "      <th>2012-01-03</th>\n",
       "      <td>52.848787</td>\n",
       "      <td>1.000000</td>\n",
       "      <td>0.300000</td>\n",
       "    </tr>\n",
       "    <tr>\n",
       "      <th>2012-01-04</th>\n",
       "      <td>53.132802</td>\n",
       "      <td>1.005374</td>\n",
       "      <td>0.301612</td>\n",
       "    </tr>\n",
       "    <tr>\n",
       "      <th>2012-01-05</th>\n",
       "      <td>53.722681</td>\n",
       "      <td>1.016536</td>\n",
       "      <td>0.304961</td>\n",
       "    </tr>\n",
       "    <tr>\n",
       "      <th>2012-01-06</th>\n",
       "      <td>54.284287</td>\n",
       "      <td>1.027162</td>\n",
       "      <td>0.308149</td>\n",
       "    </tr>\n",
       "    <tr>\n",
       "      <th>2012-01-09</th>\n",
       "      <td>54.198183</td>\n",
       "      <td>1.025533</td>\n",
       "      <td>0.307660</td>\n",
       "    </tr>\n",
       "  </tbody>\n",
       "</table>\n",
       "</div>"
      ],
      "text/plain": [
       "            Adj. Close  Normed Return  Allocation\n",
       "Date                                             \n",
       "2012-01-03   52.848787       1.000000    0.300000\n",
       "2012-01-04   53.132802       1.005374    0.301612\n",
       "2012-01-05   53.722681       1.016536    0.304961\n",
       "2012-01-06   54.284287       1.027162    0.308149\n",
       "2012-01-09   54.198183       1.025533    0.307660"
      ]
     },
     "execution_count": 15,
     "metadata": {},
     "output_type": "execute_result"
    }
   ],
   "source": [
    "aapl.head()"
   ]
  },
  {
   "cell_type": "code",
   "execution_count": 16,
   "id": "1fe157be-ac32-41d8-95ed-4a42a434f6e5",
   "metadata": {},
   "outputs": [],
   "source": [
    "# Now we select an investment amount\n",
    "# and compute its distribution and development\n",
    "totalInvestment = 1000000\n",
    "for stock_df in (aapl,cisco,ibm,amzn):\n",
    "    stock_df['Position Values'] = stock_df['Allocation']*totalInvestment"
   ]
  },
  {
   "cell_type": "code",
   "execution_count": 17,
   "id": "ea81e751-64ec-4dc3-81dc-87dc0e82ecda",
   "metadata": {},
   "outputs": [
    {
     "data": {
      "text/html": [
       "<div>\n",
       "<style scoped>\n",
       "    .dataframe tbody tr th:only-of-type {\n",
       "        vertical-align: middle;\n",
       "    }\n",
       "\n",
       "    .dataframe tbody tr th {\n",
       "        vertical-align: top;\n",
       "    }\n",
       "\n",
       "    .dataframe thead th {\n",
       "        text-align: right;\n",
       "    }\n",
       "</style>\n",
       "<table border=\"1\" class=\"dataframe\">\n",
       "  <thead>\n",
       "    <tr style=\"text-align: right;\">\n",
       "      <th></th>\n",
       "      <th>Adj. Close</th>\n",
       "      <th>Normed Return</th>\n",
       "      <th>Allocation</th>\n",
       "      <th>Position Values</th>\n",
       "    </tr>\n",
       "    <tr>\n",
       "      <th>Date</th>\n",
       "      <th></th>\n",
       "      <th></th>\n",
       "      <th></th>\n",
       "      <th></th>\n",
       "    </tr>\n",
       "  </thead>\n",
       "  <tbody>\n",
       "    <tr>\n",
       "      <th>2012-01-03</th>\n",
       "      <td>52.848787</td>\n",
       "      <td>1.000000</td>\n",
       "      <td>0.300000</td>\n",
       "      <td>300000.000000</td>\n",
       "    </tr>\n",
       "    <tr>\n",
       "      <th>2012-01-04</th>\n",
       "      <td>53.132802</td>\n",
       "      <td>1.005374</td>\n",
       "      <td>0.301612</td>\n",
       "      <td>301612.236461</td>\n",
       "    </tr>\n",
       "    <tr>\n",
       "      <th>2012-01-05</th>\n",
       "      <td>53.722681</td>\n",
       "      <td>1.016536</td>\n",
       "      <td>0.304961</td>\n",
       "      <td>304960.727573</td>\n",
       "    </tr>\n",
       "    <tr>\n",
       "      <th>2012-01-06</th>\n",
       "      <td>54.284287</td>\n",
       "      <td>1.027162</td>\n",
       "      <td>0.308149</td>\n",
       "      <td>308148.724558</td>\n",
       "    </tr>\n",
       "    <tr>\n",
       "      <th>2012-01-09</th>\n",
       "      <td>54.198183</td>\n",
       "      <td>1.025533</td>\n",
       "      <td>0.307660</td>\n",
       "      <td>307659.946988</td>\n",
       "    </tr>\n",
       "  </tbody>\n",
       "</table>\n",
       "</div>"
      ],
      "text/plain": [
       "            Adj. Close  Normed Return  Allocation  Position Values\n",
       "Date                                                              \n",
       "2012-01-03   52.848787       1.000000    0.300000    300000.000000\n",
       "2012-01-04   53.132802       1.005374    0.301612    301612.236461\n",
       "2012-01-05   53.722681       1.016536    0.304961    304960.727573\n",
       "2012-01-06   54.284287       1.027162    0.308149    308148.724558\n",
       "2012-01-09   54.198183       1.025533    0.307660    307659.946988"
      ]
     },
     "execution_count": 17,
     "metadata": {},
     "output_type": "execute_result"
    }
   ],
   "source": [
    "aapl.head()"
   ]
  },
  {
   "cell_type": "code",
   "execution_count": 18,
   "id": "9e65012f-73bd-4b2b-866f-ab0edb9db866",
   "metadata": {},
   "outputs": [],
   "source": [
    "# We create a single dataframe\n",
    "# which contains all position values\n",
    "all_pos_vals = [aapl['Position Values'],\n",
    "               cisco['Position Values'],\n",
    "               ibm['Position Values'],\n",
    "               amzn['Position Values']]"
   ]
  },
  {
   "cell_type": "code",
   "execution_count": 19,
   "id": "a7034ec7-eb01-437f-b9c0-ba2e8ba00268",
   "metadata": {},
   "outputs": [],
   "source": [
    "portfolio_val = pd.concat(all_pos_vals,axis=1)"
   ]
  },
  {
   "cell_type": "code",
   "execution_count": 20,
   "id": "9ddf10c8-f838-41e7-9fe3-0b639ad77819",
   "metadata": {},
   "outputs": [],
   "source": [
    "portfolio_val.columns = ['AAPL', 'CISCO', 'IBM', 'AMZN']"
   ]
  },
  {
   "cell_type": "code",
   "execution_count": 21,
   "id": "d3573f85-8771-4ebd-bf4d-03a6591ac7da",
   "metadata": {},
   "outputs": [],
   "source": [
    "# Total portfolio position value\n",
    "portfolio_val['Total Position'] = portfolio_val.sum(axis = 1)"
   ]
  },
  {
   "cell_type": "code",
   "execution_count": 22,
   "id": "4be8dd09-2de8-443f-a0d5-cdd75cc90d7e",
   "metadata": {},
   "outputs": [
    {
     "data": {
      "text/html": [
       "<div>\n",
       "<style scoped>\n",
       "    .dataframe tbody tr th:only-of-type {\n",
       "        vertical-align: middle;\n",
       "    }\n",
       "\n",
       "    .dataframe tbody tr th {\n",
       "        vertical-align: top;\n",
       "    }\n",
       "\n",
       "    .dataframe thead th {\n",
       "        text-align: right;\n",
       "    }\n",
       "</style>\n",
       "<table border=\"1\" class=\"dataframe\">\n",
       "  <thead>\n",
       "    <tr style=\"text-align: right;\">\n",
       "      <th></th>\n",
       "      <th>AAPL</th>\n",
       "      <th>CISCO</th>\n",
       "      <th>IBM</th>\n",
       "      <th>AMZN</th>\n",
       "      <th>Total Position</th>\n",
       "    </tr>\n",
       "    <tr>\n",
       "      <th>Date</th>\n",
       "      <th></th>\n",
       "      <th></th>\n",
       "      <th></th>\n",
       "      <th></th>\n",
       "      <th></th>\n",
       "    </tr>\n",
       "  </thead>\n",
       "  <tbody>\n",
       "    <tr>\n",
       "      <th>2012-01-03</th>\n",
       "      <td>300000.000000</td>\n",
       "      <td>200000.000000</td>\n",
       "      <td>400000.000000</td>\n",
       "      <td>100000.000000</td>\n",
       "      <td>1.000000e+06</td>\n",
       "    </tr>\n",
       "    <tr>\n",
       "      <th>2012-01-04</th>\n",
       "      <td>301612.236461</td>\n",
       "      <td>203864.734300</td>\n",
       "      <td>398368.223296</td>\n",
       "      <td>99150.980283</td>\n",
       "      <td>1.002996e+06</td>\n",
       "    </tr>\n",
       "    <tr>\n",
       "      <th>2012-01-05</th>\n",
       "      <td>304960.727573</td>\n",
       "      <td>203113.258186</td>\n",
       "      <td>396478.797638</td>\n",
       "      <td>99206.836843</td>\n",
       "      <td>1.003760e+06</td>\n",
       "    </tr>\n",
       "    <tr>\n",
       "      <th>2012-01-06</th>\n",
       "      <td>308148.724558</td>\n",
       "      <td>202361.782072</td>\n",
       "      <td>391926.999463</td>\n",
       "      <td>101999.664861</td>\n",
       "      <td>1.004437e+06</td>\n",
       "    </tr>\n",
       "    <tr>\n",
       "      <th>2012-01-09</th>\n",
       "      <td>307659.946988</td>\n",
       "      <td>203650.026838</td>\n",
       "      <td>389887.278583</td>\n",
       "      <td>99737.474166</td>\n",
       "      <td>1.000935e+06</td>\n",
       "    </tr>\n",
       "  </tbody>\n",
       "</table>\n",
       "</div>"
      ],
      "text/plain": [
       "                     AAPL          CISCO            IBM           AMZN  \\\n",
       "Date                                                                     \n",
       "2012-01-03  300000.000000  200000.000000  400000.000000  100000.000000   \n",
       "2012-01-04  301612.236461  203864.734300  398368.223296   99150.980283   \n",
       "2012-01-05  304960.727573  203113.258186  396478.797638   99206.836843   \n",
       "2012-01-06  308148.724558  202361.782072  391926.999463  101999.664861   \n",
       "2012-01-09  307659.946988  203650.026838  389887.278583   99737.474166   \n",
       "\n",
       "            Total Position  \n",
       "Date                        \n",
       "2012-01-03    1.000000e+06  \n",
       "2012-01-04    1.002996e+06  \n",
       "2012-01-05    1.003760e+06  \n",
       "2012-01-06    1.004437e+06  \n",
       "2012-01-09    1.000935e+06  "
      ]
     },
     "execution_count": 22,
     "metadata": {},
     "output_type": "execute_result"
    }
   ],
   "source": [
    "portfolio_val.head()"
   ]
  },
  {
   "cell_type": "code",
   "execution_count": 23,
   "id": "18ee1280-abd0-468a-86ea-85af4a3be2e4",
   "metadata": {},
   "outputs": [
    {
     "data": {
      "text/html": [
       "<div>\n",
       "<style scoped>\n",
       "    .dataframe tbody tr th:only-of-type {\n",
       "        vertical-align: middle;\n",
       "    }\n",
       "\n",
       "    .dataframe tbody tr th {\n",
       "        vertical-align: top;\n",
       "    }\n",
       "\n",
       "    .dataframe thead th {\n",
       "        text-align: right;\n",
       "    }\n",
       "</style>\n",
       "<table border=\"1\" class=\"dataframe\">\n",
       "  <thead>\n",
       "    <tr style=\"text-align: right;\">\n",
       "      <th></th>\n",
       "      <th>AAPL</th>\n",
       "      <th>CISCO</th>\n",
       "      <th>IBM</th>\n",
       "      <th>AMZN</th>\n",
       "      <th>Total Position</th>\n",
       "    </tr>\n",
       "    <tr>\n",
       "      <th>Date</th>\n",
       "      <th></th>\n",
       "      <th></th>\n",
       "      <th></th>\n",
       "      <th></th>\n",
       "      <th></th>\n",
       "    </tr>\n",
       "  </thead>\n",
       "  <tbody>\n",
       "    <tr>\n",
       "      <th>2016-12-23</th>\n",
       "      <td>653264.617079</td>\n",
       "      <td>377469.015679</td>\n",
       "      <td>407359.955612</td>\n",
       "      <td>424839.412389</td>\n",
       "      <td>1.862933e+06</td>\n",
       "    </tr>\n",
       "    <tr>\n",
       "      <th>2016-12-27</th>\n",
       "      <td>657413.396830</td>\n",
       "      <td>379323.596496</td>\n",
       "      <td>408410.671112</td>\n",
       "      <td>430877.506563</td>\n",
       "      <td>1.876025e+06</td>\n",
       "    </tr>\n",
       "    <tr>\n",
       "      <th>2016-12-28</th>\n",
       "      <td>654610.167268</td>\n",
       "      <td>376108.989746</td>\n",
       "      <td>406089.322915</td>\n",
       "      <td>431285.259454</td>\n",
       "      <td>1.868094e+06</td>\n",
       "    </tr>\n",
       "    <tr>\n",
       "      <th>2016-12-29</th>\n",
       "      <td>654441.973495</td>\n",
       "      <td>376603.544631</td>\n",
       "      <td>407091.167926</td>\n",
       "      <td>427386.471541</td>\n",
       "      <td>1.865523e+06</td>\n",
       "    </tr>\n",
       "    <tr>\n",
       "      <th>2016-12-30</th>\n",
       "      <td>649340.095692</td>\n",
       "      <td>373636.215323</td>\n",
       "      <td>405600.618032</td>\n",
       "      <td>418851.589119</td>\n",
       "      <td>1.847429e+06</td>\n",
       "    </tr>\n",
       "  </tbody>\n",
       "</table>\n",
       "</div>"
      ],
      "text/plain": [
       "                     AAPL          CISCO            IBM           AMZN  \\\n",
       "Date                                                                     \n",
       "2016-12-23  653264.617079  377469.015679  407359.955612  424839.412389   \n",
       "2016-12-27  657413.396830  379323.596496  408410.671112  430877.506563   \n",
       "2016-12-28  654610.167268  376108.989746  406089.322915  431285.259454   \n",
       "2016-12-29  654441.973495  376603.544631  407091.167926  427386.471541   \n",
       "2016-12-30  649340.095692  373636.215323  405600.618032  418851.589119   \n",
       "\n",
       "            Total Position  \n",
       "Date                        \n",
       "2016-12-23    1.862933e+06  \n",
       "2016-12-27    1.876025e+06  \n",
       "2016-12-28    1.868094e+06  \n",
       "2016-12-29    1.865523e+06  \n",
       "2016-12-30    1.847429e+06  "
      ]
     },
     "execution_count": 23,
     "metadata": {},
     "output_type": "execute_result"
    }
   ],
   "source": [
    "portfolio_val.tail()"
   ]
  },
  {
   "cell_type": "code",
   "execution_count": 24,
   "id": "5f850eb4-d94f-42f9-bbc4-c389dd1392d6",
   "metadata": {},
   "outputs": [],
   "source": [
    "import matplotlib.pyplot as plt\n",
    "%matplotlib inline"
   ]
  },
  {
   "cell_type": "code",
   "execution_count": 25,
   "id": "d4b1b7d5-9c35-4414-b9f0-91234f086812",
   "metadata": {},
   "outputs": [
    {
     "data": {
      "text/plain": [
       "Text(0.5, 1.0, 'Total Portfolio Value')"
      ]
     },
     "execution_count": 25,
     "metadata": {},
     "output_type": "execute_result"
    },
    {
     "data": {
      "image/png": "[encoded data removed]",
      "text/plain": [
       "<Figure size 720x576 with 1 Axes>"
      ]
     },
     "metadata": {
      "needs_background": "light"
     },
     "output_type": "display_data"
    }
   ],
   "source": [
    "# Total portfolio value development\n",
    "portfolio_val['Total Position'].plot(figsize=(10,8))\n",
    "plt.title('Total Portfolio Value')"
   ]
  },
  {
   "cell_type": "code",
   "execution_count": 26,
   "id": "cdbdf695-7dd9-46d4-a9ea-7e2e7f5f3ee2",
   "metadata": {},
   "outputs": [
    {
     "data": {
      "text/plain": [
       "<AxesSubplot:xlabel='Date'>"
      ]
     },
     "execution_count": 26,
     "metadata": {},
     "output_type": "execute_result"
    },
    {
     "data": {
      "image/png": "[encoded data removed]",
      "text/plain": [
       "<Figure size 720x576 with 1 Axes>"
      ]
     },
     "metadata": {
      "needs_background": "light"
     },
     "output_type": "display_data"
    }
   ],
   "source": [
    "# Value development of single portfolio stocks\n",
    "portfolio_val.drop('Total Position',axis=1).plot(figsize=(10,8))"
   ]
  },
  {
   "cell_type": "markdown",
   "id": "71d3645b-a060-4095-a389-b1e97d2f3352",
   "metadata": {},
   "source": [
    "### Portfolio Allocation: Sharpe Ratio Computation"
   ]
  },
  {
   "cell_type": "code",
   "execution_count": 27,
   "id": "6351a71b-6bf8-42bb-a2c5-14209fcda050",
   "metadata": {},
   "outputs": [
    {
     "data": {
      "text/html": [
       "<div>\n",
       "<style scoped>\n",
       "    .dataframe tbody tr th:only-of-type {\n",
       "        vertical-align: middle;\n",
       "    }\n",
       "\n",
       "    .dataframe tbody tr th {\n",
       "        vertical-align: top;\n",
       "    }\n",
       "\n",
       "    .dataframe thead th {\n",
       "        text-align: right;\n",
       "    }\n",
       "</style>\n",
       "<table border=\"1\" class=\"dataframe\">\n",
       "  <thead>\n",
       "    <tr style=\"text-align: right;\">\n",
       "      <th></th>\n",
       "      <th>AAPL</th>\n",
       "      <th>CISCO</th>\n",
       "      <th>IBM</th>\n",
       "      <th>AMZN</th>\n",
       "      <th>Total Position</th>\n",
       "    </tr>\n",
       "    <tr>\n",
       "      <th>Date</th>\n",
       "      <th></th>\n",
       "      <th></th>\n",
       "      <th></th>\n",
       "      <th></th>\n",
       "      <th></th>\n",
       "    </tr>\n",
       "  </thead>\n",
       "  <tbody>\n",
       "    <tr>\n",
       "      <th>2012-01-03</th>\n",
       "      <td>300000.000000</td>\n",
       "      <td>200000.000000</td>\n",
       "      <td>400000.000000</td>\n",
       "      <td>100000.000000</td>\n",
       "      <td>1.000000e+06</td>\n",
       "    </tr>\n",
       "    <tr>\n",
       "      <th>2012-01-04</th>\n",
       "      <td>301612.236461</td>\n",
       "      <td>203864.734300</td>\n",
       "      <td>398368.223296</td>\n",
       "      <td>99150.980283</td>\n",
       "      <td>1.002996e+06</td>\n",
       "    </tr>\n",
       "    <tr>\n",
       "      <th>2012-01-05</th>\n",
       "      <td>304960.727573</td>\n",
       "      <td>203113.258186</td>\n",
       "      <td>396478.797638</td>\n",
       "      <td>99206.836843</td>\n",
       "      <td>1.003760e+06</td>\n",
       "    </tr>\n",
       "    <tr>\n",
       "      <th>2012-01-06</th>\n",
       "      <td>308148.724558</td>\n",
       "      <td>202361.782072</td>\n",
       "      <td>391926.999463</td>\n",
       "      <td>101999.664861</td>\n",
       "      <td>1.004437e+06</td>\n",
       "    </tr>\n",
       "    <tr>\n",
       "      <th>2012-01-09</th>\n",
       "      <td>307659.946988</td>\n",
       "      <td>203650.026838</td>\n",
       "      <td>389887.278583</td>\n",
       "      <td>99737.474166</td>\n",
       "      <td>1.000935e+06</td>\n",
       "    </tr>\n",
       "  </tbody>\n",
       "</table>\n",
       "</div>"
      ],
      "text/plain": [
       "                     AAPL          CISCO            IBM           AMZN  \\\n",
       "Date                                                                     \n",
       "2012-01-03  300000.000000  200000.000000  400000.000000  100000.000000   \n",
       "2012-01-04  301612.236461  203864.734300  398368.223296   99150.980283   \n",
       "2012-01-05  304960.727573  203113.258186  396478.797638   99206.836843   \n",
       "2012-01-06  308148.724558  202361.782072  391926.999463  101999.664861   \n",
       "2012-01-09  307659.946988  203650.026838  389887.278583   99737.474166   \n",
       "\n",
       "            Total Position  \n",
       "Date                        \n",
       "2012-01-03    1.000000e+06  \n",
       "2012-01-04    1.002996e+06  \n",
       "2012-01-05    1.003760e+06  \n",
       "2012-01-06    1.004437e+06  \n",
       "2012-01-09    1.000935e+06  "
      ]
     },
     "execution_count": 27,
     "metadata": {},
     "output_type": "execute_result"
    }
   ],
   "source": [
    "portfolio_val.head()"
   ]
  },
  {
   "cell_type": "code",
   "execution_count": 28,
   "id": "d296d6ab-5a51-4b66-bf62-fa05d8888cf5",
   "metadata": {},
   "outputs": [],
   "source": [
    "# Daily returns: (r(t)-r(t-1))/r(t-1)\n",
    "# We can also compute it with .pct_change()\n",
    "portfolio_val['Daily Return'] = portfolio_val['Total Position'].pct_change(1)"
   ]
  },
  {
   "cell_type": "code",
   "execution_count": 29,
   "id": "ec8964da-2017-475b-8519-80dc2deb6286",
   "metadata": {},
   "outputs": [
    {
     "data": {
      "text/html": [
       "<div>\n",
       "<style scoped>\n",
       "    .dataframe tbody tr th:only-of-type {\n",
       "        vertical-align: middle;\n",
       "    }\n",
       "\n",
       "    .dataframe tbody tr th {\n",
       "        vertical-align: top;\n",
       "    }\n",
       "\n",
       "    .dataframe thead th {\n",
       "        text-align: right;\n",
       "    }\n",
       "</style>\n",
       "<table border=\"1\" class=\"dataframe\">\n",
       "  <thead>\n",
       "    <tr style=\"text-align: right;\">\n",
       "      <th></th>\n",
       "      <th>AAPL</th>\n",
       "      <th>CISCO</th>\n",
       "      <th>IBM</th>\n",
       "      <th>AMZN</th>\n",
       "      <th>Total Position</th>\n",
       "      <th>Daily Return</th>\n",
       "    </tr>\n",
       "    <tr>\n",
       "      <th>Date</th>\n",
       "      <th></th>\n",
       "      <th></th>\n",
       "      <th></th>\n",
       "      <th></th>\n",
       "      <th></th>\n",
       "      <th></th>\n",
       "    </tr>\n",
       "  </thead>\n",
       "  <tbody>\n",
       "    <tr>\n",
       "      <th>2012-01-03</th>\n",
       "      <td>300000.000000</td>\n",
       "      <td>200000.000000</td>\n",
       "      <td>400000.000000</td>\n",
       "      <td>100000.000000</td>\n",
       "      <td>1.000000e+06</td>\n",
       "      <td>NaN</td>\n",
       "    </tr>\n",
       "    <tr>\n",
       "      <th>2012-01-04</th>\n",
       "      <td>301612.236461</td>\n",
       "      <td>203864.734300</td>\n",
       "      <td>398368.223296</td>\n",
       "      <td>99150.980283</td>\n",
       "      <td>1.002996e+06</td>\n",
       "      <td>0.002996</td>\n",
       "    </tr>\n",
       "    <tr>\n",
       "      <th>2012-01-05</th>\n",
       "      <td>304960.727573</td>\n",
       "      <td>203113.258186</td>\n",
       "      <td>396478.797638</td>\n",
       "      <td>99206.836843</td>\n",
       "      <td>1.003760e+06</td>\n",
       "      <td>0.000761</td>\n",
       "    </tr>\n",
       "    <tr>\n",
       "      <th>2012-01-06</th>\n",
       "      <td>308148.724558</td>\n",
       "      <td>202361.782072</td>\n",
       "      <td>391926.999463</td>\n",
       "      <td>101999.664861</td>\n",
       "      <td>1.004437e+06</td>\n",
       "      <td>0.000675</td>\n",
       "    </tr>\n",
       "    <tr>\n",
       "      <th>2012-01-09</th>\n",
       "      <td>307659.946988</td>\n",
       "      <td>203650.026838</td>\n",
       "      <td>389887.278583</td>\n",
       "      <td>99737.474166</td>\n",
       "      <td>1.000935e+06</td>\n",
       "      <td>-0.003487</td>\n",
       "    </tr>\n",
       "  </tbody>\n",
       "</table>\n",
       "</div>"
      ],
      "text/plain": [
       "                     AAPL          CISCO            IBM           AMZN  \\\n",
       "Date                                                                     \n",
       "2012-01-03  300000.000000  200000.000000  400000.000000  100000.000000   \n",
       "2012-01-04  301612.236461  203864.734300  398368.223296   99150.980283   \n",
       "2012-01-05  304960.727573  203113.258186  396478.797638   99206.836843   \n",
       "2012-01-06  308148.724558  202361.782072  391926.999463  101999.664861   \n",
       "2012-01-09  307659.946988  203650.026838  389887.278583   99737.474166   \n",
       "\n",
       "            Total Position  Daily Return  \n",
       "Date                                      \n",
       "2012-01-03    1.000000e+06           NaN  \n",
       "2012-01-04    1.002996e+06      0.002996  \n",
       "2012-01-05    1.003760e+06      0.000761  \n",
       "2012-01-06    1.004437e+06      0.000675  \n",
       "2012-01-09    1.000935e+06     -0.003487  "
      ]
     },
     "execution_count": 29,
     "metadata": {},
     "output_type": "execute_result"
    }
   ],
   "source": [
    "portfolio_val.head()"
   ]
  },
  {
   "cell_type": "code",
   "execution_count": 30,
   "id": "3ab06ed3-4e20-40d5-b412-2f115ce468f4",
   "metadata": {},
   "outputs": [
    {
     "data": {
      "text/plain": [
       "0.0005442330716215244"
      ]
     },
     "execution_count": 30,
     "metadata": {},
     "output_type": "execute_result"
    }
   ],
   "source": [
    "# Average daily return\n",
    "portfolio_val['Daily Return'].mean()"
   ]
  },
  {
   "cell_type": "code",
   "execution_count": 31,
   "id": "27713d9d-d3c0-4cc6-9d44-62168eaa4aa5",
   "metadata": {},
   "outputs": [
    {
     "data": {
      "text/plain": [
       "0.010568287769161725"
      ]
     },
     "execution_count": 31,
     "metadata": {},
     "output_type": "execute_result"
    }
   ],
   "source": [
    "# Standard deviation of daily return\n",
    "portfolio_val['Daily Return'].std()"
   ]
  },
  {
   "cell_type": "code",
   "execution_count": 32,
   "id": "5844479f-e505-4917-89f0-32d6dfbd7046",
   "metadata": {},
   "outputs": [
    {
     "data": {
      "text/plain": [
       "<AxesSubplot:ylabel='Frequency'>"
      ]
     },
     "execution_count": 32,
     "metadata": {},
     "output_type": "execute_result"
    },
    {
     "data": {
      "image/png": "[encoded data removed]",
      "text/plain": [
       "<Figure size 576x432 with 1 Axes>"
      ]
     },
     "metadata": {
      "needs_background": "light"
     },
     "output_type": "display_data"
    }
   ],
   "source": [
    "# Plot histogram of daily returns, always a good idea\n",
    "portfolio_val['Daily Return'].plot(kind='hist',bins=50,figsize=(8,6))"
   ]
  },
  {
   "cell_type": "code",
   "execution_count": 33,
   "id": "86a6e173-8712-4650-b451-6a2979a8ae7c",
   "metadata": {},
   "outputs": [],
   "source": [
    "# Cumulative return: pct of change in last/current value wrt first value\n",
    "cumulative_return = 100 * (portfolio_val['Total Position'][-1]/portfolio_val['Total Position'][0] - 1)"
   ]
  },
  {
   "cell_type": "code",
   "execution_count": 34,
   "id": "fb1bf558-5c9b-4759-9268-9b4860f3d7fa",
   "metadata": {},
   "outputs": [
    {
     "data": {
      "text/plain": [
       "84.74285181665545"
      ]
     },
     "execution_count": 34,
     "metadata": {},
     "output_type": "execute_result"
    }
   ],
   "source": [
    "cumulative_return"
   ]
  },
  {
   "cell_type": "code",
   "execution_count": 35,
   "id": "48dcc5d2-100c-49bd-8289-d042f23e4336",
   "metadata": {},
   "outputs": [],
   "source": [
    "# We compute the Sharpe ratio: risk adjusted return\n",
    "# We compute it assuming risk-free return to be 0,\n",
    "# because the FED has close to zero interest rates at the moment \n",
    "RF = 0\n",
    "SR = (portfolio_val['Daily Return'].mean() - RF)/portfolio_val['Daily Return'].std()"
   ]
  },
  {
   "cell_type": "code",
   "execution_count": 36,
   "id": "6986c3ba-bbd6-430e-ac95-87919a343dc7",
   "metadata": {},
   "outputs": [
    {
     "data": {
      "text/plain": [
       "0.05149680662648089"
      ]
     },
     "execution_count": 36,
     "metadata": {},
     "output_type": "execute_result"
    }
   ],
   "source": [
    "SR"
   ]
  },
  {
   "cell_type": "code",
   "execution_count": 37,
   "id": "beef77f7-c176-48bc-8a73-7198ce0c2834",
   "metadata": {},
   "outputs": [],
   "source": [
    "# However, we need to compute the annualized Sharpe ratio\n",
    "# Since we have daily data, we need to apply the daily factor\n",
    "f = (252**0.5)\n",
    "ASR = f * SR"
   ]
  },
  {
   "cell_type": "code",
   "execution_count": 38,
   "id": "b21cc909-919a-4f37-a669-19e3e2cb4ef5",
   "metadata": {},
   "outputs": [
    {
     "data": {
      "text/plain": [
       "0.817486461885909"
      ]
     },
     "execution_count": 38,
     "metadata": {},
     "output_type": "execute_result"
    }
   ],
   "source": [
    "# We get our ASR, which is smaller than 1\n",
    "ASR"
   ]
  },
  {
   "cell_type": "markdown",
   "id": "aca31728-2ab4-4d4f-8fcf-5331bdc87fc9",
   "metadata": {},
   "source": [
    "## 5.2 Portfolio Optimization"
   ]
  },
  {
   "cell_type": "markdown",
   "id": "26b2dc2d-e5cf-49ec-929d-f1046fd9d7e2",
   "metadata": {},
   "source": [
    "We are going to perform a **Monte Carlo Simulation**: we guess random allocation ratios and compute their Annualized Sharpe Ratio (ASR); the allocation with the best ASR wins. We plot a 2D/3D diagram: volatility, return, SR (encoded in colors). The result is a bullet-like plot which has an **efficient frontier** where the optimum allocation lies. It is possible to find the optimum point with minimization technique on the values along the frontier. This method is called the **Markowitz** portfolio optimization."
   ]
  },
  {
   "cell_type": "markdown",
   "id": "33f5e688-f581-4a8c-9b16-55b8eb153c0b",
   "metadata": {},
   "source": [
    "### Monter Carlo Simulation"
   ]
  },
  {
   "cell_type": "code",
   "execution_count": 39,
   "id": "374149a4-5f10-4cf4-b9d7-b91cc02fb0c8",
   "metadata": {},
   "outputs": [],
   "source": [
    "import numpy as np\n",
    "import pandas as pd\n",
    "import matplotlib.pyplot as plt\n",
    "%matplotlib inline"
   ]
  },
  {
   "cell_type": "code",
   "execution_count": 40,
   "id": "974b3def-02ae-41f2-a2ea-40ca3f7e1410",
   "metadata": {},
   "outputs": [],
   "source": [
    "aapl = pd.read_csv('../data/AAPL_CLOSE',index_col='Date',parse_dates=True)\n",
    "cisco = pd.read_csv('../data/CISCO_CLOSE',index_col='Date',parse_dates=True)\n",
    "ibm = pd.read_csv('../data/IBM_CLOSE',index_col='Date',parse_dates=True)\n",
    "amzn = pd.read_csv('../data/AMZN_CLOSE',index_col='Date',parse_dates=True)"
   ]
  },
  {
   "cell_type": "code",
   "execution_count": 41,
   "id": "1ce65955-716c-498f-bba6-c6dc58cd7f94",
   "metadata": {},
   "outputs": [],
   "source": [
    "stocks = pd.concat([aapl,cisco,ibm,amzn],axis=1)\n",
    "stocks.columns = ['AAPL','CISCO','IBM','AMZN']"
   ]
  },
  {
   "cell_type": "code",
   "execution_count": 42,
   "id": "c2678fea-7b0c-47d1-90c8-257d0a0efbaa",
   "metadata": {},
   "outputs": [
    {
     "data": {
      "text/html": [
       "<div>\n",
       "<style scoped>\n",
       "    .dataframe tbody tr th:only-of-type {\n",
       "        vertical-align: middle;\n",
       "    }\n",
       "\n",
       "    .dataframe tbody tr th {\n",
       "        vertical-align: top;\n",
       "    }\n",
       "\n",
       "    .dataframe thead th {\n",
       "        text-align: right;\n",
       "    }\n",
       "</style>\n",
       "<table border=\"1\" class=\"dataframe\">\n",
       "  <thead>\n",
       "    <tr style=\"text-align: right;\">\n",
       "      <th></th>\n",
       "      <th>AAPL</th>\n",
       "      <th>CISCO</th>\n",
       "      <th>IBM</th>\n",
       "      <th>AMZN</th>\n",
       "    </tr>\n",
       "    <tr>\n",
       "      <th>Date</th>\n",
       "      <th></th>\n",
       "      <th></th>\n",
       "      <th></th>\n",
       "      <th></th>\n",
       "    </tr>\n",
       "  </thead>\n",
       "  <tbody>\n",
       "    <tr>\n",
       "      <th>2012-01-03</th>\n",
       "      <td>53.063218</td>\n",
       "      <td>15.752778</td>\n",
       "      <td>160.830881</td>\n",
       "      <td>179.03</td>\n",
       "    </tr>\n",
       "    <tr>\n",
       "      <th>2012-01-04</th>\n",
       "      <td>53.348386</td>\n",
       "      <td>16.057180</td>\n",
       "      <td>160.174781</td>\n",
       "      <td>177.51</td>\n",
       "    </tr>\n",
       "    <tr>\n",
       "      <th>2012-01-05</th>\n",
       "      <td>53.940658</td>\n",
       "      <td>15.997991</td>\n",
       "      <td>159.415086</td>\n",
       "      <td>177.61</td>\n",
       "    </tr>\n",
       "    <tr>\n",
       "      <th>2012-01-06</th>\n",
       "      <td>54.504543</td>\n",
       "      <td>15.938801</td>\n",
       "      <td>157.584912</td>\n",
       "      <td>182.61</td>\n",
       "    </tr>\n",
       "    <tr>\n",
       "      <th>2012-01-09</th>\n",
       "      <td>54.418089</td>\n",
       "      <td>16.040268</td>\n",
       "      <td>156.764786</td>\n",
       "      <td>178.56</td>\n",
       "    </tr>\n",
       "  </tbody>\n",
       "</table>\n",
       "</div>"
      ],
      "text/plain": [
       "                 AAPL      CISCO         IBM    AMZN\n",
       "Date                                                \n",
       "2012-01-03  53.063218  15.752778  160.830881  179.03\n",
       "2012-01-04  53.348386  16.057180  160.174781  177.51\n",
       "2012-01-05  53.940658  15.997991  159.415086  177.61\n",
       "2012-01-06  54.504543  15.938801  157.584912  182.61\n",
       "2012-01-09  54.418089  16.040268  156.764786  178.56"
      ]
     },
     "execution_count": 42,
     "metadata": {},
     "output_type": "execute_result"
    }
   ],
   "source": [
    "stocks.head()"
   ]
  },
  {
   "cell_type": "code",
   "execution_count": 43,
   "id": "935ac32b-7db6-444c-831a-be6e84dc88cf",
   "metadata": {},
   "outputs": [
    {
     "data": {
      "text/plain": [
       "AAPL     0.000750\n",
       "CISCO    0.000599\n",
       "IBM      0.000081\n",
       "AMZN     0.001328\n",
       "dtype: float64"
      ]
     },
     "execution_count": 43,
     "metadata": {},
     "output_type": "execute_result"
    }
   ],
   "source": [
    "# Mean daily returns\n",
    "stocks.pct_change(1).mean()"
   ]
  },
  {
   "cell_type": "code",
   "execution_count": 44,
   "id": "5ea42ba2-3f66-4786-a8a0-c9b5f3b943dd",
   "metadata": {},
   "outputs": [
    {
     "data": {
      "text/html": [
       "<div>\n",
       "<style scoped>\n",
       "    .dataframe tbody tr th:only-of-type {\n",
       "        vertical-align: middle;\n",
       "    }\n",
       "\n",
       "    .dataframe tbody tr th {\n",
       "        vertical-align: top;\n",
       "    }\n",
       "\n",
       "    .dataframe thead th {\n",
       "        text-align: right;\n",
       "    }\n",
       "</style>\n",
       "<table border=\"1\" class=\"dataframe\">\n",
       "  <thead>\n",
       "    <tr style=\"text-align: right;\">\n",
       "      <th></th>\n",
       "      <th>AAPL</th>\n",
       "      <th>CISCO</th>\n",
       "      <th>IBM</th>\n",
       "      <th>AMZN</th>\n",
       "    </tr>\n",
       "  </thead>\n",
       "  <tbody>\n",
       "    <tr>\n",
       "      <th>AAPL</th>\n",
       "      <td>1.000000</td>\n",
       "      <td>0.301990</td>\n",
       "      <td>0.297498</td>\n",
       "      <td>0.235487</td>\n",
       "    </tr>\n",
       "    <tr>\n",
       "      <th>CISCO</th>\n",
       "      <td>0.301990</td>\n",
       "      <td>1.000000</td>\n",
       "      <td>0.424672</td>\n",
       "      <td>0.284470</td>\n",
       "    </tr>\n",
       "    <tr>\n",
       "      <th>IBM</th>\n",
       "      <td>0.297498</td>\n",
       "      <td>0.424672</td>\n",
       "      <td>1.000000</td>\n",
       "      <td>0.258492</td>\n",
       "    </tr>\n",
       "    <tr>\n",
       "      <th>AMZN</th>\n",
       "      <td>0.235487</td>\n",
       "      <td>0.284470</td>\n",
       "      <td>0.258492</td>\n",
       "      <td>1.000000</td>\n",
       "    </tr>\n",
       "  </tbody>\n",
       "</table>\n",
       "</div>"
      ],
      "text/plain": [
       "           AAPL     CISCO       IBM      AMZN\n",
       "AAPL   1.000000  0.301990  0.297498  0.235487\n",
       "CISCO  0.301990  1.000000  0.424672  0.284470\n",
       "IBM    0.297498  0.424672  1.000000  0.258492\n",
       "AMZN   0.235487  0.284470  0.258492  1.000000"
      ]
     },
     "execution_count": 44,
     "metadata": {},
     "output_type": "execute_result"
    }
   ],
   "source": [
    "# Correlation of daily returns\n",
    "# Necessary for pairs-trading\n",
    "stocks.pct_change(1).corr()"
   ]
  },
  {
   "cell_type": "code",
   "execution_count": 45,
   "id": "418cb754-f4d6-4617-8989-57a4b6b1a2c6",
   "metadata": {},
   "outputs": [],
   "source": [
    "# Logarithmic vs arithmetic returns:\n",
    "# In most cases any of them (both) can be used\n",
    "# but in some cases log returns are necessary\n",
    "# for de-trending or normalizing the time series.\n",
    "# Therefore, it is recommended using log returns!"
   ]
  },
  {
   "cell_type": "code",
   "execution_count": 46,
   "id": "107cb032-ff21-45ac-9e55-b79582fe76a9",
   "metadata": {},
   "outputs": [],
   "source": [
    "# Logarithmic returns\n",
    "log_ret = np.log(stocks/stocks.shift(1))"
   ]
  },
  {
   "cell_type": "code",
   "execution_count": 47,
   "id": "4fe7a50b-b21b-431a-bf3e-2b2d5bde1e75",
   "metadata": {},
   "outputs": [
    {
     "data": {
      "text/html": [
       "<div>\n",
       "<style scoped>\n",
       "    .dataframe tbody tr th:only-of-type {\n",
       "        vertical-align: middle;\n",
       "    }\n",
       "\n",
       "    .dataframe tbody tr th {\n",
       "        vertical-align: top;\n",
       "    }\n",
       "\n",
       "    .dataframe thead th {\n",
       "        text-align: right;\n",
       "    }\n",
       "</style>\n",
       "<table border=\"1\" class=\"dataframe\">\n",
       "  <thead>\n",
       "    <tr style=\"text-align: right;\">\n",
       "      <th></th>\n",
       "      <th>AAPL</th>\n",
       "      <th>CISCO</th>\n",
       "      <th>IBM</th>\n",
       "      <th>AMZN</th>\n",
       "    </tr>\n",
       "    <tr>\n",
       "      <th>Date</th>\n",
       "      <th></th>\n",
       "      <th></th>\n",
       "      <th></th>\n",
       "      <th></th>\n",
       "    </tr>\n",
       "  </thead>\n",
       "  <tbody>\n",
       "    <tr>\n",
       "      <th>2012-01-03</th>\n",
       "      <td>NaN</td>\n",
       "      <td>NaN</td>\n",
       "      <td>NaN</td>\n",
       "      <td>NaN</td>\n",
       "    </tr>\n",
       "    <tr>\n",
       "      <th>2012-01-04</th>\n",
       "      <td>0.005360</td>\n",
       "      <td>0.019139</td>\n",
       "      <td>-0.004088</td>\n",
       "      <td>-0.008526</td>\n",
       "    </tr>\n",
       "    <tr>\n",
       "      <th>2012-01-05</th>\n",
       "      <td>0.011041</td>\n",
       "      <td>-0.003693</td>\n",
       "      <td>-0.004754</td>\n",
       "      <td>0.000563</td>\n",
       "    </tr>\n",
       "    <tr>\n",
       "      <th>2012-01-06</th>\n",
       "      <td>0.010400</td>\n",
       "      <td>-0.003707</td>\n",
       "      <td>-0.011547</td>\n",
       "      <td>0.027763</td>\n",
       "    </tr>\n",
       "    <tr>\n",
       "      <th>2012-01-09</th>\n",
       "      <td>-0.001587</td>\n",
       "      <td>0.006346</td>\n",
       "      <td>-0.005218</td>\n",
       "      <td>-0.022428</td>\n",
       "    </tr>\n",
       "  </tbody>\n",
       "</table>\n",
       "</div>"
      ],
      "text/plain": [
       "                AAPL     CISCO       IBM      AMZN\n",
       "Date                                              \n",
       "2012-01-03       NaN       NaN       NaN       NaN\n",
       "2012-01-04  0.005360  0.019139 -0.004088 -0.008526\n",
       "2012-01-05  0.011041 -0.003693 -0.004754  0.000563\n",
       "2012-01-06  0.010400 -0.003707 -0.011547  0.027763\n",
       "2012-01-09 -0.001587  0.006346 -0.005218 -0.022428"
      ]
     },
     "execution_count": 47,
     "metadata": {},
     "output_type": "execute_result"
    }
   ],
   "source": [
    "# We see that the values are very similar to the arithmetic\n",
    "# because we are dealing with low numbers\n",
    "log_ret.head()"
   ]
  },
  {
   "cell_type": "code",
   "execution_count": 48,
   "id": "452cc0cd-4984-47c7-9a6e-47420da2fb08",
   "metadata": {},
   "outputs": [
    {
     "data": {
      "image/png": "[encoded data removed]",
      "text/plain": [
       "<Figure size 864x576 with 4 Axes>"
      ]
     },
     "metadata": {
      "needs_background": "light"
     },
     "output_type": "display_data"
    }
   ],
   "source": [
    "# Plot histograms of log returns\n",
    "log_ret.hist(bins=100,figsize=(12,8))\n",
    "plt.tight_layout()"
   ]
  },
  {
   "cell_type": "code",
   "execution_count": 49,
   "id": "b1723a18-329a-44a9-96bd-223f2f843505",
   "metadata": {},
   "outputs": [
    {
     "data": {
      "text/plain": [
       "AAPL     0.000614\n",
       "CISCO    0.000497\n",
       "IBM      0.000011\n",
       "AMZN     0.001139\n",
       "dtype: float64"
      ]
     },
     "execution_count": 49,
     "metadata": {},
     "output_type": "execute_result"
    }
   ],
   "source": [
    "# Arithmetic mean of log returns\n",
    "log_ret.mean()"
   ]
  },
  {
   "cell_type": "code",
   "execution_count": 50,
   "id": "fe59550c-8886-4d5f-ac80-ad7131a44292",
   "metadata": {},
   "outputs": [
    {
     "data": {
      "text/html": [
       "<div>\n",
       "<style scoped>\n",
       "    .dataframe tbody tr th:only-of-type {\n",
       "        vertical-align: middle;\n",
       "    }\n",
       "\n",
       "    .dataframe tbody tr th {\n",
       "        vertical-align: top;\n",
       "    }\n",
       "\n",
       "    .dataframe thead th {\n",
       "        text-align: right;\n",
       "    }\n",
       "</style>\n",
       "<table border=\"1\" class=\"dataframe\">\n",
       "  <thead>\n",
       "    <tr style=\"text-align: right;\">\n",
       "      <th></th>\n",
       "      <th>AAPL</th>\n",
       "      <th>CISCO</th>\n",
       "      <th>IBM</th>\n",
       "      <th>AMZN</th>\n",
       "    </tr>\n",
       "  </thead>\n",
       "  <tbody>\n",
       "    <tr>\n",
       "      <th>AAPL</th>\n",
       "      <td>0.000271</td>\n",
       "      <td>0.000071</td>\n",
       "      <td>0.000057</td>\n",
       "      <td>0.000075</td>\n",
       "    </tr>\n",
       "    <tr>\n",
       "      <th>CISCO</th>\n",
       "      <td>0.000071</td>\n",
       "      <td>0.000204</td>\n",
       "      <td>0.000072</td>\n",
       "      <td>0.000079</td>\n",
       "    </tr>\n",
       "    <tr>\n",
       "      <th>IBM</th>\n",
       "      <td>0.000057</td>\n",
       "      <td>0.000072</td>\n",
       "      <td>0.000140</td>\n",
       "      <td>0.000059</td>\n",
       "    </tr>\n",
       "    <tr>\n",
       "      <th>AMZN</th>\n",
       "      <td>0.000075</td>\n",
       "      <td>0.000079</td>\n",
       "      <td>0.000059</td>\n",
       "      <td>0.000375</td>\n",
       "    </tr>\n",
       "  </tbody>\n",
       "</table>\n",
       "</div>"
      ],
      "text/plain": [
       "           AAPL     CISCO       IBM      AMZN\n",
       "AAPL   0.000271  0.000071  0.000057  0.000075\n",
       "CISCO  0.000071  0.000204  0.000072  0.000079\n",
       "IBM    0.000057  0.000072  0.000140  0.000059\n",
       "AMZN   0.000075  0.000079  0.000059  0.000375"
      ]
     },
     "execution_count": 50,
     "metadata": {},
     "output_type": "execute_result"
    }
   ],
   "source": [
    "# Covariance\n",
    "log_ret.cov()"
   ]
  },
  {
   "cell_type": "code",
   "execution_count": 65,
   "id": "7a6b43be-fc85-4b2e-b5a3-96c9f6931c3c",
   "metadata": {},
   "outputs": [
    {
     "name": "stdout",
     "output_type": "stream",
     "text": [
      "Index(['AAPL', 'CISCO', 'IBM', 'AMZN'], dtype='object')\n",
      "[0.40122278 0.44338777 0.02212343 0.13326603]\n"
     ]
    }
   ],
   "source": [
    "# Random weights = allocation ratios\n",
    "np.random.seed(101)\n",
    "weights = np.array(np.random.random(4))\n",
    "weights /= weights.sum()\n",
    "print(stocks.columns)\n",
    "print(weights)"
   ]
  },
  {
   "cell_type": "code",
   "execution_count": 66,
   "id": "e39206c0-243f-440c-860f-9cc7e8809a36",
   "metadata": {},
   "outputs": [],
   "source": [
    "# For those weights, we have the following Sharpe ratio\n",
    "# The idea is to repeat this code thousands of times!\n",
    "#\n",
    "# Expected portfolio return\n",
    "expected_ret = np.sum((log_ret.mean()*weights)*252)\n",
    "# Expected volatility: sqrt(w*C*w)\n",
    "expected_vol = np.sqrt(np.dot(weights.T,np.dot(log_ret.cov()*252,weights)))\n",
    "# Sharpe Ratio\n",
    "RF = 0.0\n",
    "SR = (expected_ret-RF) / expected_vol"
   ]
  },
  {
   "cell_type": "code",
   "execution_count": 67,
   "id": "02610e84-5a21-4c6f-94e1-8630c62ee198",
   "metadata": {},
   "outputs": [
    {
     "data": {
      "text/plain": [
       "0.8430831483926045"
      ]
     },
     "execution_count": 67,
     "metadata": {},
     "output_type": "execute_result"
    }
   ],
   "source": [
    "SR"
   ]
  },
  {
   "cell_type": "code",
   "execution_count": 71,
   "id": "1f405dfe-7739-429e-bd49-83de6433940c",
   "metadata": {},
   "outputs": [],
   "source": [
    "# We run the previous code in a for loop 500 times\n",
    "num_portfolios = 5000\n",
    "all_weights = np.zeros((num_portfolios,len(stocks.columns)))\n",
    "ret_array = np.zeros(num_portfolios)\n",
    "vol_array = np.zeros(num_portfolios)\n",
    "sharpe_array = np.zeros(num_portfolios)\n",
    "for i in range(num_portfolios):\n",
    "    # Weights\n",
    "    weights = np.array(np.random.random(4))\n",
    "    weights /= weights.sum()\n",
    "    all_weights[i,:] = weights\n",
    "    # Expected return (annual)\n",
    "    ret_array[i] = np.sum((log_ret.mean()*weights)*252)\n",
    "    # Expected volatility (annual)\n",
    "    vol_array[i] = np.sqrt(np.dot(weights.T,np.dot(log_ret.cov()*252,weights)))\n",
    "    # Sharpe ratio\n",
    "    RF = 0.0\n",
    "    sharpe_array[i] = (ret_array[i]-RF) / vol_array[i]"
   ]
  },
  {
   "cell_type": "code",
   "execution_count": 72,
   "id": "621e69ce-c497-4689-bf4c-1db5d7304696",
   "metadata": {},
   "outputs": [
    {
     "data": {
      "text/plain": [
       "1.030326055127108"
      ]
     },
     "execution_count": 72,
     "metadata": {},
     "output_type": "execute_result"
    }
   ],
   "source": [
    "# Maximum Sharpe Ratio in our simulation\n",
    "# It is 1.03: ok, but not really good\n",
    "sharpe_array.max()"
   ]
  },
  {
   "cell_type": "code",
   "execution_count": 73,
   "id": "eb9a0849-a152-4f8a-a146-08edba6b211a",
   "metadata": {},
   "outputs": [
    {
     "data": {
      "text/plain": [
       "1409"
      ]
     },
     "execution_count": 73,
     "metadata": {},
     "output_type": "execute_result"
    }
   ],
   "source": [
    "# Index of the maximum SR\n",
    "sharpe_array.argmax()"
   ]
  },
  {
   "cell_type": "code",
   "execution_count": 98,
   "id": "88006f93-64ef-442c-8072-3b429de7a498",
   "metadata": {},
   "outputs": [
    {
     "data": {
      "text/plain": [
       "array([0.26188068, 0.20759516, 0.00110226, 0.5294219 ])"
      ]
     },
     "execution_count": 98,
     "metadata": {},
     "output_type": "execute_result"
    }
   ],
   "source": [
    "# Weights/Allocation ratios of maxium SR\n",
    "# We see that we would require\n",
    "# half on AMZN, no IBM, and rest (AAPL, CISCO) divided quite equally\n",
    "all_weights[sharpe_array.argmax()]"
   ]
  },
  {
   "cell_type": "code",
   "execution_count": 80,
   "id": "da3c88fb-ce80-4ae9-a2d8-0a90dd1e9e2c",
   "metadata": {},
   "outputs": [
    {
     "data": {
      "text/plain": [
       "Text(0, 0.5, 'Return')"
      ]
     },
     "execution_count": 80,
     "metadata": {},
     "output_type": "execute_result"
    },
    {
     "data": {
      "image/png": "[encoded data removed]",
      "text/plain": [
       "<Figure size 864x576 with 2 Axes>"
      ]
     },
     "metadata": {
      "needs_background": "light"
     },
     "output_type": "display_data"
    }
   ],
   "source": [
    "# Plot results\n",
    "# We see that the maximum point is a tangent poin tof the efficient frontier\n",
    "# The efficient frontier is the set of points thatlead to\n",
    "# maximum returns for a given volatility\n",
    "# If we move right: we have the same returns for higher volatility\n",
    "# If we move down: we have less returns for the same volatility\n",
    "# In general, we want the highest returns possible for the lowest volatility\n",
    "# \n",
    "plt.figure(figsize=(12,8))\n",
    "# All points\n",
    "plt.scatter(vol_array,ret_array,c=sharpe_array,cmap='plasma')\n",
    "# Max SR point\n",
    "plt.scatter(vol_array[sharpe_array.argmax()],ret_array[sharpe_array.argmax()],c='red',s=50,edgecolors='black')\n",
    "plt.colorbar(label='Sharpe ratio')\n",
    "plt.xlabel('Volatility')\n",
    "plt.ylabel('Return')"
   ]
  },
  {
   "cell_type": "markdown",
   "id": "faadb222-5690-44ea-83df-9f310c6f3a1d",
   "metadata": {},
   "source": [
    "### Anlytical Optmization instead of Morte Carlo Simulation: Markowitz Optimization"
   ]
  },
  {
   "cell_type": "markdown",
   "id": "0c2dfba9-0b84-4b5b-bbaf-1df64d42155d",
   "metadata": {},
   "source": [
    "Instead of running a simulation with randomly sampled points (Monte Carlo), we can use an optimizer. That is possible, among others, because we have a clear frontier. We use `scipy` for the optimization."
   ]
  },
  {
   "cell_type": "code",
   "execution_count": 81,
   "id": "23a0475f-115c-4c41-86ce-0c8429d2746a",
   "metadata": {},
   "outputs": [],
   "source": [
    "# We want to optimize our function which, given weights,\n",
    "# yields the (max.) sharpe ratio\n",
    "# We define that function\n",
    "def get_ret_vol_sr(weights):\n",
    "    weights = np.array(weights)\n",
    "    ret = np.sum((log_ret.mean()*weights)*252)\n",
    "    vol = np.sqrt(np.dot(weights.T,np.dot(log_ret.cov()*252,weights)))\n",
    "    RF = 0.0\n",
    "    sr = (ret-RF) / vol\n",
    "    return np.array([ret,vol,sr])"
   ]
  },
  {
   "cell_type": "code",
   "execution_count": 83,
   "id": "d327af8f-7e65-419d-aa68-428ccb0a04c1",
   "metadata": {},
   "outputs": [],
   "source": [
    "# Scipy has a minimize module, which is the inverse of maximize (our case)\n",
    "from scipy.optimize import minimize"
   ]
  },
  {
   "cell_type": "code",
   "execution_count": 85,
   "id": "1a6018ab-828a-4927-b301-047592260035",
   "metadata": {},
   "outputs": [],
   "source": [
    "#help(minimize)"
   ]
  },
  {
   "cell_type": "code",
   "execution_count": 86,
   "id": "fd5e1d80-1672-471b-8f53-ae14a21b8c88",
   "metadata": {},
   "outputs": [],
   "source": [
    "# Since we minimize, we need to create an auxiliary function\n",
    "# which returns the negative of the SR using the previous function get_ret_vol_sr\n",
    "def neg_sr(weights):\n",
    "    return (-1.0)*get_ret_vol_sr(weights)[2]"
   ]
  },
  {
   "cell_type": "code",
   "execution_count": 87,
   "id": "e4a94635-ba81-4ffb-b400-dea9d09e0fed",
   "metadata": {},
   "outputs": [],
   "source": [
    "# We need to define the constraints\n",
    "# Example: weights need to add up to 1\n",
    "# scipy.optimize needs functions which return 0 if constraint is fullfilled\n",
    "def check_sum(weights):\n",
    "    # return 0 if sum(weights) == 1, else, difference\n",
    "    return np.sum(weights) - 1"
   ]
  },
  {
   "cell_type": "code",
   "execution_count": 88,
   "id": "d54fea59-1cab-454d-a93c-5b73c8b14272",
   "metadata": {},
   "outputs": [],
   "source": [
    "# Constraints variable: tuple with dictionaries inside\n",
    "cons = ({'type':'eq','fun':check_sum})"
   ]
  },
  {
   "cell_type": "code",
   "execution_count": 89,
   "id": "3d5b26ef-65a7-46eb-87c8-403d3fa9b550",
   "metadata": {},
   "outputs": [],
   "source": [
    "# Bounds of the weights\n",
    "bounds = ((0,1),(0,1),(0,1),(0,1))"
   ]
  },
  {
   "cell_type": "code",
   "execution_count": 90,
   "id": "ef4cfa7c-f63e-4202-9b67-30202f2df0f5",
   "metadata": {},
   "outputs": [],
   "source": [
    "# Initial guess: usually an even allocation is the best option\n",
    "init_guess = [0.25,0.25,0.25,0.25]"
   ]
  },
  {
   "cell_type": "code",
   "execution_count": 92,
   "id": "416a6920-00e6-47df-8515-97ac6c0a21db",
   "metadata": {},
   "outputs": [],
   "source": [
    "# We put everything into the minimizer\n",
    "# There are many methods, we choose the recommended for easy tasls as ours: Sequential Least Squares\n",
    "opt_results = minimize(neg_sr,init_guess,method='SLSQP',bounds=bounds,constraints=cons)"
   ]
  },
  {
   "cell_type": "code",
   "execution_count": 95,
   "id": "bc0e6e9b-a3d7-452c-9cc0-08dbe2eaa838",
   "metadata": {},
   "outputs": [
    {
     "data": {
      "text/plain": [
       "     fun: -1.0307168703354168\n",
       "     jac: array([ 5.64157963e-05,  4.18424606e-05,  3.39921728e-01, -4.44948673e-05])\n",
       " message: 'Optimization terminated successfully'\n",
       "    nfev: 35\n",
       "     nit: 7\n",
       "    njev: 7\n",
       "  status: 0\n",
       " success: True\n",
       "       x: array([0.26628977, 0.20418982, 0.        , 0.52952041])"
      ]
     },
     "execution_count": 95,
     "metadata": {},
     "output_type": "execute_result"
    }
   ],
   "source": [
    "# The returned object contains many information pieces\n",
    "opt_results"
   ]
  },
  {
   "cell_type": "code",
   "execution_count": 96,
   "id": "21e93c28-d57a-4cce-b21d-a6dac6006217",
   "metadata": {},
   "outputs": [
    {
     "data": {
      "text/plain": [
       "array([0.26628977, 0.20418982, 0.        , 0.52952041])"
      ]
     },
     "execution_count": 96,
     "metadata": {},
     "output_type": "execute_result"
    }
   ],
   "source": [
    "# The actual result (weights for minimum neg_sr) is in .x\n",
    "# We get a similar set of weights \n",
    "opt_results.x"
   ]
  },
  {
   "cell_type": "code",
   "execution_count": 97,
   "id": "1bd93ff0-c4f5-4f96-acb8-8e68a1aacdcd",
   "metadata": {},
   "outputs": [
    {
     "data": {
      "text/plain": [
       "array([0.21885915, 0.21233683, 1.03071687])"
      ]
     },
     "execution_count": 97,
     "metadata": {},
     "output_type": "execute_result"
    }
   ],
   "source": [
    "# We query now the returns, volatility and SR for those optimim weights\n",
    "# Again, the best SR is 1.03: ok, but not excellent\n",
    "get_ret_vol_sr(opt_results.x)"
   ]
  },
  {
   "cell_type": "code",
   "execution_count": 103,
   "id": "8ad3f6b2-0c96-4e53-b01c-8bc14af9ac30",
   "metadata": {},
   "outputs": [],
   "source": [
    "# We can create the efficient frontier\n",
    "# x: Volatility, y: Return\n",
    "# For a given x/y, we optimize y/x\n",
    "# We optimize the volatility value (x) for every return value (y)\n",
    "# In our previous plot, volatility values go from 0 to 0.3 aprox.\n",
    "frontier_y = np.linspace(0,0.3,100)"
   ]
  },
  {
   "cell_type": "code",
   "execution_count": 102,
   "id": "c710c3c2-c9b0-414c-92f5-6971559893de",
   "metadata": {},
   "outputs": [],
   "source": [
    "def volatility(weights):\n",
    "    # get volatility\n",
    "    return get_ret_vol_sr(weights)[1]"
   ]
  },
  {
   "cell_type": "code",
   "execution_count": 105,
   "id": "8e674b98-858b-41d1-8318-a71a08b4b4dd",
   "metadata": {},
   "outputs": [],
   "source": [
    "# With optimization, we create the curve (frontier_volatility,frontier_y)\n",
    "# Which is theefficient frontier that maps optimum return and volatility\n",
    "frontier_volatility = []\n",
    "for possible_return in frontier_y:\n",
    "    # New constraint: the weights must yield the possible return at each iteration\n",
    "    cons = ({'type':'eq','fun':check_sum},\n",
    "           {'type':'eq','fun':lambda w: get_ret_vol_sr(w)[0]-possible_return})\n",
    "    # All other parameters are the same as before\n",
    "    result = minimize(volatility,init_guess,method='SLSQP',bounds=bounds,constraints=cons)\n",
    "    # The result function value (volatility) is stored\n",
    "    frontier_volatility.append(result['fun'])"
   ]
  },
  {
   "cell_type": "code",
   "execution_count": 106,
   "id": "93d038e1-8646-4b12-b7fb-ac9c4a6cc182",
   "metadata": {},
   "outputs": [
    {
     "data": {
      "text/plain": [
       "[<matplotlib.lines.Line2D at 0x7f87dec1cf10>]"
      ]
     },
     "execution_count": 106,
     "metadata": {},
     "output_type": "execute_result"
    },
    {
     "data": {
      "image/png": "[encoded data removed]",
      "text/plain": [
       "<Figure size 864x576 with 2 Axes>"
      ]
     },
     "metadata": {
      "needs_background": "light"
     },
     "output_type": "display_data"
    }
   ],
   "source": [
    "plt.figure(figsize=(12,8))\n",
    "plt.scatter(vol_array,ret_array,c=sharpe_array,cmap='plasma')\n",
    "plt.scatter(vol_array[sharpe_array.argmax()],ret_array[sharpe_array.argmax()],c='red',s=50,edgecolors='black')\n",
    "plt.colorbar(label='Sharpe ratio')\n",
    "plt.xlabel('Volatility')\n",
    "plt.ylabel('Return')\n",
    "# Efficient frontier\n",
    "plt.plot(frontier_volatility,frontier_y,'g--',linewidth=3)"
   ]
  },
  {
   "cell_type": "code",
   "execution_count": null,
   "id": "b24463a7-e66c-4d4b-a987-22a40a120c5e",
   "metadata": {},
   "outputs": [],
   "source": []
  }
 ],
 "metadata": {
  "kernelspec": {
   "display_name": "Python 3",
   "language": "python",
   "name": "python3"
  },
  "language_info": {
   "codemirror_mode": {
    "name": "ipython",
    "version": 3
   },
   "file_extension": ".py",
   "mimetype": "text/x-python",
   "name": "python",
   "nbconvert_exporter": "python",
   "pygments_lexer": "ipython3",
   "version": "3.9.2"
  }
 },
 "nbformat": 4,
 "nbformat_minor": 5
}
