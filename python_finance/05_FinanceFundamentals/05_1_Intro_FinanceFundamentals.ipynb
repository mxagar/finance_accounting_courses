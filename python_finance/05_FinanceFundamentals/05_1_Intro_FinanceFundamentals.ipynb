{
 "cells": [
  {
   "cell_type": "markdown",
   "id": "70e93662-aa68-4225-98f0-987b57f33f43",
   "metadata": {},
   "source": [
    "# Finance Fundamentals"
   ]
  },
  {
   "cell_type": "code",
   "execution_count": null,
   "id": "49f95ae7-784f-4720-9442-11884a3bf9aa",
   "metadata": {},
   "outputs": [],
   "source": []
  }
 ],
 "metadata": {
  "kernelspec": {
   "display_name": "Python 3",
   "language": "python",
   "name": "python3"
  },
  "language_info": {
   "codemirror_mode": {
    "name": "ipython",
    "version": 3
   },
   "file_extension": ".py",
   "mimetype": "text/x-python",
   "name": "python",
   "nbconvert_exporter": "python",
   "pygments_lexer": "ipython3",
   "version": "3.9.2"
  }
 },
 "nbformat": 4,
 "nbformat_minor": 5
}
