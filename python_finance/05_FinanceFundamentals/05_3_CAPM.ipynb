{
 "cells": [
  {
   "cell_type": "markdown",
   "id": "15c9bbfb-28ff-4af6-b6dd-fab95c667d84",
   "metadata": {},
   "source": [
    "# 5. Finance Fundamentals"
   ]
  },
  {
   "cell_type": "markdown",
   "id": "6a311d61-5d28-435d-bf92-320d3bc134d2",
   "metadata": {},
   "source": [
    "Overview of contents:\n",
    "- 5.1 Portfolio and Shape Ratio\n",
    "- 5.2 Portfolio Optimization\n",
    "- 5.3 Financial Tools and Concepts\n",
    "- 5.4 CAMP Model"
   ]
  },
  {
   "cell_type": "markdown",
   "id": "23d4eb66-45c0-4ef6-a8f6-7900cf314568",
   "metadata": {},
   "source": [
    "## 5.4 CAPM Model = Capital Assets Pricing Model"
   ]
  },
  {
   "cell_type": "markdown",
   "id": "ad22c485-aaea-41bd-aca6-8624db73236d",
   "metadata": {},
   "source": [
    "- One of the most fundamental models in investing\n",
    "- A portfolio is a set of weighted securities which yield a return\n",
    "- The return of a portfolio is then:\n",
    "\n",
    "$r_p(t) = \\sum_{i}^{n} w_i r_i(t)$\n",
    "\n",
    "- We can imagine the entire market as a portfolio, for example the S&P500; then, the company weights would be\n",
    "\n",
    "$w_i = \\frac{MarketCap_i}{\\sum_j^n MarketCap_j}$\n",
    "\n",
    "- The market cap of a company is `num_shares * price_share`\n",
    "- The CAPM model describes the linear relationship between the returns of a stock and the market\n",
    "\n",
    "$r_i(t) = \\beta_i r_m(t) + \\alpha_i(t)$\n",
    "\n",
    "- If we have a scatterplot with the daily returns of the market and a the ones of a stock, the line that fits in the plot has the `beta` and `alpha` coefficients.\n",
    "- CAPM says\n",
    "    - `beta` is the multiplication/scaling of the market return in our stock\n",
    "    - `alpha` is a residual term that will be tend to be 0; in fact, CAMPM states that `alpha` is random and cannot be predicted\n",
    "- However, we are going to behave like active investors and are going to believe that we are able to modify/predict `alpha` values\n",
    "- Therefore, if we take the `beta` of our portfolio and the individual `alpha` values of the stocks, the CAPM could be re-written as\n",
    "\n",
    "$r_p(t) = \\beta_p r_m(t) + \\sum_{i}^{n} w_i \\alpha_i(t)$\n",
    "\n"
   ]
  },
  {
   "cell_type": "code",
   "execution_count": 7,
   "id": "61ef493c-5198-4a9c-9349-15e9b989e5f3",
   "metadata": {},
   "outputs": [],
   "source": [
    "from scipy import stats\n",
    "import pandas as pd\n",
    "import pandas_datareader as web"
   ]
  },
  {
   "cell_type": "code",
   "execution_count": 17,
   "id": "a765c6e7-6352-4445-b13c-ce929536c165",
   "metadata": {},
   "outputs": [],
   "source": [
    "# We get the SPIDER ETF, which tracks the entire S&P500\n",
    "# That is our market series\n",
    "spy_etf = web.DataReader('SPY','yahoo')"
   ]
  },
  {
   "cell_type": "code",
   "execution_count": 18,
   "id": "e5d833e7-05bb-4c2d-a453-ca5d25fdf279",
   "metadata": {},
   "outputs": [
    {
     "data": {
      "text/html": [
       "<div>\n",
       "<style scoped>\n",
       "    .dataframe tbody tr th:only-of-type {\n",
       "        vertical-align: middle;\n",
       "    }\n",
       "\n",
       "    .dataframe tbody tr th {\n",
       "        vertical-align: top;\n",
       "    }\n",
       "\n",
       "    .dataframe thead th {\n",
       "        text-align: right;\n",
       "    }\n",
       "</style>\n",
       "<table border=\"1\" class=\"dataframe\">\n",
       "  <thead>\n",
       "    <tr style=\"text-align: right;\">\n",
       "      <th></th>\n",
       "      <th>High</th>\n",
       "      <th>Low</th>\n",
       "      <th>Open</th>\n",
       "      <th>Close</th>\n",
       "      <th>Volume</th>\n",
       "      <th>Adj Close</th>\n",
       "    </tr>\n",
       "    <tr>\n",
       "      <th>Date</th>\n",
       "      <th></th>\n",
       "      <th></th>\n",
       "      <th></th>\n",
       "      <th></th>\n",
       "      <th></th>\n",
       "      <th></th>\n",
       "    </tr>\n",
       "  </thead>\n",
       "  <tbody>\n",
       "    <tr>\n",
       "      <th>2016-04-27</th>\n",
       "      <td>209.809998</td>\n",
       "      <td>208.050003</td>\n",
       "      <td>208.470001</td>\n",
       "      <td>209.350006</td>\n",
       "      <td>77329400.0</td>\n",
       "      <td>190.433411</td>\n",
       "    </tr>\n",
       "    <tr>\n",
       "      <th>2016-04-28</th>\n",
       "      <td>209.759995</td>\n",
       "      <td>206.960007</td>\n",
       "      <td>208.460007</td>\n",
       "      <td>207.449997</td>\n",
       "      <td>97216200.0</td>\n",
       "      <td>188.705063</td>\n",
       "    </tr>\n",
       "    <tr>\n",
       "      <th>2016-04-29</th>\n",
       "      <td>207.130005</td>\n",
       "      <td>205.029999</td>\n",
       "      <td>206.720001</td>\n",
       "      <td>206.330002</td>\n",
       "      <td>142424100.0</td>\n",
       "      <td>187.686279</td>\n",
       "    </tr>\n",
       "    <tr>\n",
       "      <th>2016-05-02</th>\n",
       "      <td>208.179993</td>\n",
       "      <td>206.410004</td>\n",
       "      <td>206.919998</td>\n",
       "      <td>207.970001</td>\n",
       "      <td>62188000.0</td>\n",
       "      <td>189.178101</td>\n",
       "    </tr>\n",
       "    <tr>\n",
       "      <th>2016-05-03</th>\n",
       "      <td>206.800003</td>\n",
       "      <td>205.279999</td>\n",
       "      <td>206.520004</td>\n",
       "      <td>206.160004</td>\n",
       "      <td>106422100.0</td>\n",
       "      <td>187.531647</td>\n",
       "    </tr>\n",
       "  </tbody>\n",
       "</table>\n",
       "</div>"
      ],
      "text/plain": [
       "                  High         Low        Open       Close       Volume  \\\n",
       "Date                                                                      \n",
       "2016-04-27  209.809998  208.050003  208.470001  209.350006   77329400.0   \n",
       "2016-04-28  209.759995  206.960007  208.460007  207.449997   97216200.0   \n",
       "2016-04-29  207.130005  205.029999  206.720001  206.330002  142424100.0   \n",
       "2016-05-02  208.179993  206.410004  206.919998  207.970001   62188000.0   \n",
       "2016-05-03  206.800003  205.279999  206.520004  206.160004  106422100.0   \n",
       "\n",
       "             Adj Close  \n",
       "Date                    \n",
       "2016-04-27  190.433411  \n",
       "2016-04-28  188.705063  \n",
       "2016-04-29  187.686279  \n",
       "2016-05-02  189.178101  \n",
       "2016-05-03  187.531647  "
      ]
     },
     "execution_count": 18,
     "metadata": {},
     "output_type": "execute_result"
    }
   ],
   "source": [
    "# We have a look at where it starts and ends\n",
    "# To grab the same period for selected stocks\n",
    "spy_etf.head()"
   ]
  },
  {
   "cell_type": "code",
   "execution_count": 19,
   "id": "28addddb-8465-4fb2-a7ec-8adbf3515639",
   "metadata": {},
   "outputs": [
    {
     "data": {
      "text/html": [
       "<div>\n",
       "<style scoped>\n",
       "    .dataframe tbody tr th:only-of-type {\n",
       "        vertical-align: middle;\n",
       "    }\n",
       "\n",
       "    .dataframe tbody tr th {\n",
       "        vertical-align: top;\n",
       "    }\n",
       "\n",
       "    .dataframe thead th {\n",
       "        text-align: right;\n",
       "    }\n",
       "</style>\n",
       "<table border=\"1\" class=\"dataframe\">\n",
       "  <thead>\n",
       "    <tr style=\"text-align: right;\">\n",
       "      <th></th>\n",
       "      <th>High</th>\n",
       "      <th>Low</th>\n",
       "      <th>Open</th>\n",
       "      <th>Close</th>\n",
       "      <th>Volume</th>\n",
       "      <th>Adj Close</th>\n",
       "    </tr>\n",
       "    <tr>\n",
       "      <th>Date</th>\n",
       "      <th></th>\n",
       "      <th></th>\n",
       "      <th></th>\n",
       "      <th></th>\n",
       "      <th></th>\n",
       "      <th></th>\n",
       "    </tr>\n",
       "  </thead>\n",
       "  <tbody>\n",
       "    <tr>\n",
       "      <th>2021-04-19</th>\n",
       "      <td>416.739990</td>\n",
       "      <td>413.790009</td>\n",
       "      <td>416.260010</td>\n",
       "      <td>415.209991</td>\n",
       "      <td>78498500.0</td>\n",
       "      <td>415.209991</td>\n",
       "    </tr>\n",
       "    <tr>\n",
       "      <th>2021-04-20</th>\n",
       "      <td>415.089996</td>\n",
       "      <td>410.589996</td>\n",
       "      <td>413.910004</td>\n",
       "      <td>412.170013</td>\n",
       "      <td>81851800.0</td>\n",
       "      <td>412.170013</td>\n",
       "    </tr>\n",
       "    <tr>\n",
       "      <th>2021-04-21</th>\n",
       "      <td>416.290009</td>\n",
       "      <td>411.359985</td>\n",
       "      <td>411.510010</td>\n",
       "      <td>416.070007</td>\n",
       "      <td>66793000.0</td>\n",
       "      <td>416.070007</td>\n",
       "    </tr>\n",
       "    <tr>\n",
       "      <th>2021-04-22</th>\n",
       "      <td>416.779999</td>\n",
       "      <td>411.130005</td>\n",
       "      <td>415.890015</td>\n",
       "      <td>412.269989</td>\n",
       "      <td>97582800.0</td>\n",
       "      <td>412.269989</td>\n",
       "    </tr>\n",
       "    <tr>\n",
       "      <th>2021-04-23</th>\n",
       "      <td>418.250000</td>\n",
       "      <td>412.790009</td>\n",
       "      <td>412.869995</td>\n",
       "      <td>416.739990</td>\n",
       "      <td>73209200.0</td>\n",
       "      <td>416.739990</td>\n",
       "    </tr>\n",
       "  </tbody>\n",
       "</table>\n",
       "</div>"
      ],
      "text/plain": [
       "                  High         Low        Open       Close      Volume  \\\n",
       "Date                                                                     \n",
       "2021-04-19  416.739990  413.790009  416.260010  415.209991  78498500.0   \n",
       "2021-04-20  415.089996  410.589996  413.910004  412.170013  81851800.0   \n",
       "2021-04-21  416.290009  411.359985  411.510010  416.070007  66793000.0   \n",
       "2021-04-22  416.779999  411.130005  415.890015  412.269989  97582800.0   \n",
       "2021-04-23  418.250000  412.790009  412.869995  416.739990  73209200.0   \n",
       "\n",
       "             Adj Close  \n",
       "Date                    \n",
       "2021-04-19  415.209991  \n",
       "2021-04-20  412.170013  \n",
       "2021-04-21  416.070007  \n",
       "2021-04-22  412.269989  \n",
       "2021-04-23  416.739990  "
      ]
     },
     "execution_count": 19,
     "metadata": {},
     "output_type": "execute_result"
    }
   ],
   "source": [
    "spy_etf.tail()"
   ]
  },
  {
   "cell_type": "code",
   "execution_count": 20,
   "id": "853d8e17-46a5-4af3-a288-67e389fa2d72",
   "metadata": {},
   "outputs": [],
   "source": [
    "start = pd.to_datetime('2016-04-27')\n",
    "end = pd.to_datetime('2021-04-23')"
   ]
  },
  {
   "cell_type": "code",
   "execution_count": 21,
   "id": "d16c606f-9f3d-4328-b899-a478a3f7cc5e",
   "metadata": {},
   "outputs": [],
   "source": [
    "aapl = web.DataReader('AAPL','yahoo',start,end)"
   ]
  },
  {
   "cell_type": "code",
   "execution_count": 22,
   "id": "c336769a-885d-46d3-adfe-b037a79ca13a",
   "metadata": {},
   "outputs": [
    {
     "data": {
      "text/html": [
       "<div>\n",
       "<style scoped>\n",
       "    .dataframe tbody tr th:only-of-type {\n",
       "        vertical-align: middle;\n",
       "    }\n",
       "\n",
       "    .dataframe tbody tr th {\n",
       "        vertical-align: top;\n",
       "    }\n",
       "\n",
       "    .dataframe thead th {\n",
       "        text-align: right;\n",
       "    }\n",
       "</style>\n",
       "<table border=\"1\" class=\"dataframe\">\n",
       "  <thead>\n",
       "    <tr style=\"text-align: right;\">\n",
       "      <th></th>\n",
       "      <th>High</th>\n",
       "      <th>Low</th>\n",
       "      <th>Open</th>\n",
       "      <th>Close</th>\n",
       "      <th>Volume</th>\n",
       "      <th>Adj Close</th>\n",
       "    </tr>\n",
       "    <tr>\n",
       "      <th>Date</th>\n",
       "      <th></th>\n",
       "      <th></th>\n",
       "      <th></th>\n",
       "      <th></th>\n",
       "      <th></th>\n",
       "      <th></th>\n",
       "    </tr>\n",
       "  </thead>\n",
       "  <tbody>\n",
       "    <tr>\n",
       "      <th>2016-04-27</th>\n",
       "      <td>24.677500</td>\n",
       "      <td>23.920000</td>\n",
       "      <td>24.000000</td>\n",
       "      <td>24.455000</td>\n",
       "      <td>458408400.0</td>\n",
       "      <td>22.745811</td>\n",
       "    </tr>\n",
       "    <tr>\n",
       "      <th>2016-04-28</th>\n",
       "      <td>24.469999</td>\n",
       "      <td>23.562500</td>\n",
       "      <td>24.402500</td>\n",
       "      <td>23.707500</td>\n",
       "      <td>328970800.0</td>\n",
       "      <td>22.050558</td>\n",
       "    </tr>\n",
       "    <tr>\n",
       "      <th>2016-04-29</th>\n",
       "      <td>23.680000</td>\n",
       "      <td>23.127501</td>\n",
       "      <td>23.497499</td>\n",
       "      <td>23.434999</td>\n",
       "      <td>274126000.0</td>\n",
       "      <td>21.797100</td>\n",
       "    </tr>\n",
       "    <tr>\n",
       "      <th>2016-05-02</th>\n",
       "      <td>23.520000</td>\n",
       "      <td>23.100000</td>\n",
       "      <td>23.492500</td>\n",
       "      <td>23.410000</td>\n",
       "      <td>192640400.0</td>\n",
       "      <td>21.773848</td>\n",
       "    </tr>\n",
       "    <tr>\n",
       "      <th>2016-05-03</th>\n",
       "      <td>23.934999</td>\n",
       "      <td>23.420000</td>\n",
       "      <td>23.549999</td>\n",
       "      <td>23.795000</td>\n",
       "      <td>227325200.0</td>\n",
       "      <td>22.131937</td>\n",
       "    </tr>\n",
       "  </tbody>\n",
       "</table>\n",
       "</div>"
      ],
      "text/plain": [
       "                 High        Low       Open      Close       Volume  Adj Close\n",
       "Date                                                                          \n",
       "2016-04-27  24.677500  23.920000  24.000000  24.455000  458408400.0  22.745811\n",
       "2016-04-28  24.469999  23.562500  24.402500  23.707500  328970800.0  22.050558\n",
       "2016-04-29  23.680000  23.127501  23.497499  23.434999  274126000.0  21.797100\n",
       "2016-05-02  23.520000  23.100000  23.492500  23.410000  192640400.0  21.773848\n",
       "2016-05-03  23.934999  23.420000  23.549999  23.795000  227325200.0  22.131937"
      ]
     },
     "execution_count": 22,
     "metadata": {},
     "output_type": "execute_result"
    }
   ],
   "source": [
    "aapl.head()"
   ]
  },
  {
   "cell_type": "code",
   "execution_count": 23,
   "id": "3362eb76-f861-4c43-aef5-141ed67dd713",
   "metadata": {},
   "outputs": [],
   "source": [
    "import matplotlib.pyplot as plt"
   ]
  },
  {
   "cell_type": "code",
   "execution_count": 29,
   "id": "03906fc4-669c-4409-becf-11c73c76bb73",
   "metadata": {},
   "outputs": [
    {
     "data": {
      "text/plain": [
       "<matplotlib.legend.Legend at 0x7f89dcab1850>"
      ]
     },
     "execution_count": 29,
     "metadata": {},
     "output_type": "execute_result"
    },
    {
     "data": {
      "image/png": "[encoded data removed]",
      "text/plain": [
       "<Figure size 720x576 with 1 Axes>"
      ]
     },
     "metadata": {
      "needs_background": "light"
     },
     "output_type": "display_data"
    }
   ],
   "source": [
    "# We plot both market and stock\n",
    "spy_etf['Adj Close'].plot(figsize=(10,8),label='SPY')\n",
    "aapl['Adj Close'].plot(figsize=(10,8),label='AAPL')\n",
    "plt.legend()"
   ]
  },
  {
   "cell_type": "code",
   "execution_count": 30,
   "id": "d7b6c44b-ffa6-445d-ba7f-00862f0f2cd4",
   "metadata": {},
   "outputs": [],
   "source": [
    "# Cumulative returns for every day\n",
    "spy_etf['Cumulative Return'] = spy_etf['Adj Close']/spy_etf['Adj Close'].iloc[0]\n",
    "aapl['Cumulative Return'] = aapl['Adj Close']/aapl['Adj Close'].iloc[0]"
   ]
  },
  {
   "cell_type": "code",
   "execution_count": 31,
   "id": "18e6fcee-083c-48ff-a6b3-ee237aa91daa",
   "metadata": {},
   "outputs": [
    {
     "data": {
      "text/plain": [
       "<matplotlib.legend.Legend at 0x7f89dcc587c0>"
      ]
     },
     "execution_count": 31,
     "metadata": {},
     "output_type": "execute_result"
    },
    {
     "data": {
      "image/png": "[encoded data removed]",
      "text/plain": [
       "<Figure size 720x576 with 1 Axes>"
      ]
     },
     "metadata": {
      "needs_background": "light"
     },
     "output_type": "display_data"
    }
   ],
   "source": [
    "# Plot cumulative return\n",
    "spy_etf['Cumulative Return'].plot(figsize=(10,8),label='SPY')\n",
    "aapl['Cumulative Return'].plot(figsize=(10,8),label='AAPL')\n",
    "plt.legend()"
   ]
  },
  {
   "cell_type": "code",
   "execution_count": 32,
   "id": "dae9f75e-48e2-4f44-99b1-c1db19fc4a45",
   "metadata": {},
   "outputs": [],
   "source": [
    "# Daily return\n",
    "spy_etf['Daily Return'] = spy_etf['Adj Close'].pct_change(1)\n",
    "aapl['Daily Return'] = aapl['Adj Close'].pct_change(1)"
   ]
  },
  {
   "cell_type": "code",
   "execution_count": 58,
   "id": "3fdec306-b56f-418e-b0a1-b77c39b400b1",
   "metadata": {},
   "outputs": [
    {
     "data": {
      "text/plain": [
       "Text(0, 0.5, 'AAPL daily return')"
      ]
     },
     "execution_count": 58,
     "metadata": {},
     "output_type": "execute_result"
    },
    {
     "data": {
      "image/png": "[encoded data removed]",
      "text/plain": [
       "<Figure size 432x288 with 1 Axes>"
      ]
     },
     "metadata": {
      "needs_background": "light"
     },
     "output_type": "display_data"
    }
   ],
   "source": [
    "# Plot daily return: SCATTERPLOT\n",
    "plt.scatter(spy_etf['Daily Return'],aapl['Daily Return'],alpha=0.25)\n",
    "plt.xlabel('SPY daily return')\n",
    "plt.ylabel('AAPL daily return')"
   ]
  },
  {
   "cell_type": "code",
   "execution_count": 43,
   "id": "dab21a24-e3db-4508-9c38-d837aeec4e04",
   "metadata": {},
   "outputs": [],
   "source": [
    "# Compute alpha and beta values with linear regression\n",
    "result = stats.linregress(x=spy_etf['Daily Return'].iloc[1:],y=aapl['Daily Return'].iloc[1:])"
   ]
  },
  {
   "cell_type": "code",
   "execution_count": 44,
   "id": "9115c670-adae-48fa-9108-5f829f3fe405",
   "metadata": {},
   "outputs": [
    {
     "data": {
      "text/plain": [
       "LinregressResult(slope=1.2109202635243175, intercept=0.0007560023285205499, rvalue=0.7513930545477042, pvalue=1.1612225635329088e-228, stderr=0.0300294959426919, intercept_stderr=0.0003555869065306641)"
      ]
     },
     "execution_count": 44,
     "metadata": {},
     "output_type": "execute_result"
    }
   ],
   "source": [
    "result"
   ]
  },
  {
   "cell_type": "code",
   "execution_count": 45,
   "id": "64c5d090-2847-4619-88a5-8b93b8b420c1",
   "metadata": {},
   "outputs": [],
   "source": [
    "# We unpack the result values\n",
    "# Slope: beta\n",
    "# Intercept: alpha\n",
    "beta,alpha,r_value,p_value,std_err = result"
   ]
  },
  {
   "cell_type": "code",
   "execution_count": 46,
   "id": "452f9a92-ac67-4767-8f27-820d37e9ef4b",
   "metadata": {},
   "outputs": [
    {
     "data": {
      "text/plain": [
       "1.2109202635243175"
      ]
     },
     "execution_count": 46,
     "metadata": {},
     "output_type": "execute_result"
    }
   ],
   "source": [
    "# Every market move is scaled with beta to yield our stock moves\n",
    "beta"
   ]
  },
  {
   "cell_type": "code",
   "execution_count": 50,
   "id": "2436d958-8d48-4f87-b67e-af82dace0c9c",
   "metadata": {},
   "outputs": [
    {
     "data": {
      "text/plain": [
       "0.0007560023285205499"
      ]
     },
     "execution_count": 50,
     "metadata": {},
     "output_type": "execute_result"
    }
   ],
   "source": [
    "# According to CAPM, alpha -> 0\n",
    "# We see it is not really 0, but it has some residual value\n",
    "# Even small alpha values can mean a difference:\n",
    "# that is the return offset we have wrt market\n",
    "alpha"
   ]
  },
  {
   "cell_type": "code",
   "execution_count": 51,
   "id": "6da6247e-bace-492f-9221-3bc640b4076d",
   "metadata": {},
   "outputs": [
    {
     "data": {
      "text/plain": [
       "0.7513930545477042"
      ]
     },
     "execution_count": 51,
     "metadata": {},
     "output_type": "execute_result"
    }
   ],
   "source": [
    "r_value"
   ]
  },
  {
   "cell_type": "code",
   "execution_count": 68,
   "id": "3bcd9918-7c5f-4bc4-b886-1a68e5ee301c",
   "metadata": {},
   "outputs": [
    {
     "data": {
      "text/plain": [
       "1.1612225635329088e-228"
      ]
     },
     "execution_count": 68,
     "metadata": {},
     "output_type": "execute_result"
    }
   ],
   "source": [
    "p_value"
   ]
  },
  {
   "cell_type": "code",
   "execution_count": null,
   "id": "06e9eec1-bd93-462b-9447-49d5d30210ee",
   "metadata": {},
   "outputs": [],
   "source": [
    "# It is important to be aware of the R^2 and p values of the regression\n",
    "# as well as the mean and std. dev. values of our returns"
   ]
  },
  {
   "cell_type": "code",
   "execution_count": 70,
   "id": "b3f4ac06-875e-482a-a4d7-be335b1d0dd4",
   "metadata": {},
   "outputs": [
    {
     "data": {
      "text/plain": [
       "count    1256.000000\n",
       "mean        0.000694\n",
       "std         0.011826\n",
       "min        -0.109424\n",
       "25%        -0.002852\n",
       "50%         0.000733\n",
       "75%         0.005519\n",
       "max         0.090603\n",
       "Name: Daily Return, dtype: float64"
      ]
     },
     "execution_count": 70,
     "metadata": {},
     "output_type": "execute_result"
    }
   ],
   "source": [
    "spy_etf['Daily Return'].describe()"
   ]
  },
  {
   "cell_type": "code",
   "execution_count": 71,
   "id": "0f303cc7-7aec-4122-b705-29953f379429",
   "metadata": {},
   "outputs": [
    {
     "data": {
      "text/plain": [
       "count    1256.000000\n",
       "mean        0.001596\n",
       "std         0.019058\n",
       "min        -0.128647\n",
       "25%        -0.006201\n",
       "50%         0.001119\n",
       "75%         0.010262\n",
       "max         0.119808\n",
       "Name: Daily Return, dtype: float64"
      ]
     },
     "execution_count": 71,
     "metadata": {},
     "output_type": "execute_result"
    }
   ],
   "source": [
    "# AAPL (stock) has larger mean and std. dev. than SPY (market)\n",
    "aapl['Daily Return'].describe()"
   ]
  },
  {
   "cell_type": "code",
   "execution_count": 75,
   "id": "db89a723-b2fb-4010-8554-ed7eb9a9a315",
   "metadata": {},
   "outputs": [
    {
     "data": {
      "text/plain": [
       "<matplotlib.legend.Legend at 0x7f89e12704f0>"
      ]
     },
     "execution_count": 75,
     "metadata": {},
     "output_type": "execute_result"
    },
    {
     "data": {
      "image/png": "[encoded data removed]",
      "text/plain": [
       "<Figure size 720x576 with 1 Axes>"
      ]
     },
     "metadata": {
      "needs_background": "light"
     },
     "output_type": "display_data"
    }
   ],
   "source": [
    "# We should also plot overlapping histograms\n",
    "# We see the stock (AAPL) profile is fatter/wider\n",
    "aapl['Daily Return'].plot(kind='hist',figsize=(10,8),label='AAPL',bins=50,alpha=0.5)\n",
    "spy_etf['Daily Return'].plot(kind='hist',figsize=(10,8),label='SPY',bins=50,alpha=0.5)\n",
    "plt.legend()"
   ]
  },
  {
   "cell_type": "code",
   "execution_count": null,
   "id": "df967faa-2241-4a93-942b-08bc6ad31389",
   "metadata": {},
   "outputs": [],
   "source": []
  }
 ],
 "metadata": {
  "kernelspec": {
   "display_name": "Python 3",
   "language": "python",
   "name": "python3"
  },
  "language_info": {
   "codemirror_mode": {
    "name": "ipython",
    "version": 3
   },
   "file_extension": ".py",
   "mimetype": "text/x-python",
   "name": "python",
   "nbconvert_exporter": "python",
   "pygments_lexer": "ipython3",
   "version": "3.9.2"
  }
 },
 "nbformat": 4,
 "nbformat_minor": 5
}
