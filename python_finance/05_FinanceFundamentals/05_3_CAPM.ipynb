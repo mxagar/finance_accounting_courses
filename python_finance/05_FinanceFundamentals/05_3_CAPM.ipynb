{
 "cells": [
  {
   "cell_type": "markdown",
   "id": "15c9bbfb-28ff-4af6-b6dd-fab95c667d84",
   "metadata": {},
   "source": [
    "# 5. Finance Fundamentals"
   ]
  },
  {
   "cell_type": "markdown",
   "id": "6a311d61-5d28-435d-bf92-320d3bc134d2",
   "metadata": {},
   "source": [
    "Overview of contents:\n",
    "- 5.1 Portfolio and Shape Ratio\n",
    "- 5.2 Portfolio Optimization\n",
    "- 5.3 Financial Tools and Concepts\n",
    "- 5.4 CAMP Model"
   ]
  },
  {
   "cell_type": "markdown",
   "id": "23d4eb66-45c0-4ef6-a8f6-7900cf314568",
   "metadata": {},
   "source": [
    "## 5.4 CAPM Model = Capital Assets Pricing Model"
   ]
  },
  {
   "cell_type": "markdown",
   "id": "ad22c485-aaea-41bd-aca6-8624db73236d",
   "metadata": {},
   "source": [
    "- One of the most fundamental models in investing\n",
    "- A portfolio is a set of weighted securities which yield a return\n",
    "- The return of a portfolio is then:\n",
    "\n",
    "$r_p(t) = \\sum_{i}^{n} w_i r_i(t)$\n",
    "\n",
    "- We can imagine the entire market as a portfolio, for example the S&P500; then, the company weights would be\n",
    "\n",
    "$w_i = \\frac{MarketCap_i}{\\sum_j^n MarketCap_j}$\n",
    "\n",
    "- The market cap of a company is `num_shares * price_share`\n",
    "- The CAPM model describes the linear relationship between the returns of a stock and the market\n",
    "\n",
    "$r_i(t) = \\beta_i r_m(t) + \\alpha_i(t)$\n",
    "\n",
    "- If we have a scatterplot with the daily returns of the market and a the ones of a stock, the line that fits in the plot has the `beta` and `alpha` coefficients.\n",
    "- CAPM says\n",
    "    - `beta` is the multiplication of the market return in our stock\n",
    "    - `alpha` is a residual term that will be tend to be 0; in fact, CAMPM states that `alpha` is random and cannot be predicted\n",
    "- However, we are going to behave like active investors and are going to believe that we are able to modify/predict `alpha` values\n",
    "- Therefore, if we take the `beta` of our portfolio and the individual `alpha` values of the stocks, the CAPM could be re-written as\n",
    "\n",
    "$r_p(t) = \\beta_p r_m(t) + \\sum_{i}^{n} w_i \\alpha_i(t)$\n",
    "\n"
   ]
  },
  {
   "cell_type": "code",
   "execution_count": 2,
   "id": "61ef493c-5198-4a9c-9349-15e9b989e5f3",
   "metadata": {},
   "outputs": [],
   "source": [
    "from scipy import stats\n",
    "import pandas as pd\n",
    "import pandas_datareader as web"
   ]
  },
  {
   "cell_type": "code",
   "execution_count": 5,
   "id": "a765c6e7-6352-4445-b13c-ce929536c165",
   "metadata": {},
   "outputs": [],
   "source": [
    "# We get the SPIDER ETF, which tracks the entire S&P500\n",
    "spy_etf = web.DataReader('SPY','yahoo')"
   ]
  },
  {
   "cell_type": "code",
   "execution_count": null,
   "id": "e5d833e7-05bb-4c2d-a453-ca5d25fdf279",
   "metadata": {},
   "outputs": [],
   "source": []
  }
 ],
 "metadata": {
  "kernelspec": {
   "display_name": "Python 3",
   "language": "python",
   "name": "python3"
  },
  "language_info": {
   "codemirror_mode": {
    "name": "ipython",
    "version": 3
   },
   "file_extension": ".py",
   "mimetype": "text/x-python",
   "name": "python",
   "nbconvert_exporter": "python",
   "pygments_lexer": "ipython3",
   "version": "3.9.2"
  }
 },
 "nbformat": 4,
 "nbformat_minor": 5
}
