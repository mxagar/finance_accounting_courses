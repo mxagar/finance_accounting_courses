{
 "cells": [
  {
   "cell_type": "markdown",
   "id": "8f01be06-72a7-4903-adbb-2b0b78663c4c",
   "metadata": {},
   "source": [
    "# 5. Finance Fundamentals"
   ]
  },
  {
   "cell_type": "markdown",
   "id": "8628a8fa-0c98-456b-9dfc-8abe64ddf5f7",
   "metadata": {},
   "source": [
    "Overview of contents:\n",
    "- 5.1 Portfolio and Shape Ratio\n",
    "- 5.2 Portfolio Optimization\n",
    "- 5.3 Financial Tools\n",
    "- 5.4 CAMP Model"
   ]
  },
  {
   "cell_type": "markdown",
   "id": "2146e20d-dd2b-4c6f-8389-414fc0045d55",
   "metadata": {},
   "source": [
    "## 5.3 Financial Tools"
   ]
  },
  {
   "cell_type": "markdown",
   "id": "be061d6a-17cd-45eb-9715-508be5243f9b",
   "metadata": {},
   "source": [
    "Overview of concepts:\n",
    "- Types of Funds\n",
    "- Order Books\n",
    "- Latency Arbitrage or High Frequency Trading (HFT)\n",
    "- Short Selling"
   ]
  },
  {
   "cell_type": "markdown",
   "id": "40f27bfb-11d4-4b46-bc0c-3ac4d1c89435",
   "metadata": {},
   "source": [
    "### Types of Funds"
   ]
  },
  {
   "cell_type": "markdown",
   "id": "03c22366-fae8-464b-b6d5-6247ee87a25f",
   "metadata": {},
   "source": [
    "- There are 3 major types of funds\n",
    "    - Exchange Traded Funds, ETFs\n",
    "        - Basket of funds, commodities, securities, etc.\n",
    "        - Holdings are completely public and transparent and individuals can buy and trade\n",
    "        - Very liquid: we can easily buy and sell ETFs\n",
    "        - Typically investors want to have a diversified portfolio for teh long run\n",
    "        - One of themost common: Spider (SPY): it tracks teh S&P500\n",
    "    - Mutual Funds\n",
    "        - Pools of funds collected from many investors\n",
    "        - Purpose of investing in stocks, bonds, etc.\n",
    "        - The mutual fund has a prospectus or objective, and investments are managed for that purpose; they are operated by money managers\n",
    "        - Mutual funds disclose their holdings usually once a quarter\n",
    "    - Hedge Funds\n",
    "        - Alternative investments using pooled funds that use different strategies to earn active return or alpha for the investors\n",
    "        - They may be aggressively managed and can make use of derivates and leverage in domestic and international markets\n",
    "        - Usually high returns are targeted; they want to beat the market, r at least beat the benchmarks\n",
    "        - Only accreditred investors are allowed (you need to have a lot of money)\n",
    "        - This course is trying to emulate the tools a hedge fund coudl use to beat the market\n",
    "        - They do not need to disclose to anyone (not even to their clients) what they're doing\n",
    "- Fees associated to each type of fund\n",
    "    - ETFs: Expense ratio: 0.01% - 1%\n",
    "    - Mutua Funds: Expense ratio: 0.5% - 3%\n",
    "    - Hedge Funds: 2% of fund, 20% of profits\n",
    "- Liquidity\n",
    "    - ETFs: buy/sell like a stock\n",
    "    - Mutual funds: buy/sell at the end of the day through a broker\n",
    "    - Hedge funds: depends on agreement\n",
    "- Links\n",
    "    - https://www.investopedia.com/terms/e/etf.asp\n",
    "    - https://www.investopedia.com/terms/m/mutualfund.asp\n",
    "    - https://www.investopedia.com/terms/h/hedgefund.asp"
   ]
  },
  {
   "cell_type": "markdown",
   "id": "6bb746d5-5bf1-40ea-8cd5-96150ef34e87",
   "metadata": {},
   "source": [
    "### Order Books"
   ]
  },
  {
   "cell_type": "markdown",
   "id": "232ad7a8-b2fa-47ed-99ed-5ffc226904c9",
   "metadata": {},
   "source": [
    "- Every time we buy/sell a stock we create an **order**, whicih contains the following information\n",
    "    - Buy or sell\n",
    "    - Symbol, eg. AAPL\n",
    "    - Number of shares\n",
    "    - Limit / Market: if limit, we are willing to pay maximum/minimum a price; if market: the shares are bought/sold at market price\n",
    "    - Price (for Limit orders)\n",
    "- Every order goes to an order book in the exchange\n",
    "    - Either the orders go automatically or through a broker\n",
    "    - The book has two columns: BUY & SELL\n",
    "    - BUY column has buy orders with SHARES (number of shares) & BID (limit max price)\n",
    "    - SELL column has sell orders with SHARES (number of shares) & ASK (limit min price)\n",
    "    - BUY-SELL entries that match are executed\n",
    "- How does an order get to the exchange?\n",
    "    - Usually that happens through brokers: the investors contact brokers that buy/sell in the exchanges\n",
    "        - If the broker has clients that want the complementary action with an asset (buy/sell), they can bypass the exchanges, but they need to provide the same prices as in the exchanges\n",
    "        - Different brokers can handle also between them in dark pools, bypassing the exchanges; dark pools are opaque, but are legal. They are meaningful if large amounts are traded, to avoid affecting too much the market price\n",
    "        - Dark pools are becoming more present\n",
    "        - The brokers get a fee\n",
    "    - Another scenario are High Frequency Tradings\n",
    "        - HFT companies put their servers close to the exchanges, so they can send orders faster (eg, in 0.5 milliseconds); usual orders take around 2 ms to arrive\n",
    "        - Now, image a big company whats to buy a lot of shares: orders must be split to different eschanges due to their size\n",
    "        - As one large 2ms order arrives an exchange, a HFT company detects it and triggers the servers of other exchanges to buy fasteer than the other large orders arrive, so they have an advantage\n",
    "        - HFT is not relevant for us"
   ]
  },
  {
   "cell_type": "markdown",
   "id": "bb8c89d3-3a5b-4245-937d-c6d1c40ef418",
   "metadata": {},
   "source": [
    "### Short Selling"
   ]
  },
  {
   "cell_type": "code",
   "execution_count": null,
   "id": "358f2d6c-d99b-462b-b284-261f88cf31cb",
   "metadata": {},
   "outputs": [],
   "source": []
  }
 ],
 "metadata": {
  "kernelspec": {
   "display_name": "Python 3",
   "language": "python",
   "name": "python3"
  },
  "language_info": {
   "codemirror_mode": {
    "name": "ipython",
    "version": 3
   },
   "file_extension": ".py",
   "mimetype": "text/x-python",
   "name": "python",
   "nbconvert_exporter": "python",
   "pygments_lexer": "ipython3",
   "version": "3.9.2"
  }
 },
 "nbformat": 4,
 "nbformat_minor": 5
}
