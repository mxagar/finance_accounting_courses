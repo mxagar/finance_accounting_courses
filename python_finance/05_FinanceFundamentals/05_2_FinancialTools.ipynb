{
 "cells": [
  {
   "cell_type": "markdown",
   "id": "8f01be06-72a7-4903-adbb-2b0b78663c4c",
   "metadata": {},
   "source": [
    "# 5. Finance Fundamentals"
   ]
  },
  {
   "cell_type": "markdown",
   "id": "8628a8fa-0c98-456b-9dfc-8abe64ddf5f7",
   "metadata": {},
   "source": [
    "Overview of contents:\n",
    "- 5.1 Portfolio and Shape Ratio\n",
    "- 5.2 Portfolio Optimization\n",
    "- 5.3 Financial Tools and Concepts\n",
    "- 5.4 CAMP Model\n",
    "- 5.5 Value of a Company"
   ]
  },
  {
   "cell_type": "markdown",
   "id": "2146e20d-dd2b-4c6f-8389-414fc0045d55",
   "metadata": {},
   "source": [
    "## 5.3 Financial Tools and Concepts"
   ]
  },
  {
   "cell_type": "markdown",
   "id": "be061d6a-17cd-45eb-9715-508be5243f9b",
   "metadata": {},
   "source": [
    "Overview of concepts:\n",
    "- Types of Funds\n",
    "- Order Books\n",
    "- Latency Arbitrage or High Frequency Trading (HFT)\n",
    "- Short Selling\n",
    "- Stock Splits\n",
    "- Dividends\n",
    "- Survivorship bias\n",
    "- Efficient Market Hypothesis\n",
    "- Derivatives and Futures\n",
    "- Some Other Terms: Leveraging, Hedging, Pair-trading"
   ]
  },
  {
   "cell_type": "markdown",
   "id": "40f27bfb-11d4-4b46-bc0c-3ac4d1c89435",
   "metadata": {},
   "source": [
    "### Types of Funds"
   ]
  },
  {
   "cell_type": "markdown",
   "id": "03c22366-fae8-464b-b6d5-6247ee87a25f",
   "metadata": {},
   "source": [
    "- There are 3 major types of funds\n",
    "    - Exchange Traded Funds, ETFs\n",
    "        - Basket of funds, commodities, securities, etc.\n",
    "        - Holdings are completely public and transparent and individuals can buy and trade\n",
    "        - Very liquid: we can easily buy and sell ETFs\n",
    "        - Typically investors want to have a diversified portfolio for teh long run\n",
    "        - One of themost common: Spider (SPY): it tracks teh S&P500\n",
    "    - Mutual Funds\n",
    "        - Pools of funds collected from many investors\n",
    "        - Purpose of investing in stocks, bonds, etc.\n",
    "        - The mutual fund has a prospectus or objective, and investments are managed for that purpose; they are operated by money managers\n",
    "        - Mutual funds disclose their holdings usually once a quarter\n",
    "    - Hedge Funds\n",
    "        - Alternative investments using pooled funds that use different strategies to earn active return or alpha for the investors\n",
    "        - They may be aggressively managed and can make use of derivates and leverage in domestic and international markets\n",
    "        - Usually high returns are targeted; they want to beat the market, r at least beat the benchmarks\n",
    "        - Only accreditred investors are allowed (you need to have a lot of money)\n",
    "        - This course is trying to emulate the tools a hedge fund coudl use to beat the market\n",
    "        - They do not need to disclose to anyone (not even to their clients) what they're doing\n",
    "- Fees associated to each type of fund\n",
    "    - ETFs: Expense ratio: 0.01% - 1%\n",
    "    - Mutua Funds: Expense ratio: 0.5% - 3%\n",
    "    - Hedge Funds: 2% of fund, 20% of profits\n",
    "- Liquidity\n",
    "    - ETFs: buy/sell like a stock\n",
    "    - Mutual funds: buy/sell at the end of the day through a broker\n",
    "    - Hedge funds: depends on agreement\n",
    "- Links\n",
    "    - https://www.investopedia.com/terms/e/etf.asp\n",
    "    - https://www.investopedia.com/terms/m/mutualfund.asp\n",
    "    - https://www.investopedia.com/terms/h/hedgefund.asp"
   ]
  },
  {
   "cell_type": "markdown",
   "id": "6bb746d5-5bf1-40ea-8cd5-96150ef34e87",
   "metadata": {},
   "source": [
    "### Order Books"
   ]
  },
  {
   "cell_type": "markdown",
   "id": "232ad7a8-b2fa-47ed-99ed-5ffc226904c9",
   "metadata": {},
   "source": [
    "- Every time we buy/sell a stock we create an **order**, whicih contains the following information\n",
    "    - Buy or sell\n",
    "    - Symbol, eg. AAPL\n",
    "    - Number of shares\n",
    "    - Limit / Market: if limit, we are willing to pay maximum/minimum a price; if market: the shares are bought/sold at market price\n",
    "    - Price (for Limit orders)\n",
    "- Every order goes to an order book in the exchange\n",
    "    - Either the orders go automatically or through a broker\n",
    "    - The book has two columns: BUY & SELL\n",
    "    - BUY column has buy orders with SHARES (number of shares) & BID (limit max price)\n",
    "    - SELL column has sell orders with SHARES (number of shares) & ASK (limit min price)\n",
    "    - BUY-SELL entries that match are executed\n",
    "- How does an order get to the exchange?\n",
    "    - Usually that happens through brokers: the investors contact brokers that buy/sell in the exchanges\n",
    "        - If the broker has clients that want the complementary action with an asset (buy/sell), they can bypass the exchanges, but they need to provide the same prices as in the exchanges\n",
    "        - Different brokers can handle also between them in dark pools, bypassing the exchanges; dark pools are opaque, but are legal. They are meaningful if large amounts are traded, to avoid affecting too much the market price\n",
    "        - Dark pools are becoming more present\n",
    "        - The brokers get a fee\n",
    "    - Another scenario are High Frequency Tradings\n",
    "        - HFT companies put their servers close to the exchanges, so they can send orders faster (eg, in 0.5 milliseconds); usual orders take around 2 ms to arrive\n",
    "        - Now, image a big company whats to buy a lot of shares: orders must be split to different eschanges due to their size\n",
    "        - As one large 2ms order arrives an exchange, a HFT company detects it and triggers the servers of other exchanges to buy fasteer than the other large orders arrive, so they have an advantage\n",
    "        - HFT is not relevant for us"
   ]
  },
  {
   "cell_type": "markdown",
   "id": "bb8c89d3-3a5b-4245-937d-c6d1c40ef418",
   "metadata": {},
   "source": [
    "### Short Selling"
   ]
  },
  {
   "cell_type": "markdown",
   "id": "4f23b14c-a5ad-4500-8f0d-fb016b39fece",
   "metadata": {},
   "source": [
    "- Short selling allows making profits when stock proce goes down, but it has a higher risk, because you can loose everything you invest\n",
    "- How it works\n",
    "    - Short sellers pick stock values that they think will drop\n",
    "    - They borrow those stocks with a fee\n",
    "    - They immediately sells those borrowed shares at spot price, say, 100 USD the share\n",
    "    - If they are correct, the price drops, and they immediately buy the stock at price 50 USD\n",
    "    - Then, the give shares back to the lender\n",
    "    - To sum up, the benefit is (100-50)*num_shares - fees\n",
    "- Short-selling is implemented by assigning a negative weight or portfolio ratio to an asset."
   ]
  },
  {
   "cell_type": "markdown",
   "id": "0e840394-99b1-4a54-9ca3-212034563d70",
   "metadata": {},
   "source": [
    "### Stock Splits"
   ]
  },
  {
   "cell_type": "markdown",
   "id": "ba7dbc39-fa65-494a-88a7-3fd9c9dabb19",
   "metadata": {},
   "source": [
    "- Companies usually split their stocks when stock prices become high\n",
    "    - Ratio splits are created: 2:1, 3:1, 4:1, etc.\n",
    "    - 3:1 meas 1 stock is now 3\n",
    "    - This is done so that one stock/share price is more affordable, and probably psychologically more attractive\n",
    "- The `Adj. Close` value takes into account those splits and modifies the historical prices to match the real company price without jumps"
   ]
  },
  {
   "cell_type": "markdown",
   "id": "a5131b0e-a154-424a-8b7f-736d15be653f",
   "metadata": {},
   "source": [
    "### Dividends"
   ]
  },
  {
   "cell_type": "markdown",
   "id": "3c14b1c7-8531-4431-9b9c-9be80371d3dc",
   "metadata": {},
   "source": [
    "- Sometimes stocks pay out **dividends**: shareholders receive some payout for each unit of stock, depending on the querterly earnings of the company\n",
    "- This causes the price to jump before the dividend payout and drop after it\n",
    "- The `Adj. Close` price also takes into account those dividend payouts\n",
    "- Therefore, always use `Adj. Close` values!"
   ]
  },
  {
   "cell_type": "markdown",
   "id": "df822d29-980c-4f43-a6c5-0412f0cd910c",
   "metadata": {},
   "source": [
    "### Survivorship Bias"
   ]
  },
  {
   "cell_type": "markdown",
   "id": "f1e14167-dc81-48f2-960a-e306d92f56d9",
   "metadata": {},
   "source": [
    "- During the time and especially after the crashes (dot-com in 2000/1, housing and sub-prime in 2007/8), some companies disappear from the market and others get their share, becoming very big\n",
    "    - The companies we have in S&P500 and Nasdaq are the ones which survided and became big\n",
    "    - Additionally, the pool of companies and their shares 10 years ago has nothing to do with the pool nowadays\n",
    "- Therefore, it is very delicate analyzing the market over long periods of time without taking into account that **survivorship bias**\n",
    "    - The time in which the series are picked could be a factor: we might end up having a bias in our data that makes our conclusions useless\n",
    "- Quandl and other companies provide suvivorship bias free data, but it is usually not for free"
   ]
  },
  {
   "cell_type": "markdown",
   "id": "865d4685-7a91-4b0a-8556-1c64ab59df8e",
   "metadata": {},
   "source": [
    "### Efficient Markets Hypothesis = EMH"
   ]
  },
  {
   "cell_type": "markdown",
   "id": "f6ce2b41-a0b4-466f-a50d-b55648d7a6c2",
   "metadata": {},
   "source": [
    "- Efficient Market Hypothesis states that the prices incorporates all the required information, therefore, it is not possible to beat the market, because all the information is already there and someone has already used it\n",
    "- Some other conclusions according to EMH\n",
    "    - Stock prices are already fair prices\n",
    "    - No overvalued or undervalued stocks exist really\n",
    "- Is this true? If it were true:\n",
    "    - Trading would not make much sense\n",
    "    - Hedge funds would be just very lucky institutions, because they beat the market\n",
    "- Therefore, we assume that the market is not 100% efficient\n",
    "    - We have every time more information, but there is a gap\n",
    "    - In fact, sometimes, the market has been shown to be overvalued, eg., during the financial crisis, during the dot-com crisis"
   ]
  },
  {
   "cell_type": "markdown",
   "id": "833e0bef-c8ee-4e31-b69d-bf76195fb0bb",
   "metadata": {},
   "source": [
    "### Derivatives & Futures"
   ]
  },
  {
   "cell_type": "markdown",
   "id": "fe272491-71c4-4512-96bf-d07456983735",
   "metadata": {},
   "source": [
    "- Derivatives: securities that move in correspondence to one or more underlying assets; basically two parties make a contract whose value is based on an agreed financial asset.\n",
    "    - Derivatives can be\n",
    "        - Options\n",
    "        - Swaps\n",
    "        - Futures\n",
    "        - Forward contracts\n",
    "    - Underlying assets can be\n",
    "        - Bonds\n",
    "        - Commodities (e.g., gold)\n",
    "        - Currencies\n",
    "        - Interest rates\n",
    "        - Market indexes (e.g., S&P500)\n",
    "        - Equity (= stocks)\n",
    "- Forward contracts\n",
    "    - Agreement between two parties to pay a delivery price `K` for some asset at some future time; so we have in the contract: price, delivery/maturity date and terms\n",
    "    - Typical goods used in forward contracts could be\n",
    "        - Oil\n",
    "        - Rice\n",
    "        - Wheat\n",
    "        - Pork\n",
    "        - ...\n",
    "    - The person selling the asset is said to be in **short** position\n",
    "    - The person to buy it in the future is in the **long** position\n",
    "    - The forward contract is beneficial for both parties, because they reduce risk and volatility in the future; however, there is always a winner and a loser when the contract is executed in the future\n",
    "        - If the market price on the future day `S(t=D)` is higher than the price on the forward contract `S > K`, the seller is losing money; but it coud be the other way around\n",
    "        - The point is neither of them knows what is going to happen, so they agree on a fair price beforehand!\n",
    "    - The payoff function is `Payoff = S - K` for the long position (buyer), `K - S` for the short position (seller), and its a line on the value of `S` cutting in `K`\n",
    "    - Forward contracts have some risks associated\n",
    "        - Counterparty risk: what happens if one party does not commit to the \n",
    "        - Lack of liquidity: you have to wait until the day\n",
    "        - Need to negotiate many customized terms of the contract\n",
    "    - Futures contracts solve those issues!\n",
    "- Futures contracts\n",
    "    - Futures contracts solve the issues/risks of forward contracts\n",
    "    - Futures contracts are forward contracts standardized (price, delivery date, ter,s) for trade in an exchange\n",
    "    - The exchange acts as an itermmediary, eliminating the courter-party risk\n",
    "    - Futures are settled daily!\n",
    "        - There holder of the futures contract holds a margin account in which the difference of the future contract price and the market price is deposited; this process is called marking to market\n",
    "    - Futures are good because they allow for minimized risk for both parties, and they reduce volatility\n",
    "    - On the other hand, futures can be used also for speculation; e.g., someone can speculate with pork prices if he/she predicts some kind of disease, etc."
   ]
  },
  {
   "cell_type": "markdown",
   "id": "c5002951-6b91-4272-8e98-df17d55e65dc",
   "metadata": {},
   "source": [
    "### Some Other Terms: Leveraging, Hedging, Pair-trading"
   ]
  },
  {
   "cell_type": "markdown",
   "id": "71ef345e-35a7-40d1-9099-4ff7e888b1fa",
   "metadata": {},
   "source": [
    "- Leveraging: when you borrow money to invest; very risky.\n",
    "    - Leveraging is implemented by assigning a weight or portfolio ratio bigger than 1 to an asset (or just the sum of all ratios needs to be bigger than 1?)\n",
    "- Hedging: securing your losses by minimizing the risk\n",
    "    - with low `beta` and high `alpha` stocks (see the CAPM model)\n",
    "    - with a diversified portfolio\n",
    "    - with options or similar derivatives\n",
    "- Pair-trading: when two highly correlated (actually, cointegrated) stocks are used to predict the ups/downs mutually so that quick long/short trades are done in pair"
   ]
  },
  {
   "cell_type": "code",
   "execution_count": null,
   "id": "e340927b-70a8-477e-a457-4643c07064c4",
   "metadata": {},
   "outputs": [],
   "source": []
  }
 ],
 "metadata": {
  "kernelspec": {
   "display_name": "Python 3",
   "language": "python",
   "name": "python3"
  },
  "language_info": {
   "codemirror_mode": {
    "name": "ipython",
    "version": 3
   },
   "file_extension": ".py",
   "mimetype": "text/x-python",
   "name": "python",
   "nbconvert_exporter": "python",
   "pygments_lexer": "ipython3",
   "version": "3.9.2"
  }
 },
 "nbformat": 4,
 "nbformat_minor": 5
}
