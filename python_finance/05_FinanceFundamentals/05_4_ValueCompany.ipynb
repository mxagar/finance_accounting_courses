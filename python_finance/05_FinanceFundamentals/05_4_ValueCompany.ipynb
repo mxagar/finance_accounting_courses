{
 "cells": [
  {
   "cell_type": "markdown",
   "id": "e2326dd1-fc2c-4fc5-95cf-99cb0b0cd0d8",
   "metadata": {},
   "source": [
    "# 5. Finance Fundamentals"
   ]
  },
  {
   "cell_type": "markdown",
   "id": "cd570d2d-117f-4e02-9670-6acae9000247",
   "metadata": {},
   "source": [
    "Overview of contents:\n",
    "- 5.1 Portfolio and Shape Ratio\n",
    "- 5.2 Portfolio Optimization\n",
    "- 5.3 Financial Tools and Concepts\n",
    "- 5.4 CAMP Model\n",
    "- 5.5 Value of a Company"
   ]
  },
  {
   "cell_type": "markdown",
   "id": "cf4e2a51-128d-4a4e-80a8-fbac4e0dc7a0",
   "metadata": {},
   "source": [
    "## 5.5 Value of a Company"
   ]
  },
  {
   "cell_type": "markdown",
   "id": "e2196ae0-db31-425e-a75d-457c2382ac7a",
   "metadata": {},
   "source": [
    "Unlike the other sections, I created this section by browsing the Internet trying to understand how the values of stocks and companies are computed.\n",
    "\n",
    "Some guideline contents:\n",
    "- https://www.udemy.com/course/python-for-finance-financial-analysis-for-investing/\n",
    "    - Intrinsic value section\n",
    "    - Indicators: MACD from free course\n",
    "- https://www.udemy.com/course/introduction-to-accounting-finance-modeling-valuation-by-chris-haroun/"
   ]
  },
  {
   "cell_type": "code",
   "execution_count": null,
   "id": "94af4e96-a0b1-48a5-ab51-d897af59aabd",
   "metadata": {},
   "outputs": [],
   "source": []
  }
 ],
 "metadata": {
  "kernelspec": {
   "display_name": "Python 3",
   "language": "python",
   "name": "python3"
  },
  "language_info": {
   "codemirror_mode": {
    "name": "ipython",
    "version": 3
   },
   "file_extension": ".py",
   "mimetype": "text/x-python",
   "name": "python",
   "nbconvert_exporter": "python",
   "pygments_lexer": "ipython3",
   "version": "3.9.2"
  }
 },
 "nbformat": 4,
 "nbformat_minor": 5
}
