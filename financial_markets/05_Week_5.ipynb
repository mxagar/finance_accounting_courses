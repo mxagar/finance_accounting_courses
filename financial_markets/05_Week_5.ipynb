{
 "cells": [
  {
   "cell_type": "markdown",
   "metadata": {},
   "source": [
    "# Financial Markets\n",
    "\n",
    "Coursera, Yale.\n",
    "Prof. Robert Shiller."
   ]
  },
  {
   "cell_type": "markdown",
   "metadata": {},
   "source": [
    "## Lesson 12"
   ]
  },
  {
   "cell_type": "markdown",
   "metadata": {},
   "source": [
    "### Student Loans\n",
    "- Student loans work as regular loans nowadays, but they could have an equity model: students pay back depending on their salary after the graduation\n",
    "- Is there a student loan bubble?\n",
    "    - Shiller thinks that studies have become like a kind of aristocracy or classes in the US and probably somewhere else\n",
    "    - So young people thinks they need to study and connect to important people; that drives prices up\n",
    "    - Even state universities are getting expensive because they are not subsidized\n",
    "    - It might be a bubble"
   ]
  },
  {
   "cell_type": "markdown",
   "metadata": {},
   "source": [
    "### Forwards and Futures Markets\n",
    "- Not that many people use them, people even misstrust them\n",
    "- They are a particular type of derivatives\n",
    "- The usual market is the the spot market: you deal with the object immediately\n",
    "- In forward and futures markets, we have contracts for future prices and deliveries in the future\n",
    "- However, these markets have a function!\n",
    "    - Grain traders, for instance, trade in those markets\n",
    "    - Grains need to be stored\n",
    "    - Grain trading is the origin of forward and futures markets\n",
    "- Which assets end up in future markets?\n",
    "    - It's difficult to answer that -- it's a trial and error\n",
    "    - How do we know that a party will be great? It's similar\n",
    "    - Shiller started a home prices futures market, it is running, but it's not been a success as expected"
   ]
  },
  {
   "cell_type": "markdown",
   "metadata": {},
   "source": [
    "### Forward Contracts\n",
    "- Two individuals make a contract to deliver in a certain date at a price: maturity date\n",
    "    - Example: rice farmer sells grain to a warehouse\n",
    "- Both sides are locked to the contract: they have no liquidity\n",
    "    - What if the farmer gets drunk and doesn't produce grain?\n",
    "    - For that reason, we have futures markets: the risk of not knowing the farmer vanishes\n",
    "- Forward contracts are traded Over-The-Counter (OTC): not in a centralized exchange, but through a network of dealers"
   ]
  },
  {
   "cell_type": "markdown",
   "metadata": {},
   "source": [
    "### Futures Contracts\n",
    "- Like a forward contract, but both parties deal with an exchange rather than with each other\n",
    "- Futures contracts rely on margin calls\n",
    "    - Margin calls happen when an investor borrows part of the money from a broker to invest in a portfolio; when the value of the portfolio decreases below a price, the investor receives a margin call from the broker -- the investir needs to either sell some assets or put more funds in the portfolio\n",
    "    - The futures contract works like that\n",
    "        - Future price is set\n",
    "        - Present price is monitored\n",
    "        - The buyer has a margin account with the settled money in it and can exit whenever he wants\n",
    "        - If price goes down, the margin account is decreased with the difference: the broker takes money from the account\n",
    "            - The buyer can be called if no money is in the margin account to be asked to put money in the margin account\n",
    "            - If there is no money, they sell\n",
    "        - If price goes up, the buyer is protected"
   ]
  },
  {
   "cell_type": "code",
   "execution_count": null,
   "metadata": {},
   "outputs": [],
   "source": []
  }
 ],
 "metadata": {
  "kernelspec": {
   "display_name": "Python 3",
   "language": "python",
   "name": "python3"
  },
  "language_info": {
   "codemirror_mode": {
    "name": "ipython",
    "version": 3
   },
   "file_extension": ".py",
   "mimetype": "text/x-python",
   "name": "python",
   "nbconvert_exporter": "python",
   "pygments_lexer": "ipython3",
   "version": "3.6.8"
  }
 },
 "nbformat": 4,
 "nbformat_minor": 2
}
