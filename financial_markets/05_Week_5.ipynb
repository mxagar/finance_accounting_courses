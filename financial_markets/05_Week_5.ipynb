{
 "cells": [
  {
   "cell_type": "markdown",
   "metadata": {},
   "source": [
    "# Financial Markets\n",
    "\n",
    "Coursera, Yale.\n",
    "Prof. Robert Shiller."
   ]
  },
  {
   "cell_type": "markdown",
   "metadata": {},
   "source": [
    "## Lesson 12: Futures"
   ]
  },
  {
   "cell_type": "markdown",
   "metadata": {},
   "source": [
    "### Student Loans\n",
    "- Student loans work as regular loans nowadays, but they could have an equity model: students pay back depending on their salary after the graduation\n",
    "- Is there a student loan bubble?\n",
    "    - Shiller thinks that studies have become like a kind of aristocracy or classes in the US and probably somewhere else\n",
    "    - So young people thinks they need to study and connect to important people; that drives prices up\n",
    "    - Even state universities are getting expensive because they are not subsidized\n",
    "    - It might be a bubble"
   ]
  },
  {
   "cell_type": "markdown",
   "metadata": {},
   "source": [
    "### Forwards and Futures Markets\n",
    "- Not that many people use them, people even misstrust them\n",
    "- They are a particular type of derivatives\n",
    "- The usual market is the the spot market: you deal with the object immediately\n",
    "    - The prices in it are called spot prices\n",
    "- In forward and futures markets, we have contracts for future prices and deliveries in the future\n",
    "- However, these markets have a function!\n",
    "    - Grain traders, for instance, trade in those markets\n",
    "    - Grains need to be stored\n",
    "    - Grain trading is the origin of forward and futures markets\n",
    "- Which assets end up in future markets?\n",
    "    - It's difficult to answer that -- it's a trial and error\n",
    "    - How do we know that a party will be great? It's similar\n",
    "    - Shiller started a home prices futures market, it is running, but it's not been a success as expected"
   ]
  },
  {
   "cell_type": "markdown",
   "metadata": {},
   "source": [
    "### Forward Contracts\n",
    "- Two individuals make a contract to deliver in a certain date at a price: maturity date\n",
    "    - Example: rice farmer sells grain to a warehouse\n",
    "- Both sides are locked to the contract: they have no liquidity\n",
    "    - What if the farmer gets drunk and doesn't produce grain?\n",
    "    - For that reason, we have futures markets: the risk of not knowing the farmer vanishes\n",
    "- Forward contracts are traded Over-The-Counter (OTC): not in a centralized exchange, but through a network of dealers"
   ]
  },
  {
   "cell_type": "markdown",
   "metadata": {},
   "source": [
    "### Futures Contracts\n",
    "- Like a forward contract, but both parties deal with an exchange rather than with each other\n",
    "- Futures contracts rely on margin calls\n",
    "    - Margin calls happen when an investor borrows part of the money from a broker to invest in a portfolio; when the value of the portfolio decreases below a price, the investor receives a margin call from the broker -- the investir needs to either sell some assets or put more funds in the portfolio\n",
    "    - The futures contract works like that\n",
    "        - Future price is set\n",
    "        - Present price is monitored\n",
    "        - The buyer has a margin account with the settled money in it and can exit whenever he wants\n",
    "        - If price goes down, the margin account is decreased with the difference: the broker takes money from the account\n",
    "            - The buyer can be called if no money is in the margin account to be asked to put money in the margin account\n",
    "            - If there is no money, they sell\n",
    "        - If price goes up, the buyer is credited with the difference"
   ]
  },
  {
   "cell_type": "markdown",
   "metadata": {},
   "source": [
    "### Rice Futures\n",
    "- First Futures in the World: 1860 in Japan, Osaka - Dojima\n",
    "- Japan had been isolated from the rest of the world, except with the Dutch, who had been already in Japan in the 1670s\n",
    "    - Futures markets are not due to the Dutch, but the Dutch were very sophisticated already in 1600s.\n",
    "- Rice needed to be stored somehow\n",
    "- The futures market was quite sophisticated\n",
    "    - Quality, type, delivery date: everything considered in the contract\n",
    "    - Quality control experts were also in Dojima\n",
    "- CBOT / CME: Chicago Market\n",
    "    - Most of the futures are concentrated thee nowadays\n",
    "    - Rice futures are also there now\n",
    "    - The genious of futures contracts is that they predict the price\n",
    "    - Most futures contracts are closed without delivery!\n",
    "        - When the delivery date is arriving, the arbitrage guys decide to accept delivery"
   ]
  },
  {
   "cell_type": "markdown",
   "metadata": {},
   "source": [
    "### Wheat Futures\n",
    "- Speculators are not necessarily bad\n",
    "    - The speculators are the ones who think on what's going to happen\n",
    "    - Speculators have a broad perspective and wisdom; they decide on experience and many information\n",
    "    - Speculators are regarded as gamblers; however, speculators are not mere gamblers, they are intellectuals; additionally, gambling is in the entertainment industry!\n",
    "- Usual price curves\n",
    "    - Usually, before the usual crop/delivery dates, prices go up because the storages are empty\n",
    "    - After the crop has been collected, prices are expected to fall, bacause there is wheat or any other good available\n",
    "    - The farmers could even drop a lot of wheat, so the prices fall a lot\n",
    "    - The key idea is that future markets make shotages less severe, bacause we have already a price prediction, which abstracts what's going to happen"
   ]
  },
  {
   "cell_type": "markdown",
   "metadata": {},
   "source": [
    "### Buying, Selling, and Settlement\n",
    "- Hand signals are used in the market, because there's so much noise\n",
    "    - That comes from Dojima\n",
    "    - However, most of the trading happens electronically\n",
    "- There's a daily settlement\n",
    "    - The buyer puts money in the margin account and margin is taken from it\n",
    "    - The futures contract is an agreement of a daily settlement of the margin\n",
    "    - Importantly, it is rare that on the final day the contract there is an exchange of goods; futures markets are usually closed beforehand\n",
    "        - With margin difference, the seller gets money from the buyer or the other way around!\n",
    "        - If no contract has not been cancelled, trucks full of goods should be exchanged\n",
    "    - The settling is done by the arbitrage role in the market\n",
    "        - The abiter makes sure the margins contract and account are in order, and goods are delivered if needed\n",
    "- What about indexed goods, for instance the SP500 index future - what is the role of arbitrage?\n",
    "    - Recall in futures contracts everything is about the margins account: we don't pay the settled price, but transfer money between margin accounts depending on the variation of the price in the futures market\n",
    "    - With indexed goods it's the same idea, but there is no exchange of goods at the end\n",
    "- Cash settled future markets are a great invention in finance"
   ]
  },
  {
   "cell_type": "markdown",
   "metadata": {},
   "source": [
    "### Fair Value in Futures Contract\n",
    "- What should the futures price be? P_future = P_spot(1+r+s)\n",
    "    - r: interest rate\n",
    "    - s: storage cost\n",
    "    - r+s: cost of carry\n",
    "    - Futures price is usually above cash price (contango), otherwise \"backwardation\"\n",
    "        - In harvest time, storage cost becomes negative, so the futures price decreases"
   ]
  },
  {
   "cell_type": "markdown",
   "metadata": {},
   "source": [
    "### Oil Futures"
   ]
  },
  {
   "cell_type": "markdown",
   "metadata": {},
   "source": [
    "- Futures are a way of predicting price\n",
    "- Oil, when corrected with inflation, has not changed that much; stocks, on the contrary have gone up much\n",
    "- Most people think that there not that much oil; but in reality, we keep on discovering new oil reserves\n",
    "- Oil prices were constant in the USA between 1945 and 1970 aprox, because the government controlled its price\n",
    "- OPEC: Organization of Petroleum Exporting Countries\n",
    "    - 1960, iran, Iraq, Kuwait, Saudi Arabia, Venezuela\n",
    "    - More countries followed later\n",
    "    - OPEC is weak today because th emidle east is unstable\n",
    "    - They wanted to keep prices up\n",
    "    - It's a cartel\n",
    "- Typically oil is controlled by non-democratic countries\n",
    "- First oil crisis: 1973\n",
    "- Second oild crisis: 1979 - Iranian Revolution\n",
    "- The USA has oil reserves in case of war\n",
    "- 2008 crisis\n",
    "    - Prices fell from 113 USD / barrel to 30 USD aprox\n",
    "    - This time the price variation was not caused by any wars in the middle east\n",
    "    - Fracking was discovered\n",
    "    - The price has been very volatile since"
   ]
  },
  {
   "cell_type": "markdown",
   "metadata": {},
   "source": [
    "### Financial Futures: SP500 Index & FFR Futures\n",
    "- Stock Price Index Futures\n",
    "    - Cash settlement rather than physical delivery\n",
    "    - Settlement: 250*(Index_t - Futures_(t-1))\n",
    "    - Fair value\n",
    "        - F = P + P*(r-y)\n",
    "        - F: fair value futures price\n",
    "        - P: stock price index\n",
    "        - r: financing cost (interest rate)\n",
    "        - y: dividend yield: it's like a negative storage cost\n",
    "- Federal Funds Rate Futures Market (FFR)\n",
    "    - Use to manage / observe expectations of interest rates\n",
    "    - That market is watched a lot\n",
    "    - They want to predict the Fed's rate months in the future\n",
    "    - It's a good indicator"
   ]
  },
  {
   "cell_type": "markdown",
   "metadata": {},
   "source": [
    "## Lesson 13: Options"
   ]
  },
  {
   "cell_type": "markdown",
   "metadata": {},
   "source": [
    "### Options: Overview\n",
    "- Option: it is a contract between 2 parties; one buys a choice in the future\n",
    "    - Call option: you buy the right to buy something\n",
    "    - Put option: you buy the right to sell something\n",
    "- The choice is linked to the underlying asset price\n",
    "- Options are truncated claims on assets\n",
    "    - Call: claim on price if it rises above the contract option price\n",
    "        - Then, we can sell the object and make a profit\n",
    "- Terms of options contract\n",
    "    - Exercise date and price\n",
    "    - Definition of underlying number of shares\n",
    "        - That is not limited to shares\n",
    "- Options are actually quite old\n",
    "    - It is often a way of convincing a selling part who is not willing to sell: we give him/her money to have an option"
   ]
  },
  {
   "cell_type": "markdown",
   "metadata": {},
   "source": [
    "### Reading Options Pricing\n",
    "- Option prices reading seems a bit confusing\n",
    "- Strike field: contains a name with the price appended to it, eg: 27, 30, 32, 35\n",
    "- Then, we have the last sport market price for the option, eg: 7.05, 4.8, 3.31, 2.36\n",
    "- And finally, the spot market price of the real share: 31.63 USD"
   ]
  },
  {
   "cell_type": "markdown",
   "metadata": {},
   "source": [
    "### Why Options Exist\n",
    "- Theoretical reason: market inefficiency is alleviated with options market because risk is reduced\n",
    "- Behavioral perspective:\n",
    "    - Salience and attention: people pay attention to relevant or salient things\n",
    "    - Put option is like an insurance: I buy the right to sell something at a price; even if the market price falls a lot, I can always sell it for the option price\n",
    "    - Silver lining theory: people don't look at the bottom line or total outcome, but the look at smaller soothing aspects in the portfolio, as if the portfolio were different sources of income\n",
    "        - That is not true: the portfolio as a global must be regarded: its outcome is the realization of a set of possibilities; it could go in different directions, the important thing is to have a diversified portfolio\n",
    "        - Therefore, options are regarded as insurance and relieve in a portfolio, as a source of income\n",
    "        - But, that is not really true"
   ]
  },
  {
   "cell_type": "markdown",
   "metadata": {},
   "source": [
    "### Ubiquity of Options\n",
    "- Options are everywhere: stocks, mortgages, farms, ...\n",
    "- Options are as old as civilization\n",
    "- Dutch had options in standardized forms in the 1670s."
   ]
  },
  {
   "cell_type": "markdown",
   "metadata": {},
   "source": [
    "### Derivatives\n",
    "- Futures contracts, forward contracts, options, swaps, and warrants are commonly used derivatives.\n",
    "- Derivatives can be used to either mitigate risk (hedging) or assume risk with the expectation of commensurate reward (speculation).\n",
    "- Derivatives are often called weapons of mass destruction\n",
    "    - They increase so rapidly that it's difficult to track them\n",
    "    - There are typically derivatives in ETFs\n",
    "    - However, they initially had a good insurance purpose"
   ]
  },
  {
   "cell_type": "markdown",
   "metadata": {},
   "source": [
    "### Put / Call Parity\n",
    "- On the exercise day, the price of the action can be higher/lower/same as the one specified in the option; if we have the right to sell (put) and the price is higher than the option, of course we sell and earn the difference\n",
    "    - Usually, we need to take into account the Present Discounted Value of the stock and the dividends associated to it in the option period\n",
    "    - Something analogous happens with the call options\n",
    "- Recall: Preset Value = Future Value / (1+r)^n, n\n",
    "    - n: number of periods\n",
    "    - r: rate of interest\n",
    "- The Put-Call Parity refers to the fact that both put and call options are equivalent and one can thus make money with them; in fact, many people gamble with options: if large amounts of money are used, big margins can be made\n",
    "    - Price of stock = call price + pdv strike + pdv dividends - put price\n",
    "- Black-Scholes differential equation is used to model the option and asset price\n",
    "    - The obtained formula can be used to make money\n",
    "    - However, Black-Scholes makes the assumption of normal distributions, which is not true\n",
    "        - Due to that assumptions, tail events are not modelled"
   ]
  },
  {
   "cell_type": "markdown",
   "metadata": {},
   "source": [
    "### Using Options to Hedge\n",
    "- Imagine we trust a company and we want to buy stocks, but at the same time we fear the stock price might fall below a threshold\n",
    "    - In that case, we buy the stocks and a put option so that we make sure we can sell the stock at a low limit\n",
    "- Another option to reduce risk or insure: stop-loss orders\n",
    "    - We ask our broker to sell if the stock falls below a threshold price\n",
    "    - It seems to be similar to a put option, even better, because you don't have to buy the option\n",
    "        - However, the broker is a human being and cannot buy/sell so fast and he/she may sell way below\n",
    "        - Additionally, the price ca fluctuate around the stop-loss threshold; what should the broker then do?\n",
    "        - A put option does not have these problems: we pay the price of the option to avoid these issues"
   ]
  },
  {
   "cell_type": "markdown",
   "metadata": {},
   "source": [
    "### Skew\n",
    "- CBOE publishes the skew value of put options, which could help predicting short-term market falls\n",
    "    - Skew is the 3rd moment of the price, as variance is the 2nd\n",
    "    - If markets fear a fall, the price of put options is expected to increase, because they'd be more demanded\n",
    "    - However, the skew has a 30-day delay (?)"
   ]
  },
  {
   "cell_type": "code",
   "execution_count": null,
   "metadata": {},
   "outputs": [],
   "source": []
  }
 ],
 "metadata": {
  "kernelspec": {
   "display_name": "Python 3",
   "language": "python",
   "name": "python3"
  },
  "language_info": {
   "codemirror_mode": {
    "name": "ipython",
    "version": 3
   },
   "file_extension": ".py",
   "mimetype": "text/x-python",
   "name": "python",
   "nbconvert_exporter": "python",
   "pygments_lexer": "ipython3",
   "version": "3.6.8"
  }
 },
 "nbformat": 4,
 "nbformat_minor": 2
}
