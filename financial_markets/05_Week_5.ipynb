{
 "cells": [
  {
   "cell_type": "markdown",
   "metadata": {},
   "source": [
    "# Financial Markets\n",
    "\n",
    "Coursera, Yale.\n",
    "Prof. Robert Shiller."
   ]
  },
  {
   "cell_type": "markdown",
   "metadata": {},
   "source": [
    "## Lesson 12"
   ]
  },
  {
   "cell_type": "markdown",
   "metadata": {},
   "source": [
    "### Student Loans\n",
    "- Student loans work as regular loans nowadays, but they could have an equity model: students pay back depending on their salary after the graduation\n",
    "- Is there a student loan bubble?\n",
    "    - Shiller thinks that studies have become like a kind of aristocracy or classes in the US and probably somewhere else\n",
    "    - So young people thinks they need to study and connect to important people; that drives prices up\n",
    "    - Even state universities are getting expensive because they are not subsidized\n",
    "    - It might be a bubble"
   ]
  },
  {
   "cell_type": "markdown",
   "metadata": {},
   "source": [
    "### Forwards and Futures Markets\n",
    "- Not that many people use them, people even misstrust them\n",
    "- They are a particular type of derivatives\n",
    "- The usual market is the the spot market: you deal with the object immediately\n",
    "    - The prices in it are called spot prices\n",
    "- In forward and futures markets, we have contracts for future prices and deliveries in the future\n",
    "- However, these markets have a function!\n",
    "    - Grain traders, for instance, trade in those markets\n",
    "    - Grains need to be stored\n",
    "    - Grain trading is the origin of forward and futures markets\n",
    "- Which assets end up in future markets?\n",
    "    - It's difficult to answer that -- it's a trial and error\n",
    "    - How do we know that a party will be great? It's similar\n",
    "    - Shiller started a home prices futures market, it is running, but it's not been a success as expected"
   ]
  },
  {
   "cell_type": "markdown",
   "metadata": {},
   "source": [
    "### Forward Contracts\n",
    "- Two individuals make a contract to deliver in a certain date at a price: maturity date\n",
    "    - Example: rice farmer sells grain to a warehouse\n",
    "- Both sides are locked to the contract: they have no liquidity\n",
    "    - What if the farmer gets drunk and doesn't produce grain?\n",
    "    - For that reason, we have futures markets: the risk of not knowing the farmer vanishes\n",
    "- Forward contracts are traded Over-The-Counter (OTC): not in a centralized exchange, but through a network of dealers"
   ]
  },
  {
   "cell_type": "markdown",
   "metadata": {},
   "source": [
    "### Futures Contracts\n",
    "- Like a forward contract, but both parties deal with an exchange rather than with each other\n",
    "- Futures contracts rely on margin calls\n",
    "    - Margin calls happen when an investor borrows part of the money from a broker to invest in a portfolio; when the value of the portfolio decreases below a price, the investor receives a margin call from the broker -- the investir needs to either sell some assets or put more funds in the portfolio\n",
    "    - The futures contract works like that\n",
    "        - Future price is set\n",
    "        - Present price is monitored\n",
    "        - The buyer has a margin account with the settled money in it and can exit whenever he wants\n",
    "        - If price goes down, the margin account is decreased with the difference: the broker takes money from the account\n",
    "            - The buyer can be called if no money is in the margin account to be asked to put money in the margin account\n",
    "            - If there is no money, they sell\n",
    "        - If price goes up, the buyer is credited with the difference"
   ]
  },
  {
   "cell_type": "markdown",
   "metadata": {},
   "source": [
    "### Rice Futures\n",
    "- First Futures in the World: 1860 in Japan, Osaka - Dojima\n",
    "- Japan had been isolated from the rest of the world, except with the Dutch, who had been already in Japan in the 1670s\n",
    "    - Futures markets are not due to the Dutch, but the Dutch were very sophisticated already in 1600s.\n",
    "- Rice needed to be stored somehow\n",
    "- The futures market was quite sophisticated\n",
    "    - Quality, type, delivery date: everything considered in the contract\n",
    "    - Quality control experts were also in Dojima\n",
    "- CBOT / CME: Chicago Market\n",
    "    - Most of the futures are concentrated thee nowadays\n",
    "    - Rice futures are also there now\n",
    "    - The genious of futures contracts is that they predict the price\n",
    "    - Most futures contracts are closed without delivery!\n",
    "        - When the delivery date is arriving, the arbitrage guys decide to accept delivery"
   ]
  },
  {
   "cell_type": "markdown",
   "metadata": {},
   "source": [
    "### Wheat Futures\n",
    "- Speculators are not necessarily bad\n",
    "    - The speculators are the ones who think on what's going to happen\n",
    "    - Speculators have a broad perspective and wisdom; they decide on experience and many information\n",
    "    - Speculators are regarded as gamblers; however, speculators are not mere gamblers, they are intellectuals; additionally, gambling is in the entertainment industry!\n",
    "- Usual price curves\n",
    "    - Usually, before the usual crop/delivery dates, prices go up because the storages are empty\n",
    "    - After the crop has been collected, prices are expected to fall, bacause there is wheat or any other good available\n",
    "    - The farmers could even drop a lot of wheat, so the prices fall a lot\n",
    "    - The key idea is that future markets make shotages less severe, bacause we have already a price prediction, which abstracts what's going to happen"
   ]
  },
  {
   "cell_type": "markdown",
   "metadata": {},
   "source": [
    "### Buying, Selling, and Settlement\n",
    "- Hand signals are used in the market, because there's so much noise\n",
    "    - That comes from Dojima\n",
    "    - However, most of the trading happens electronically\n",
    "- There's a daily settlement\n",
    "    - The buyer puts money in the margin account and margin is taken from it\n",
    "    - The futures contract is an agreement of a daily settlement of the margin\n",
    "    - Importantly, it is rare that on the final day the contract there is an exchange of goods; futures markets are usually closed beforehand\n",
    "        - With margin difference, the seller gets money from the buyer or the other way around!\n",
    "        - If no contract has not been cancelled, trucks full of goods should be exchanged\n",
    "    - The settling is done by the arbitrage role in the market\n",
    "        - The abiter makes sure the margins contract and account are in order, and goods are delivered if needed\n",
    "- What about indexed goods, for instance the SP500 index future - what is the role of arbitrage?\n",
    "    - Recall in futures contracts everything is about the margins account: we don't pay the settled price, but transfer money between margin accounts depending on the variation of the price in the futures market\n",
    "    - With indexed goods it's the same idea, but there is no exchange of goods at the end\n",
    "- Cash settled future markets are a great invention in finance"
   ]
  },
  {
   "cell_type": "markdown",
   "metadata": {},
   "source": [
    "### Fair Value in Futures Contract\n",
    "- What should the futures price be? P_future = P_spot(1+r+s)\n",
    "    - r: interest rate\n",
    "    - s: storage cost\n",
    "    - r+s: cost of carry\n",
    "    - Futures price is usually above cash price (contango), otherwise \"backwardation\"\n",
    "        - In harvest time, storage cost becomes negative, so the futures price decreases"
   ]
  },
  {
   "cell_type": "markdown",
   "metadata": {},
   "source": [
    "### Oil Futures"
   ]
  },
  {
   "cell_type": "code",
   "execution_count": null,
   "metadata": {},
   "outputs": [],
   "source": []
  }
 ],
 "metadata": {
  "kernelspec": {
   "display_name": "Python 3",
   "language": "python",
   "name": "python3"
  },
  "language_info": {
   "codemirror_mode": {
    "name": "ipython",
    "version": 3
   },
   "file_extension": ".py",
   "mimetype": "text/x-python",
   "name": "python",
   "nbconvert_exporter": "python",
   "pygments_lexer": "ipython3",
   "version": "3.6.8"
  }
 },
 "nbformat": 4,
 "nbformat_minor": 2
}
