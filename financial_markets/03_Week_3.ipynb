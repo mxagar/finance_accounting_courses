{
 "cells": [
  {
   "cell_type": "markdown",
   "metadata": {},
   "source": [
    "# Financial Markets\n",
    "\n",
    "Coursera, Yale.\n",
    "Prof. Robert Shiller."
   ]
  },
  {
   "cell_type": "markdown",
   "metadata": {},
   "source": [
    "## Lesson 8"
   ]
  },
  {
   "cell_type": "markdown",
   "metadata": {},
   "source": [
    "### 1982 Savings Account\n",
    "- There used to be ads for savings accounts everywhere with interests of around 7% interest per annum!\n",
    "    - It was great, because it was insured by the government!\n",
    "    - The term used to be 0 (time to keep money in the bank)\n",
    "- We don't have these things anymore"
   ]
  },
  {
   "cell_type": "markdown",
   "metadata": {},
   "source": [
    "### Federal Funds and Interest Rates\n",
    "- Term = time you have to leave your money in\n",
    "- Shortest term is one day, but usually banks use it: people do not borrow money for just one day\n",
    "- Diagraman of shortest-term interest rate for US shown: it was in 20% in the 80's, it's been almost 0% since the 2008 crisis\n",
    "- Something very rare is happening; the Fed stablishes the interest rate\n",
    "- It is forced to be 0 due to the crisis, because it stabilizes the economy -- why?\n",
    "- EONIA: the European equivalent interest rate, has the same shape, it even becomes negative!\n",
    "- It can be negative very long, because banks loose money: why should they lend money with negative interest rates: they'd be loosing; it is better to hold to the money than loosing it!\n",
    "- So why do banks lend money with negative interest rates if they are loosing? Because it's costly keeping cash, although it sounds silly: you need to have vaults, guards, etc. These costs make negative interest rates possible\n",
    "- Cause of interest rates; book by Böhm-Bawerk, 1884. He said that the interest rates reflect\n",
    "    - the rate of progress\n",
    "    - time preference: the lender wants the inflated value of lent money now\n",
    "    - and roundaboutness: the promise of improving production\n",
    "- Do low interest rates contribute to inequality?\n",
    "    - There is some connection\n",
    "    - Elderly people retire sometimes in hopes of living from interest rates, but these are 0, they live from savings"
   ]
  },
  {
   "cell_type": "markdown",
   "metadata": {},
   "source": [
    "### Compound Interest\n",
    "- If we have an interest rate of r which is compounded, the amount due to the interest increases exponentially: (1+r)^t\n",
    "- Usually the compounding is done at the end of the year: we get the earnings due to interest and apply to it the interest rate\n",
    "- However, it could be done several times a year: if we do it continuously, we get a series for which the limit is e^(rt)"
   ]
  },
  {
   "cell_type": "markdown",
   "metadata": {},
   "source": [
    "### Discount Bonds\n",
    "- "
   ]
  },
  {
   "cell_type": "code",
   "execution_count": null,
   "metadata": {},
   "outputs": [],
   "source": []
  }
 ],
 "metadata": {
  "kernelspec": {
   "display_name": "Python 3",
   "language": "python",
   "name": "python3"
  },
  "language_info": {
   "codemirror_mode": {
    "name": "ipython",
    "version": 3
   },
   "file_extension": ".py",
   "mimetype": "text/x-python",
   "name": "python",
   "nbconvert_exporter": "python",
   "pygments_lexer": "ipython3",
   "version": "3.6.8"
  }
 },
 "nbformat": 4,
 "nbformat_minor": 2
}
