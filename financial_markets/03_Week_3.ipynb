{
 "cells": [
  {
   "cell_type": "markdown",
   "metadata": {},
   "source": [
    "# Financial Markets\n",
    "\n",
    "Coursera, Yale.\n",
    "Prof. Robert Shiller."
   ]
  },
  {
   "cell_type": "markdown",
   "metadata": {},
   "source": [
    "## Lesson 8"
   ]
  },
  {
   "cell_type": "markdown",
   "metadata": {},
   "source": [
    "### 1982 Savings Account\n",
    "- There used to be ads for savings accounts everywhere with interests of around 7% interest per annum!\n",
    "    - It was great, because it was insured by the government!\n",
    "    - The term used to be 0 (time to keep money in the bank)\n",
    "- We don't have these things anymore"
   ]
  },
  {
   "cell_type": "markdown",
   "metadata": {},
   "source": [
    "### Federal Funds and Interest Rates\n",
    "- Term = time you have to leave your money in\n",
    "- Shortest term is one day, but usually banks use it: people do not borrow money for just one day\n",
    "- Diagraman of shortest-term interest rate for US shown: it was in 20% in the 80's, it's been almost 0% since the 2008 crisis\n",
    "- Something very rare is happening; the Fed stablishes the interest rate\n",
    "- It is forced to be 0 due to the crisis, because it stabilizes the economy -- why?\n",
    "- EONIA: the European equivalent interest rate, has the same shape, it even becomes negative!\n",
    "- It can be negative very long, because banks loose money: why should they lend money with negative interest rates: they'd be loosing; it is better to hold to the money than loosing it!\n",
    "- So why do banks lend money with negative interest rates if they are loosing? Because it's costly keeping cash, although it sounds silly: you need to have vaults, guards, etc. These costs make negative interest rates possible\n",
    "- Cause of interest rates; book by Böhm-Bawerk, 1884. He said that the interest rates reflect\n",
    "    - the rate of progress\n",
    "    - time preference: the lender wants the inflated value of lent money now\n",
    "    - and roundaboutness: the promise of improving production\n",
    "- Do low interest rates contribute to inequality?\n",
    "    - There is some connection\n",
    "    - Elderly people retire sometimes in hopes of living from interest rates, but these are 0, they live from savings"
   ]
  },
  {
   "cell_type": "markdown",
   "metadata": {},
   "source": [
    "### Compound Interest\n",
    "- If we have an interest rate of r which is compounded, the amount due to the interest increases exponentially: (1+r)^t\n",
    "- Usually the compounding is done at the end of the year: we get the earnings due to interest and apply to it the interest rate\n",
    "- However, it could be done several times a year: if we do it continuously, we get a series for which the limit is e^(rt)"
   ]
  },
  {
   "cell_type": "markdown",
   "metadata": {},
   "source": [
    "### Discount Bonds\n",
    "- Bonds are originally like coupons:\n",
    "    - You used to buy one bond, eg for 100 USD\n",
    "    - then, every 6 months or the time established, you could get the from the bank 1.50 USD for having the bond; the bond paper was clipped, so that you could not get that 1.50 USD more than once\n",
    "    - when the bond arrived its maturity, you could get your 100 USD back\n",
    "- Bonds can be from the government of corporate\n",
    "- Discount bonds have no coupon: you buy at a discount: you buy the bond for 90 USD, and when you get your money, you get 100 USD\n",
    "- Price of the discount bond\n",
    "    - P = 1 / (1+r)^T\n",
    "    - r: yield to maturity: compounding interest we get\n",
    "    - T: years we have the bond\n",
    "    - P: present value or price we get\n",
    "    - But typically bonds pay interest twice a year: P = 1 / (1 + r/2)^(2T)\n",
    "- Note that at the time of the video the interests are negative!! So it doesn't make sense to buy bonds..."
   ]
  },
  {
   "cell_type": "markdown",
   "metadata": {},
   "source": [
    "### Present Discounted Value = PDV\n",
    "- We can compute the PDV of anything\n",
    "    - PDV of a dollar in one year: 1 / (1+r)\n",
    "    - in n years: 1 / (1+r)^n\n",
    "    - PDV of a stream of payments x_i"
   ]
  },
  {
   "cell_type": "markdown",
   "metadata": {},
   "source": [
    "### Conventional Bonds Carry Coupons\n",
    "- Another form of bonds\n",
    "- It issued at par\n",
    "- I don't understand...\n",
    "- Just another present value formula with an additional term containing 100 as the principal"
   ]
  },
  {
   "cell_type": "markdown",
   "metadata": {},
   "source": [
    "### Consol and Annuity Formulas\n",
    "- Consol pays constant quantity x forever\n",
    "    - Consols are originally from Britain, because they issued never ending bongs; they are still paying some of them!\n",
    "- Growing consol pays x(1+g)^(t-1) in time t\n",
    "    - That's basically like a rent\n",
    "- Annuity pays x for time 1 to t\n",
    "- Consol PDV: x/r\n",
    "- Growing consol PDV = x / (r-g); assuming r>g\n",
    "    - The current situation with 0 interest rates (r) is very puzzling, because we get infinite or negative present values\n",
    "    - They way to interpret it is: long-term interest rates are bigger than zero, the current situation is short-term anomaly\n",
    "- Annuity PDV: another formula\n",
    "    - Like a consol but it stops after a peroid of time\n",
    "    - Example: mortgage\n",
    "- Bonds have a market price, which makes them risky, even though the promise of the government is fixed and trustable\n",
    "- All these present value formulas are related to the Gordon-Myron formula at the end: the sum of a geometric series.\n",
    "    - Note that the formula actually dates back to Bernoulli, 1600s"
   ]
  },
  {
   "cell_type": "markdown",
   "metadata": {},
   "source": [
    "### Forward Rates\n",
    "- Interest rates that can be taken in advance\n",
    "- Supose in 2020 I expect to have 100 USD to invest in 2021, but I want the money back in 2022. Can I guarantee the interest rate on the 100 investement today?\n",
    "- There is a formula"
   ]
  },
  {
   "cell_type": "markdown",
   "metadata": {},
   "source": [
    "### Inflation and Interest Rates"
   ]
  },
  {
   "cell_type": "markdown",
   "metadata": {},
   "source": [
    "- Nominal interest rates are usually not corrected for inflation\n",
    "    - We need to correct the rate!\n",
    "    - Reat interest rate: r_real = r_nominal (money) - i (inflation)\n",
    "        - This formula is an approximation\n",
    "    - So if we have nominal interest rate of 3% and the inflation is 3%, we have areal interest rate of 0: we earn nothing"
   ]
  },
  {
   "cell_type": "markdown",
   "metadata": {},
   "source": [
    "### Indexed Bonds\n",
    "- Bonds with coupons that are tied to inflation rates\n",
    "- Great idea\n",
    "- France recently issued Euro indexed bonds"
   ]
  },
  {
   "cell_type": "markdown",
   "metadata": {},
   "source": [
    "### Leverage\n",
    "- If a company borrows money to buy assets, we say that person is leveraging\n",
    "    - It is riskier\n",
    "    - If we buy stocks and they increase enough, we might pay the debt and earn money\n",
    "    - If the stocks go down, we increase our debt\n",
    "- China is a highly leveraged economy, which arises concerns\n",
    "- Debt leads to bankruptcies, possible world crises\n",
    "    - Bankruptcy means you don't have money to pay your debts\n",
    "- Before the 2008 crisis, leverage became very high: banks were allowing people to get credits for 96% of the value of the house\n",
    "    - Everyone was doing that\n",
    "    - Actually, home prices were going up so fast, that you could make a lot of money\n",
    "    - People had the perception that home prices don't fall -- but they do fall!\n",
    "- Is debt inmoral?\n",
    "    - It is not!\n",
    "    - You need to borrow money for many reasons: house, health, etc.\n",
    "    - Debt is a good thing, but not always well managed"
   ]
  },
  {
   "cell_type": "markdown",
   "metadata": {},
   "source": [
    "### Irving Fisher: The Debt-Deflation Theory of Great Depressions\n",
    "- The optimists are the ones that usually have debts, they are willing to take risks\n",
    "    - The lenders are usually pessimistic\n",
    "- If there is deflation, the inflation is negative\n",
    "    - The optimists end up having less money, pessimists have more\n",
    "    - That means, in a deflation/depression, the wealth is re-distributed to the non risk takers\n",
    "    - That is probably the reason why deflation is avoided?\n",
    "- The reality is that the CPI (consumer price index) really has a big effect in the re-distribution of the wealth, even though people are really not aware of it\n",
    "- The last crisis (2008) didn't bring that much deflation\n",
    "- Shiller thinks we should index debt to CPI, and we should have a unit of account coupled with the CPI, like Chile did with the Unidad"
   ]
  },
  {
   "cell_type": "markdown",
   "metadata": {},
   "source": [
    "## Lesson 9"
   ]
  },
  {
   "cell_type": "markdown",
   "metadata": {},
   "source": [
    "### Market Capitalization by Country\n",
    "- Market cap of markets shown and then expressed as GDP % of their countries\n",
    "    - 2014: USA: 154% GDP, it had the largest %\n",
    "    - After 2014 % values declined a bit, 2014 was th peak\n",
    "- USA is very capitalistic, everything is traded\n",
    "    - However, still many people don't own stocks\n",
    "    - Shiller points out that in some cases it is better to rent a house and invest with a diversified portfolio in the stock market rather than buying a house\n",
    "- In USA: housholds own a tangible value of 98 trillion: that's much more than stocks\n",
    "    - Stocks amount to approximately 13 trillion\n",
    "    - Real estate owned by housholds: 23 trillion"
   ]
  },
  {
   "cell_type": "markdown",
   "metadata": {},
   "source": [
    "### The Corporation and Stocks\n",
    "- From the Latin corpus = body\n",
    "- Organization incorporated, ie., as an artificial person or body\n",
    "- In ancient Rome they had corporations and stock markets!\n",
    "    - Corporations were called publicani\n",
    "    - The stock market was in the market\n",
    "    - People could buy shares!\n",
    "- Board of Directors\n",
    "    - A for-profit corporation is managed by the board of director, which is chosen by the share holders: one shae, on vote\n",
    "    - The board of directors select the CEO\n",
    "    - In Germany, they have 2 boards\n",
    "        - Aufsichtsrat: supervisory\n",
    "        - Vorstand: management\n",
    "- For-profit vs non-profit\n",
    "    - For-profit corporations are owned by the shareholders; corporate profit taxes need to be payed\n",
    "    - Non-profit corporations are not owned by anyone! The board is composed by alumni of interested groups that promote the organization after some idealistic principles\n",
    "        - Profits are not distributed to the participants\n",
    "        - Profits are kept in the company and are invested in the purpose\n",
    "        - Non-profits do not pay taxes on profits\n",
    "        - Sometimes non-profits have problems with money they accumulate; but usually, they channel the money to fulfill the purpose of the organization"
   ]
  },
  {
   "cell_type": "markdown",
   "metadata": {},
   "source": [
    "### Shares and Dividends\n",
    "- A company is divided in N shares; the we buy n; n/N is relevant\n",
    "- Companies do regularly splits: they divide a share to fit some share prices that are attractive to the buyers\n",
    "    - The target share value is 30 USD in many cases\n",
    "    - However, splits are essentially meaningless\n",
    "    - The board of director decides when to do the splits\n",
    "    - After a 2 for 1 split, share holders automatically have double the shares and the share prices is halved.\n",
    "- It is not possible to buy or own fraction of a share, thus, it might be sensible to actually do splits sometimes\n",
    "    - Fractions of share exist though, if you own ETFs or the like\n",
    "- The corporate charter of a company is its constitution; it defines the rules\n",
    "- Dividends are distributions of earnings of the company to its shareholders\n",
    "    - That's one of the most important reasons for buying company shares!\n",
    "    - Most of the returns we get are dividends\n",
    "    - Companies don't have to pay dividends really; young companies don't, older companies do, because it shows they have money\n",
    "    - Share price decreases in value when a dividend is payed, because the company doesn't have the money anymore\n",
    "    - Stock price fall because of quarter dividend pay is not bad!\n",
    "        - Companies fear that and sometimes they don't pay dividends because of that\n",
    "    - Some companies do not regularly pay dividends, some do it very regularly\n",
    "        - It is psychological"
   ]
  },
  {
   "cell_type": "markdown",
   "metadata": {},
   "source": [
    "### Common vs. Preferred Stock\n",
    "- Equity = Common Stock = Stock\n",
    "- Preferred stocks work like this: the company doesn't need to pay the dividends, but if the want to offer common stocks, they need to pay all dividends they have not -- ??\n",
    "- After the 2008 crisis, USA bought many preferred stocks to bail companies out; why preferred stocks? because USA is not a socialist country: the government doesn't really want to own the companies, just bail them out"
   ]
  },
  {
   "cell_type": "markdown",
   "metadata": {},
   "source": [
    "### Corporate Charter\n",
    "- The constitution of the company\n",
    "- The basic version stablishes that all shareholder are treated equally\n",
    "- If dividends payed, each share gets the same -- that's where the word \"equity\" comes from: equal share\n",
    "- The company can buy back shares instead of paying dividends, or they can issue new shares -- there's no law against that\n",
    "- Several regulations have been made to improve or guarantee good governance in corporations, to make possible some kind of shareholder democracy\n",
    "- There can be classes of shares: A has voting right, B doesn't\n",
    "    - Zuckerberg has 28% of Facebook shares, but 57% of its voting shares"
   ]
  },
  {
   "cell_type": "markdown",
   "metadata": {},
   "source": [
    "### Corporations Raise Money\n",
    "- If not enough money available, how do companies get money, eg., for marketing campaings or buildinga new factory, etc?\n",
    "- One way are retained earnings: earn enough money to do it\n",
    "    - But that is usually slower\n",
    "    - Additionally, many companies put their earnings into the future, so they don't accumulate enough extra money\n",
    "- Another option: borrow money\n",
    "    - Bank loans\n",
    "    - You can issue debt: a corporate bond, which is sold by a broker\n",
    "- Another option: issue new shares\n",
    "    - When that happens, shares are diluted: if a person owns 10% of the shares, if new shares are issued, that person owns automatically less than 10%\n",
    "    - It seems controversial, but most shareholders accept it, because new issuances bring a lot of money to the company"
   ]
  },
  {
   "cell_type": "markdown",
   "metadata": {},
   "source": [
    "### Dilution\n",
    "- When new shares are issued, we have a dilution\n",
    "- Sometimes companies pay dividends in stock shares: that is tricky\n",
    "    - Everybody gets new shares in proportion to their holdings, so everybody keeps owning the same fraction!\n",
    "    - This can be well intentioned though: the company might be doing that in the hopes that the stock price won't fall"
   ]
  },
  {
   "cell_type": "markdown",
   "metadata": {},
   "source": [
    "### Dividends: Yes or No?\n",
    "- Typically young companies don't pay dividends\n",
    "- Many NASCAQ companies don't pay dividends\n",
    "- Not paying dividends comes from the internet revolution (dotcom era): shareholders used to refuse dividends because the companies needed to have money to move faster"
   ]
  },
  {
   "cell_type": "markdown",
   "metadata": {},
   "source": [
    "### Share Repurchase\n",
    "- When a firm buys its own shares in the market\n",
    "- That's reverse of dilution\n",
    "    - Therefore, this is like paying a dividend\n",
    "- Since the financial crisis, many share repurchases have been made\n",
    "    - People used to say companies were repurchasing because prices were low\n",
    "    - But now they are higher, and companies still do that because of tax breaks: since people don't get money, they don't have to pay taxes!\n",
    "        - In USA, the tax on capital gains is capped in 15%\n",
    "- Older people prefer getting dividends\n",
    "    - Many people in the USA retire with th eplan of living from interest rates and dividends"
   ]
  },
  {
   "cell_type": "code",
   "execution_count": null,
   "metadata": {},
   "outputs": [],
   "source": []
  }
 ],
 "metadata": {
  "kernelspec": {
   "display_name": "Python 3",
   "language": "python",
   "name": "python3"
  },
  "language_info": {
   "codemirror_mode": {
    "name": "ipython",
    "version": 3
   },
   "file_extension": ".py",
   "mimetype": "text/x-python",
   "name": "python",
   "nbconvert_exporter": "python",
   "pygments_lexer": "ipython3",
   "version": "3.6.8"
  }
 },
 "nbformat": 4,
 "nbformat_minor": 2
}
