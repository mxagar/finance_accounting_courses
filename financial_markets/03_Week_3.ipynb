{
 "cells": [
  {
   "cell_type": "markdown",
   "metadata": {},
   "source": [
    "# Financial Markets\n",
    "\n",
    "Coursera, Yale.\n",
    "Prof. Robert Shiller."
   ]
  },
  {
   "cell_type": "markdown",
   "metadata": {},
   "source": [
    "## Lesson 8"
   ]
  },
  {
   "cell_type": "markdown",
   "metadata": {},
   "source": [
    "### 1982 Savings Account\n",
    "- There used to be ads for savings accounts everywhere with interests of around 7% interest per annum!\n",
    "    - It was great, because it was insured by the government!\n",
    "    - The term used to be 0 (time to keep money in the bank)\n",
    "- We don't have these things anymore"
   ]
  },
  {
   "cell_type": "markdown",
   "metadata": {},
   "source": [
    "### Federal Funds and Interest Rates\n",
    "- Term = time you have to leave your money in\n",
    "- Shortest term is one day, but usually banks use it: people do not borrow money for just one day\n",
    "- Diagraman of shortest-term interest rate for US shown: it was in 20% in the 80's, it's been almost 0% since the 2008 crisis\n",
    "- Something very rare is happening; the Fed stablishes the interest rate\n",
    "- It is forced to be 0 due to the crisis, because it stabilizes the economy -- why?\n",
    "- EONIA: the European equivalent interest rate, has the same shape, it even becomes negative!\n",
    "- It can be negative very long, because banks loose money: why should they lend money with negative interest rates: they'd be loosing; it is better to hold to the money than loosing it!\n",
    "- So why do banks lend money with negative interest rates if they are loosing? Because it's costly keeping cash, although it sounds silly: you need to have vaults, guards, etc. These costs make negative interest rates possible\n",
    "- Cause of interest rates; book by Böhm-Bawerk, 1884. He said that the interest rates reflect\n",
    "    - the rate of progress\n",
    "    - time preference: the lender wants the inflated value of lent money now\n",
    "    - and roundaboutness: the promise of improving production\n",
    "- Do low interest rates contribute to inequality?\n",
    "    - There is some connection\n",
    "    - Elderly people retire sometimes in hopes of living from interest rates, but these are 0, they live from savings"
   ]
  },
  {
   "cell_type": "markdown",
   "metadata": {},
   "source": [
    "### Compound Interest\n",
    "- If we have an interest rate of r which is compounded, the amount due to the interest increases exponentially: (1+r)^t\n",
    "- Usually the compounding is done at the end of the year: we get the earnings due to interest and apply to it the interest rate\n",
    "- However, it could be done several times a year: if we do it continuously, we get a series for which the limit is e^(rt)"
   ]
  },
  {
   "cell_type": "markdown",
   "metadata": {},
   "source": [
    "### Discount Bonds\n",
    "- Bonds are originally like coupons:\n",
    "    - You used to buy one bond, eg for 100 USD\n",
    "    - then, every 6 months or the time established, you could get the from the bank 1.50 USD for having the bond; the bond paper was clipped, so that you could not get that 1.50 USD more than once\n",
    "    - when the bond arrived its maturity, you could get your 100 USD back\n",
    "- Bonds can be from the government of corporate\n",
    "- Discount bonds have no coupon: you buy at a discount: you buy the bond for 90 USD, and when you get your money, you get 100 USD\n",
    "- Price of the discount bond\n",
    "    - P = 1 / (1+r)^T\n",
    "    - r: yield to maturity: compounding interest we get\n",
    "    - T: years we have the bond\n",
    "    - P: present value or price we get\n",
    "    - But typically bonds pay interest twice a year: P = 1 / (1 + r/2)^(2T)\n",
    "- Note that at the time of the video the interests are negative!! So it doesn't make sense to buy bonds..."
   ]
  },
  {
   "cell_type": "markdown",
   "metadata": {},
   "source": [
    "### Present Discounted Value = PDV\n",
    "- We can compute the PDV of anything\n",
    "    - PDV of a dollar in one year: 1 / (1+r)\n",
    "    - in n years: 1 / (1+r)^n\n",
    "    - PDV of a stream of payments x_i"
   ]
  },
  {
   "cell_type": "markdown",
   "metadata": {},
   "source": [
    "### Conventional Bonds Carry Coupons\n",
    "- Another form of bonds\n",
    "- It issued at par\n",
    "- I don't understand...\n",
    "- Just another present value formula with an additional term containing 100 as the principal"
   ]
  },
  {
   "cell_type": "markdown",
   "metadata": {},
   "source": [
    "### Consol and Annuity Formulas\n",
    "- Consol pays constant quantity x forever\n",
    "    - Consols are originally from Britain, because they issued never ending bongs; they are still paying some of them!\n",
    "- Growing consol pays x(1+g)^(t-1) in time t\n",
    "    - That's basically like a rent\n",
    "- Annuity pays x for time 1 to t\n",
    "- Consol PDV: x/r\n",
    "- Growing consol PDV = x / (r-g); assuming r>g\n",
    "    - The current situation with 0 interest rates (r) is very puzzling, because we get infinite or negative present values\n",
    "    - They way to interpret it is: long-term interest rates are bigger than zero, the current situation is short-term anomaly\n",
    "- Annuity PDV: another formula\n",
    "    - Like a consol but it stops after a peroid of time\n",
    "    - Example: mortgage\n",
    "- Bonds have a market price, which makes them risky, even though the promise of the government is fixed and trustable\n",
    "- All these present value formulas are related to the Gordon-Myron formula at the end: the sum of a geometric series.\n",
    "    - Note that the formula actually dates back to Bernoulli, 1600s"
   ]
  },
  {
   "cell_type": "markdown",
   "metadata": {},
   "source": [
    "### Forward Rates\n",
    "- Interest rates that can be taken in advance\n",
    "- Supose in 2020 I expect to have 100 USD to invest in 2021, but I want the money back in 2022. Can I guarantee the interest rate on the 100 investement today?\n",
    "- There is a formula"
   ]
  },
  {
   "cell_type": "markdown",
   "metadata": {},
   "source": [
    "### Inflation and Interest Rates"
   ]
  },
  {
   "cell_type": "markdown",
   "metadata": {},
   "source": [
    "- Nominal interest rates are usually not corrected for inflation\n",
    "    - We need to correct the rate!\n",
    "    - Reat interest rate: r_real = r_nominal (money) - i (inflation)\n",
    "        - This formula is an approximation\n",
    "    - So if we have nominal interest rate of 3% and the inflation is 3%, we have areal interest rate of 0: we earn nothing"
   ]
  },
  {
   "cell_type": "markdown",
   "metadata": {},
   "source": [
    "### Indexed Bonds\n",
    "- Bonds with coupons that are tied to inflation rates\n",
    "- Great idea\n",
    "- France recently issued Euro indexed bonds"
   ]
  },
  {
   "cell_type": "markdown",
   "metadata": {},
   "source": [
    "### Leverage\n",
    "- If a company borrows money to buy assets, we say that person is leveraging\n",
    "    - It is riskier\n",
    "    - If we buy stocks and they increase enough, we might pay the debt and earn money\n",
    "    - If the stocks go down, we increase our debt\n",
    "- China is a highly leveraged economy, which arises concerns\n",
    "- Debt leads to bankruptcies, possible world crises\n",
    "    - Bankruptcy means you don't have money to pay your debts\n",
    "- Before the 2008 crisis, leverage became very high: banks were allowing people to get credits for 96% of the value of the house\n",
    "    - Everyone was doing that\n",
    "    - Actually, home prices were going up so fast, that you could make a lot of money\n",
    "    - People had the perception that home prices don't fall -- but they do fall!\n",
    "- Is debt inmoral?\n",
    "    - It is not!\n",
    "    - You need to borrow money for many reasons: house, health, etc.\n",
    "    - Debt is a good thing, but not always well managed"
   ]
  },
  {
   "cell_type": "markdown",
   "metadata": {},
   "source": [
    "### Irving Fisher: The Debt-Deflation Theory of Great Depressions\n",
    "- The optimists are the ones that usually have debts, they are willing to take risks\n",
    "    - The lenders are usually pessimistic\n",
    "- If there is deflation, the inflation is negative\n",
    "    - The optimists end up having less money, pessimists have more\n",
    "    - That means, in a deflation/depression, the wealth is re-distributed to the non risk takers\n",
    "    - That is probably the reason why deflation is avoided?\n",
    "- The reality is that the CPI (consumer price index) really has a big effect in the re-distribution of the wealth, even though people are really not aware of it"
   ]
  },
  {
   "cell_type": "code",
   "execution_count": null,
   "metadata": {},
   "outputs": [],
   "source": []
  }
 ],
 "metadata": {
  "kernelspec": {
   "display_name": "Python 3",
   "language": "python",
   "name": "python3"
  },
  "language_info": {
   "codemirror_mode": {
    "name": "ipython",
    "version": 3
   },
   "file_extension": ".py",
   "mimetype": "text/x-python",
   "name": "python",
   "nbconvert_exporter": "python",
   "pygments_lexer": "ipython3",
   "version": "3.6.8"
  }
 },
 "nbformat": 4,
 "nbformat_minor": 2
}
