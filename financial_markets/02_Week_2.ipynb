{
 "cells": [
  {
   "cell_type": "markdown",
   "metadata": {},
   "source": [
    "# Financial Markets\n",
    "\n",
    "Coursera, Yale.\n",
    "Prof. Robert Shiller."
   ]
  },
  {
   "cell_type": "markdown",
   "metadata": {},
   "source": [
    "## Lesson 5: Financial Innovations\n",
    "\n",
    "### Inventions - Financial Innovation\n",
    "\n",
    "- Inventions take usually very long to develop: suitcase wheels, Mayan toys with wheels, intertitles vs subtitles in movies, etc.\n",
    "- The same happened with insurance\n",
    "- Financial system will change completely in the next decades, but it's difficult to say where it should/will go\n",
    "    - There are several theories of ideal financial management systems, eg, Marxism, but in reality it is very diffuclt to simplify things to core ideas that universally work\n",
    "        - We need to take into account that we are cavemen with archaic tendencies that are counter-intuitive in the modern societies\n",
    "    - Finance community is conservative an resistant to change\n",
    "    - People seem to like gambles like lottery: very low chance of winning big, very high chance of losing small; we need to approach that by making other obejectively more sensible risks more appealing \n",
    "    - Financial innovation should re-frame risks, it shoukd be a pillar of our civilization"
   ]
  },
  {
   "cell_type": "markdown",
   "metadata": {},
   "source": [
    "### Limited Liability\n",
    "\n",
    "- Liability = responsibility\n",
    "- Limited liability law is from 1811\n",
    "- A shareholder is responsible for the part/money he/she put\n",
    "    - The state could not request more money from you\n",
    "- Many were skeptical of it, for many it felt wrong, because people should have complete skin in the game\n",
    "    - They though limited liability could encourage corruption\n",
    "- BUT: limited liability was a great invetion, because it was proven tha investors favor it: a lottery effect is produced\n",
    "    - Buying shares of a stock became like buying a lottery ticket\n",
    "    - That's the Moss' theory\n",
    "    - Additionally, a diversified portfolio makes sense **only** if you have a limited liability; and a diversified portfolio is a great approach for minimizing risk!"
   ]
  },
  {
   "cell_type": "markdown",
   "metadata": {},
   "source": [
    "### Inflation Indexed Debt\n",
    "\n",
    "- Another financial innovation\n",
    "- Currencies tend to be unstable if governments print them\n",
    "- Nominal debt is wiped out due to inflation; that is bad for the person that lent the money or made the effort\n",
    "- The solution is to tie it to inflation, so that it does not disappear\n",
    "- That was invented in 1780, but the US bonds became inflation indexed in 1997 for the first time! That's crazy\n",
    "- Governments mess up all the time, it's very risky to think that inflation is only 2%"
   ]
  },
  {
   "cell_type": "markdown",
   "metadata": {},
   "source": [
    "### Unidad de Fomento\n",
    "\n",
    "- Another invention\n",
    "- Chile 1967, hyperinflation\n",
    "- People were cashing out the paycheck and buying stuff right away\n",
    "- To avoid those rushes, Chilean govenrment invented the Unidad de Fomento\n",
    "- That's a Unit of Account which was tied to the consumer prices\n",
    "- Therefore, things were valued in UFs\n",
    "- In 10 years, the value increased almost 50x\n",
    "- US dollar increased in value 22x in 100 years\n",
    "- They finally replaced their currency"
   ]
  },
  {
   "cell_type": "markdown",
   "metadata": {},
   "source": [
    "### Real Estate Risk Management Devices\n",
    "\n",
    "- Major source of risk: home price changes\n",
    "- It makes sense having equty-protected mortgages: if the price of the house goes down, the mortgage should decrease too; is there something like that?\n",
    "- Futures and options for private houses are an invention runnig, but not very widespread - they help reduce the risk, but I don't understand how"
   ]
  },
  {
   "cell_type": "markdown",
   "metadata": {},
   "source": [
    "### Innovations in Risk Management\n",
    "\n",
    "- Risks are certainly an area that can be tackled in finance\n",
    "- We should try to create systems to reduce our risk!\n",
    "- Risk is in general not well managed worldwide\n",
    "- Shiller mentions several ideas:\n",
    "    - Wage insurance: if you loose your job and earn less in the next, you get compensated\n",
    "    "
   ]
  },
  {
   "cell_type": "markdown",
   "metadata": {},
   "source": [
    "## Lesson 6: Efficient Markets Hypothesis\n",
    "\n",
    "### Efficient Markets Hypothesis"
   ]
  },
  {
   "cell_type": "markdown",
   "metadata": {},
   "source": [
    "- He asked his students to forecast the stock market in the next 50 years after putting the graph of the last 100 years\n",
    "- Most of them copy what happened in the last years, and don't even draw the real exponential growth\n",
    "- That's an error; forecasting is mistaken by \"what seems plausible after seeing the recent past\", when it should be telling what's expected\n",
    "- Random Walk Hypothesis, Pearson 1905\n",
    "    - Forecast the position of a drunk starting at a lamp post\n",
    "    - The idea is that it's impossible to forecast it, so you could well predict he will be at the lamp post!\n",
    "    - It is extensible to stock market: the market is a complete random walk, so the only way of making money is disversification\n",
    "    - However, psycologically we are not atuned to understand the random walk concept...\n",
    "    - Random walk model: x_t = x_(t-1) + noise\n",
    "    - Alternative: First-order autoregressive (AR-1) model: the same, but we have like an elastic band between the drunk and the lamp post, so the drunk is a little bit attracted to the lamp post \n",
    "        - x_t = 100 + r(x_(t-1)-100) + noise, r in [-1,1]\n",
    "        - 100 is the start point, the lamp post\n",
    "        - we are reverting back to the mean with this model\n",
    "    - There are many studies suggesting the stock market is a random walk\n",
    "        - It'd useful to identify the model and its parameters: if we have a AR-1 stock, it makes sense to stay away from it when prices are too high, because they will revert to the mean!\n",
    "- Irrational exuberance\n",
    "    - People disconnect the stock price from the fundamental value of the company and loose their mind in the short term development of the graph, doing all kinds of technical analysis, etc.\n",
    "    - The long term value of a stock is given mainly by its possible fundamental value\n",
    "    - The short-term persepective and usage is not really good; taxes favor long-term investing"
   ]
  },
  {
   "cell_type": "markdown",
   "metadata": {},
   "source": [
    "### Intuition of Efficiency\n",
    "\n",
    "- At the beginning, Mr. Reuter used pidgeons to communicate stock market information between London and Paris\n",
    "    - He was a big success with his pidgeons\n",
    "- Shortly after that, the telegraph was invented, and Reuter started working with it\n",
    "- Information is very valuable\n",
    "- Nowadays everybody has so much information, and immediately\n",
    "- It is a widespread idea that markets are gambling casinos; however, from another perspective, it is obvious that markets fulfill a fundamental task: they figure out the value of the things! They contain more knowledge than an individual mind, in them, prices are settled.\n",
    "    - Thus, security prices, accurately reflect available information and rapidly respond to new information\n",
    "    - This idea has become lighter now, after the 2008 crisis\n",
    "- Roberts coined the term efficient markets, 1967; 3 forms of efficient markets\n",
    "    - weak: prices incorporate information about past\n",
    "    - semi-strong: all publicly available info incorporated\n",
    "    - strong: all information, including insider information\n",
    "- The efficient markets idea is very old, but it won the Nobel price some years ago; Shiller won the Nobel price, too, but he is not a supporter of the theory\n",
    "    - Shiller thinks the efficient markets theory is half true\n",
    "    - The efficient markets theory proposes the markets are wiser than anything else and they settle the price in the most efficient manner possible\n",
    "    - He suggests that there are other elements that regulate price values, such as human psychology\n",
    "    - Additionally, weird things happen sometimes in the markets, and it makes sense to have central banks to control them"
   ]
  },
  {
   "cell_type": "markdown",
   "metadata": {},
   "source": [
    "### Price of a Stock as PDV = Present Discounted Value of the Dividends\n",
    "\n",
    "- Following the Gordon model, we could define the price of a stock as: P = E/(r-g); P/E = 1/(r-g)\n",
    "    - P: price\n",
    "    - E: earnings\n",
    "    - It makes sense to value a stock depending on the earnings (thus, dividends)\n",
    "- However, it does not happen that way really\n",
    "    - P/E ratios can vary a lot\n",
    "    - Low P/E stocks are not necessarily a bargain, but we can forecast that earning are going to decrease\n",
    "- Efficient markets theory denies any rule related to P/E\n",
    "- Why do people think efficient markets theory is real?\n",
    "    - Survival of the fittest\n",
    "    - Smart money dominates trades"
   ]
  },
  {
   "cell_type": "markdown",
   "metadata": {},
   "source": [
    "### Doubting Efficiency\n",
    "\n",
    "- Efficient markets theory is half true: very smart people are really trading, but a lot of smartness is devoted to manipulation, thus the prices are not really what they should be\n",
    "- People who lived through the crisis lost their faith in the markets, some acknowledge that they didn't really know what they were doing... Hence, we see that the human psychology plays a very important role, that means that the markets are not that inteligent"
   ]
  },
  {
   "cell_type": "markdown",
   "metadata": {},
   "source": [
    "## Lesson 7: Behavioral Finance"
   ]
  },
  {
   "cell_type": "markdown",
   "metadata": {},
   "source": [
    "### The Role of Psychology\n",
    "\n",
    "- Behavioral Finance is the main field of Prof. Shiller\n",
    "- The ideas goe back to Adam Smith\n",
    "    - Book: Wealth of Nations\n",
    "    - He was quite a libertarian\n",
    "    - Book: Theory of Moral Sentiments\n",
    "        - He said people want to be praise for things they do correctly\n",
    "        - The more mature we are, we develop a sense of praiseworthiness"
   ]
  },
  {
   "cell_type": "markdown",
   "metadata": {},
   "source": [
    "### Prospect Theory\n",
    "\n",
    "- Prospect theory coined by Kahnemann & Tversky; published in Econometrica 1979, the most important journal in mathematical economics\n",
    "    - \n",
    "- They critizised the whole contruction of economic theory and proposed an alternative\n",
    "    - The core theory was: expected utility theory\n",
    "    - Economy theory tends to value everything and everyone based on their utility, which needs to be maximized\n",
    "        - If there is uncertainty, they use probabilities of events and insert them in the utility\n",
    "    - Kahnemann & Tversky replaced the utility function by a value function, and the probabilities by weighting functions\n",
    "- Prospect theory: Value function\n",
    "    - Utility functions a are convex\n",
    "    - Value function resembles it, but...??\n",
    "    - Look: prospect theory value function\n",
    "    - The idea is that we have a reference point and we value things observing from it; so it's subjective\n",
    "        - Example of 2 gambling profs: one offers the other 200 USD if heads, receives 100 USD if tails; but the other rejects the gamble, even if he has a positive sum gain: 0.5 * 200 -0.5 * 100 = 50. Then, the first prof. offers him to do it 100 times, would he accept it? The other prof. said he would. Lesson: even the case is the same, the sums make us take different decissions!\n",
    "        - People tend to desproportionately take big risks to overcome big losses\n",
    "- Prospect theory: Weighting function\n",
    "    - The probability is not directly used in the decision\n",
    "    - We transform the p to a weighting factor\n",
    "    - The transformation is not linear, but concave\n",
    "        - small ps are rounded to 0\n",
    "        - big ps are rounded to 1\n",
    "        - but sometimes low ps are also exaggerated\n",
    "- Experiments have shown that\n",
    "    - People try to gamble out of losses\n",
    "    - People are overly concerned of small losses\n",
    "- Shiller says there were 2 revolutions in finance: Efficient markets & Behavioral economy\n",
    "    - He thinks both theories are contradictory in a sense, but offer interesting and complementary perspectives\n",
    "    "
   ]
  },
  {
   "cell_type": "markdown",
   "metadata": {},
   "source": [
    "### Prospect Theory, Again\n",
    "\n",
    "- Before Kahnemann and Tversky, people assumed that people were completely rational\n",
    "    - Economists would say people maximize utitlity\n",
    "- Kahnemann and Tversky showed people usually don't behave rationally\n",
    "    - In prospect theory, the present status is always the reference\n",
    "    - Utility is replaced by value or happiness\n",
    "    - A small loss produces more negative value than a bigger gain\n",
    "    - Look for the diagram, very interesting\n",
    "    - Take into account Kahnemann & Co. are psychologists"
   ]
  },
  {
   "cell_type": "markdown",
   "metadata": {},
   "source": [
    "### Logical Falacies\n",
    "\n",
    "These falacies appear everywhere, and also in finance, stock trading, etc:\n",
    "- Wishfull thinking bias\n",
    "    - People overestimate probabilities of things they want to happen\n",
    "    - Overconfidence in friends and leaders\n",
    "- Cognitive disonance\n",
    "    - When we discover that our thinking/beliefs aren't correct; avoidance behavior\n",
    "    - People tend to read the ads of the cars they bought; that's irrational\n",
    "    - Disposition effect: we tend to actively forget our bad decisions\n",
    "- These falacies appear everywhere, we have even laws that prevent us from falling into them, eg. lottery\n",
    "- Mental compartmets\n",
    "    - People don't follow tha CAMP model and focus on the expected return and total variance\n",
    "    - People have often a safe part in the portfolio and a fun part for gambling\n",
    "- Attention anomalies\n",
    "    - We cannot pay attention to everything\n",
    "    - Too many people pay attention to the stocks\n",
    "    - If a stock gets too much attention, probably it's going to be overpriced\n",
    "- Anchoring\n",
    "    - Wheel of fortune experiment: when asked for an amount, people tend to give a number close to the one the got when turning a random wheel\n",
    "- Representantiveness Heuristic\n",
    "    - People judge by similarity to familiar types without regard to base probabilities, rates, etc\n",
    "    - We tend to see patterns of past events also\n",
    "- Disjunction effect\n",
    "    - Inability to make decisions in advance\n",
    "    - People cannot anticipate their future emotions correctly\n",
    "- What can we avoid these biases?\n",
    "    - We need to have better financial education\n",
    "    - Financial advise should change to be more supportive?\n",
    "- Magical thinking\n",
    "    - Skinner's experiment with hungry pidgeons: pidgeons developed superstitions on when they would be fed by linking their actions (eg, dances, or anything they were doing in the instant they were fed) to the feeding instant (which was sometimes random!)\n",
    "- Quasi-magical thinking\n",
    "    - People tend to bet more on a coin not yet tossed\n",
    "- Newcomb's paradox\n",
    "- Culture and Social Cognition\n",
    "    - Collective memory, coined by Dukheim\n",
    "- Narrative psychology\n",
    "    - We are moved by stories\n",
    "- Sociopathy, Borderline\n",
    "    - There is a pattern of people that come up who are sociopaths according to DSM\n",
    "    - 3% of male population are sociopaths\n",
    "    - Does finance attract those people? Shiller doesn't think that\n",
    "    - But, we need to create instruments (eg, insurance, protection laws) to deal with them!"
   ]
  },
  {
   "cell_type": "code",
   "execution_count": null,
   "metadata": {},
   "outputs": [],
   "source": []
  }
 ],
 "metadata": {
  "kernelspec": {
   "display_name": "Python 3",
   "language": "python",
   "name": "python3"
  },
  "language_info": {
   "codemirror_mode": {
    "name": "ipython",
    "version": 3
   },
   "file_extension": ".py",
   "mimetype": "text/x-python",
   "name": "python",
   "nbconvert_exporter": "python",
   "pygments_lexer": "ipython3",
   "version": "3.6.8"
  }
 },
 "nbformat": 4,
 "nbformat_minor": 2
}
