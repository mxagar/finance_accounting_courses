{
 "cells": [
  {
   "cell_type": "markdown",
   "metadata": {},
   "source": [
    "# Financial Markets\n",
    "\n",
    "Coursera, Yale.\n",
    "Prof. Robert Shiller."
   ]
  },
  {
   "cell_type": "markdown",
   "metadata": {},
   "source": [
    "## Lesson 5\n",
    "\n",
    "### Invetions\n",
    "\n",
    "- Inventions take usually very long to develop: suitcase wheels, Mayan toys with wheels, intertitles vs subtitles in movies, etc.\n",
    "- The same happened with insurance\n",
    "- Financial system will change completely in the next decades, but it's difficult to say where it should/will go\n",
    "    - There are several theories of ideal financial management systems, eg, Marxism, but in reality it is very diffuclt to simplify things to core ideas that universally work\n",
    "        - We need to take into account that we are cavemen with archaic tendencies that are counter-intuitive in the modern societies\n",
    "    - Finance community is conservative an resistant to change\n",
    "    - People seem to like gambles like lottery: very low chance of winning big, very high chance of losing small; we need to approach that by making other obejectively more sensible risks more appealing \n",
    "    - Financial innovation should re-frame risks, it shoukd be a pillar of our civilization"
   ]
  },
  {
   "cell_type": "markdown",
   "metadata": {},
   "source": [
    "### Limited Liability\n",
    "\n",
    "- Liability = responsibility\n",
    "- Limited liability law is from 1811\n",
    "- A shareholder is responsible for the part/money he/she put\n",
    "    - The state could not request more money from you\n",
    "- Many were skeptical of it, for many it felt wrong, because people should have complete skin in the game\n",
    "    - They though limited liability could encourage corruption\n",
    "- BUT: limited liability was a great invetion, because it was proven tha investors favor it: a lottery effect is produced\n",
    "    - Buying shares of a stock became like buying a lottery ticket\n",
    "    - That's the Moss' theory\n",
    "    - Additionally, a diversified portfolio makes sense **only** if you have a limited liability; and a diversified portfolio is a great approach for minimizing risk!"
   ]
  },
  {
   "cell_type": "code",
   "execution_count": null,
   "metadata": {},
   "outputs": [],
   "source": []
  }
 ],
 "metadata": {
  "kernelspec": {
   "display_name": "Python 3",
   "language": "python",
   "name": "python3"
  },
  "language_info": {
   "codemirror_mode": {
    "name": "ipython",
    "version": 3
   },
   "file_extension": ".py",
   "mimetype": "text/x-python",
   "name": "python",
   "nbconvert_exporter": "python",
   "pygments_lexer": "ipython3",
   "version": "3.6.8"
  }
 },
 "nbformat": 4,
 "nbformat_minor": 2
}
