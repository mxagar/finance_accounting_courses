{
 "cells": [
  {
   "cell_type": "markdown",
   "metadata": {},
   "source": [
    "# Financial Markets\n",
    "\n",
    "Coursera, Yale.\n",
    "Prof. Robert Shiller."
   ]
  },
  {
   "cell_type": "markdown",
   "metadata": {},
   "source": [
    "## Lesson 17"
   ]
  },
  {
   "cell_type": "markdown",
   "metadata": {},
   "source": [
    "### Nonprofits, Cooperatives, Philantropy\n",
    "- Traditional economic theory considers businesses want to create profits for individual use\n",
    "- However, there are some other models in which profits are not the goal, eg, nonprofits\n",
    "- In 2013 there were 1.4 million nonprofits in the USA, approx 10% of total workforce\n",
    "    - Some people work there for nothing, eg., retired people\n",
    "    - In developed countries, the percentage is also around 10%\n",
    "        - Shiller thinks it's because of civil society\n",
    "- Nonprofits don't give backprofits as dividends, but they need to reinvest them\n",
    "- Some years ago, philantropy was a means of financing science, for instance Darwin's voyages and research were funded like that\n",
    "- Nonprofits have to compete with for-profits\n",
    "    - They also have salaries, bonuses, etc.\n",
    "- Yale University is a nonprofit\n",
    "- Other examples: hospitals\n",
    "    - Usually, nonprofits have some moral goal, like provide health services independently of income\n",
    "- Hoarding instinct: tendency of human beings to collect many things\n",
    "    - I don't understand why this is mentioned\n",
    "- Political correctness: entrepeneurs nowadays don't want to confine to the politically correct, for instance do not hire talented people to avoid seemingly unfair salary distributions."
   ]
  },
  {
   "cell_type": "markdown",
   "metadata": {},
   "source": [
    "### Cooperatives\n",
    "- Business that might distribute profits\n",
    "    - One person has one vote, regardless of how many shares the person holds\n",
    "    - People with very little money have the same power as other with more money\n",
    "    - Profits are distributed to the peope who shop there; so there is some sense of loyalty, they don't want to fool people\n",
    "- Rochdale society (grocery store from UK) was the first cooperative, from 1844\n",
    "- Which would be differences in busines strategy between a normal for-profit and a cooperative?\n",
    "    - Usually, the incentive of the cooperative is the good for the consumer\n",
    "    - Cooperatives have a community spirit\n",
    "    - They tend not to be very successful in the USA\n",
    "    - They have either lower wages or higher prices\n",
    "    - The cooperatives are designed for their members: they sell to their members\n",
    "    - The members have equal vote\n",
    "    - Members usually decide to maximize the wellfare of th egroup, not that much the profit for the group\n"
   ]
  },
  {
   "cell_type": "markdown",
   "metadata": {},
   "source": [
    "### Alternative Forms\n",
    "- Alternative to nonprofits and cooperatives: Benefit Corporations\n",
    "- Created in 2010 in the USA, currently spreading\n",
    "    - It might become a success type of organization\n",
    "- Halfway between for-profit and a non-profit\n",
    "- Dual objective: for-profits and for some social or environmental purpose\n",
    "    - The purpose is written in their charter (constitution)\n",
    "- The spirit is different than in a regular for-profit, people do things because they are the correct things to do and aligned with the mission of the company"
   ]
  },
  {
   "cell_type": "markdown",
   "metadata": {},
   "source": [
    "### Public vs. Private\n",
    "- Typically education is government run\n",
    "- Governments handle usually sensitive human-related issues\n",
    "- Government-run companies might be corrupt, but in another way than stealing money (as in for-profit ones)\n",
    "- Note: public companies are in USA companies listed on exchanges, private companies are usually smaller companies which are not listed in exchanges, but their shares are held by less people provately.\n",
    "- Before medicine regulations, no tests were required before selling them\n",
    "    - Anything could be sold\n",
    "    - The consumers could sue the medicine producers if the had damages, but if that didn't happen, the medicines could continue to be sold\n",
    "    - That caused a lot of medicines to be fake!\n"
   ]
  },
  {
   "cell_type": "markdown",
   "metadata": {},
   "source": [
    "## Lesson 18\n",
    "Finding your purpose in a world of financial capitalism."
   ]
  },
  {
   "cell_type": "markdown",
   "metadata": {},
   "source": [
    "### Critics of Modern Finance\n",
    "- Adair Turner's book: Between Debt and the Devil\n",
    "    - GDP is increasing, but so is the debt; so it seems many things are leveraged\n",
    "    - Turner: Corporate debt is a kind of economic polltion that needs to be taxed\n",
    "- Rana Farooha's book: Makers & Takers\n",
    "    - In her book, he starts talking about Apple and Steve Jobs\n",
    "    - After Jobs died, Apple started borrowing money; they already had accumulated a lot of monay under Jobs\n",
    "    - She argues the strategy is tax evasion: they borrow money for tax evasion\n",
    "    - She links exploitation of tax law with loss of creativity in a business\n",
    "    - She argues the world is increasingly run by takers instead of makers"
   ]
  },
  {
   "cell_type": "markdown",
   "metadata": {},
   "source": [
    "### Democratization of Finance\n",
    "- Shiller's book: Finance and the Good Society\n",
    "    - Internet could be a catalizer for democratization of finance\n",
    "    - Finance tools should be available to everybody, not only wealthy people\n",
    "    - One example of democratization of finance thanks to the internet: crowdfunding\n",
    "        - People can publish ideas and raise money online\n",
    "        - Crowdcube\n",
    "        - Shiller thinks crowdfunding is a great innovation\n",
    "        - In the USA, the regulators are usually more skeptical than, say, in UK, with these kind of platforms\n",
    "        - In the USA, the amount of money that can be raised in crowdfunding campaings is limited: 1 million USA over 12 months\n",
    "- Shiller thinks finance regulation is indeed very complicated, because the world is getting more complex and many exploitation cases need to be foreseen to avoid damages to regular citizens\n",
    "- For Shiller, finances is not about getting rich, but to make civilization work better\n",
    "- A fundamental thing is to show people how to take risks\n",
    "    - In China and Russia there has been a total change in th elast 30 years\n",
    "    - People have been exposed to financial education and they are now way more entrepeneurial and risk taking\n",
    "- Democratization of finance is essential\n",
    "    - 200 years ago there were no retail saving accounts\n",
    "    - Savings banks were nonprofits\n",
    "    - Now, things have changed a lot: everyone has a savings account!\n",
    "    - Many things can change in the coming years, similarly\n",
    "- Financial literacy is key for the democratization of finance\n",
    "    - Shiller compares financial literacy with medical/health literacy\n",
    "    - You need a doctor, but knowing about health matters and is very useful, eg., eating habits, etc.\n",
    "- In the conversation, the book \"Nudge\" by Thaler ans Sunstein is mentioned\n",
    "    - Nudge theory proposes positive reinforcement in indirect suggestions as ways to influence behavior and decision making; example: housefly in urinal"
   ]
  },
  {
   "cell_type": "markdown",
   "metadata": {},
   "source": [
    "### Finance and War\n",
    "- War is a perennial feature of human species, as for chimpanzees; we're always close to war, it's probably something in our genes\n",
    "- There is no world government, there probably won't be such thing\n",
    "- Governements get destroyed, changed, funded\n",
    "- Finance often survives changes in government; example: WWI\n",
    "    - Other countries thought Gemrany should pay their crimes in WWI\n",
    "    - Other countries demanded reparations\n",
    "    - German government planed to increase taxes to pay the victors in the war\n",
    "    - However, taxes were cancelled, victors cancelled the debt after seeing how hostile Germanb people were becoming for the injustice\n",
    "    - In WWII the lesson was already learned: you cannot penalize individuals for the sinns of their governments\n",
    "        - But that happened in West Germany\n",
    "        - In East Germany, the comunists took over and they actually grabbed things from the German\n",
    "        - After the reunification, people sometimes could reclaim their lost property\n",
    "- Another example of how finance survives government changes: Iran Revolution in 1979\n",
    "    - Isalamists took over the governement of the shah, but they left the pensions of the previous goverment employees be\n",
    "- Another example: South Africa in 1994: pensions and insurances of previous governement employees were maintained\n",
    "- However, it is not always like that: socialist take overs often confiscate property and these are not returned\n",
    "    - Examples: Lenin, Mao Tse-Tung, ...\n",
    "    - Example: Japan after WWII: USA forced the big four (zaibatsu: Mitsubishi Mitsui, Sumitomo, Yasuda) to sell their assets and invest ni nominal yen bonds\n",
    "        - As a result, there was very high inflation in Japan\n",
    "- If we are doing long-term investments, we need to take into account these kind of scenarios: war, confiscation, survival of investments, etc.\n",
    "    - Ultimately, the civil society will decide if our investment survives or not"
   ]
  },
  {
   "cell_type": "markdown",
   "metadata": {},
   "source": [
    "### Finance and Population Growth\n",
    "- Malthusiam Principle (Thomas Malthus, 1789): An Essay on the Principle of Population\n",
    "    - Main point: Population naturally increases in geometric ratio whereas the subsistence of man increases in arithmetic ratio\n",
    "    - So, one could undertsand that civilizations are continuously under a situation of starvation, if we do something to alleviate that situation, we reproduce, and the population meets the measures taken before, so the situation continues; it is hopeless and descouraging\n",
    "    - Shiller thinks Malthus point might be true in a century-long perspective, but we live here and now, and we have the moral obligation to improve our conditions"
   ]
  },
  {
   "cell_type": "code",
   "execution_count": null,
   "metadata": {},
   "outputs": [],
   "source": []
  }
 ],
 "metadata": {
  "kernelspec": {
   "display_name": "Python 3",
   "language": "python",
   "name": "python3"
  },
  "language_info": {
   "codemirror_mode": {
    "name": "ipython",
    "version": 3
   },
   "file_extension": ".py",
   "mimetype": "text/x-python",
   "name": "python",
   "nbconvert_exporter": "python",
   "pygments_lexer": "ipython3",
   "version": "3.6.8"
  }
 },
 "nbformat": 4,
 "nbformat_minor": 2
}
