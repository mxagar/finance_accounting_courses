{
 "cells": [
  {
   "cell_type": "markdown",
   "metadata": {},
   "source": [
    "# Financial Markets\n",
    "\n",
    "Coursera, Yale.\n",
    "Prof. Robert Shiller."
   ]
  },
  {
   "cell_type": "markdown",
   "metadata": {},
   "source": [
    "## Lesson 17"
   ]
  },
  {
   "cell_type": "markdown",
   "metadata": {},
   "source": [
    "### Nonprofits, Cooperatives, Philantropy\n",
    "- Traditional economic theory considers businesses want to create profits for individual use\n",
    "- However, there are some other models in which profits are not the goal, eg, nonprofits\n",
    "- In 2013 there were 1.4 million nonprofits in the USA, approx 10% of total workforce\n",
    "    - Some people work there for nothing, eg., retired people\n",
    "    - In developed countries, the percentage is also around 10%\n",
    "        - Shiller thinks it's because of civil society\n",
    "- Nonprofits don't give backprofits as dividends, but they need to reinvest them\n",
    "- Some years ago, philantropy was a means of financing science, for instance Darwin's voyages and research were funded like that\n",
    "- Nonprofits have to compete with for-profits\n",
    "    - They also have salaries, bonuses, etc.\n",
    "- Yale University is a nonprofit\n",
    "- Other examples: hospitals\n",
    "    - Usually, nonprofits have some moral goal, like provide health services independently of income\n",
    "- Hoarding instinct: tendency of human beings to collect many things\n",
    "    - I don't understand why this is mentioned\n",
    "- Political correctness: entrepeneurs nowadays don't want to confine to the politically correct, for instance do not hire talented people to avoid seemingly unfair salary distributions."
   ]
  },
  {
   "cell_type": "markdown",
   "metadata": {},
   "source": [
    "### Cooperatives\n",
    "- Business that might distribute profits\n",
    "    - One person has one vote, regardless of how many shares the person holds\n",
    "    - People with very little money have the same power as other with more money\n",
    "    - Profits are distributed to the peope who shop there; so there is some sense of loyalty, they don't want to fool people\n",
    "- Rochdale society (grocery store from UK) was the first cooperative, from 1844\n",
    "- Which would be differences in busines strategy between a normal for-profit and a cooperative?\n",
    "    - Usually, the incentive of the cooperative is the good for the consumer\n",
    "    - Cooperatives have a community spirit\n",
    "    - They tend not to be very successful in the USA\n",
    "    - They have either lower wages or higher prices\n",
    "    - The cooperatives are designed for their members: they sell to their members\n",
    "    - The members have equal vote\n",
    "    - Members usually decide to maximize the wellfare of th egroup, not that much the profit for the group\n"
   ]
  },
  {
   "cell_type": "markdown",
   "metadata": {},
   "source": [
    "### Alternative Forms\n",
    "- Alternative to nonprofits and cooperatives: Benefit Corporations\n",
    "- Created in 2010 in the USA, currently spreading\n",
    "    - It might become a success type of organization\n",
    "- Halfway between for-profit and a non-profit\n",
    "- Dual objective: for-profits and for some social or environmental purpose\n",
    "    - The purpose is written in their charter (constitution)\n",
    "- The spirit is different than in a regular for-profit, people do things because they are the correct things to do and aligned with the mission of the company"
   ]
  },
  {
   "cell_type": "markdown",
   "metadata": {},
   "source": [
    "### Public vs. Private\n",
    "- Typically education is government run\n",
    "- Governments handle usually sensitive human-related issues\n",
    "- Government-run companies might be corrupt, but in another way than stealing money (as in for-profit ones)\n",
    "- Note: public companies are in USA companies listed on exchanges, private companies are usually smaller companies which are not listed in exchanges, but their shares are held by less people provately.\n",
    "- Before medicine regulations, no tests were required before selling them\n",
    "    - Anything could be sold\n",
    "    - The consumers could sue the medicine producers if the had damages, but if that didn't happen, the medicines could continue to be sold\n",
    "    - That caused a lot of medicines to be fake!\n"
   ]
  },
  {
   "cell_type": "markdown",
   "metadata": {},
   "source": [
    "## Lesson 18"
   ]
  },
  {
   "cell_type": "code",
   "execution_count": null,
   "metadata": {},
   "outputs": [],
   "source": []
  }
 ],
 "metadata": {
  "kernelspec": {
   "display_name": "Python 3",
   "language": "python",
   "name": "python3"
  },
  "language_info": {
   "codemirror_mode": {
    "name": "ipython",
    "version": 3
   },
   "file_extension": ".py",
   "mimetype": "text/x-python",
   "name": "python",
   "nbconvert_exporter": "python",
   "pygments_lexer": "ipython3",
   "version": "3.6.8"
  }
 },
 "nbformat": 4,
 "nbformat_minor": 2
}
