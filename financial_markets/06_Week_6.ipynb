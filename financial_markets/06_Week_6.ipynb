{
 "cells": [
  {
   "cell_type": "markdown",
   "metadata": {},
   "source": [
    "# Financial Markets\n",
    "\n",
    "Coursera, Yale.\n",
    "Prof. Robert Shiller."
   ]
  },
  {
   "cell_type": "markdown",
   "metadata": {},
   "source": [
    "## Lesson 14"
   ]
  },
  {
   "cell_type": "markdown",
   "metadata": {},
   "source": [
    "### Investment Banks Introduction\n",
    "- Investment banks and money managers and their influences\n",
    "- Commercial banks take deposits and make loans\n",
    "- Investment banks don't accept deposits and don't make loans, but they underwrite securities\n",
    "    - Companies go to investment banks when they need money\n",
    "    - Investment banks issue new shares for those companies or issue debt: that is underwriting securities\n",
    "    - Bulge-bracket firms (big firms): First Boston, Goldman Sachs (since the 2008 crisis it's a commercial bank), Merril Lynch, Morgan Stanley, Lehman Brothers (bankrupt after 2008)\n",
    "- Finance is about making things happen: you need finance to do or build good things\n",
    "    - Shiller sees investment very positively, although people distrust investment banks\n",
    "    - Shiller thinks the large economical growth we've seen is due to financial capitalism"
   ]
  },
  {
   "cell_type": "markdown",
   "metadata": {},
   "source": [
    "### Underwriting Securities\n",
    "- Underwriting securities = issuance of shares and corporate debt\n",
    "- Investment banks have researchers and know where the money is; in that sense, companies could get advise from them\n",
    "- If we want to issue new shares, investment banks examine us and certify the issue\n",
    "- Moral Hazard problem mitigated by investment banks\n",
    "    - Firms might want to issue new shares when they know that the high earnings are only temporarily high\n",
    "    - Investment banks deal with those types of issues\n",
    "    - Studies show that investment banks that repeatedly underprice or overprice issues suffer a market share loss afterwards\n",
    "        - Low price is bad for the company\n",
    "        - High price is bad for the new investors\n",
    "- Investment banks have many contacts and are necessary for issuing new shares; they are like an authority, without them, people won't trust you\n",
    "- The underwriting process\n",
    "    - There are several phases\n",
    "    - It is based on trust; many people in each step don't read really all the documents\n",
    "    - If after issuing the price falls, the underwriter investment bank buys shares at the initial price: that's called stabilization, SEC agrees with it (it's not considered manipulation)\n",
    "    - Stabilization is done to prevent panicking and to deal with reputation issues"
   ]
  },
  {
   "cell_type": "markdown",
   "metadata": {},
   "source": [
    "### Initial Public Offerings = IPOs\n",
    "- A company can trade shares privately\n",
    "- If they go public, they need to do it through the SEC and prepare an IPO\n",
    "- The SEC does not evalkuate if the shares are going to be sold; the SEC evaluates that there is no manipulation\n",
    "- Usually the price increases after the IPO: the underwriter underprices the shares - but the SEC does not intervine\n",
    "    - It is actually a manipulation, because the friends of the company get the shares cheaper\n",
    "    - That is how the world works\n",
    "    - Often, after the first day 15% increase can be observed; BUT: it could be that in one year the company is gone too!\n",
    "- The Concert analogy (Impressario hypothesis)\n",
    "    - Underwriters offer cheap tickets and advertise the concert as if it were great\n",
    "    - Then, the young excited people join to the concert\n",
    "    - They could increase the prices, but they don't so that the young people join! "
   ]
  },
  {
   "cell_type": "markdown",
   "metadata": {},
   "source": [
    "### Goldman Sachs and John Whitehead\n",
    "- Goldman Sachs was one of the most esteemed investment banks before the 2008 crisis\n",
    "    - They were making a lot of money\n",
    "    - Everything was done for money\n",
    "    - People are absolutely loyal to the firm\n",
    "- John Whitehead has been the Chairman of Goldman Sachs; he defined some principles\n",
    "    - Client's interests first\n",
    "    - Assets are people, capital, reputation\n",
    "    - Excellence\n",
    "    - Creativity and imagination in everything done"
   ]
  },
  {
   "cell_type": "markdown",
   "metadata": {},
   "source": [
    "### Rating Agencies\n",
    "- An alternative to an investmenmt bank in terms of trust would be a rating agency\n",
    "- A rating agency publishes its information, in contrast to an investment bank\n",
    "- First rating agency: Mooddy's (1909); he decided to give ratings like at school\n",
    "    - Best rating is AAA\n",
    "    - Rating agencies did not accept money at the begining; but in the 1970 they started charging\n",
    "    - They still accept money for their ratings, but that is unethical and it should be regulated and banned!\n",
    "    - It turned out they became a great business, especially when derivatives appeared\n",
    "    - In the early 2000s the rating agencies were getting casual and unprofessional; that was one of the causes of the 2008 crisis: they gave good marks to bad companies/mortgages\n",
    "    - Now they have lost their reputation, but they still continue, and they are more carefully observed"
   ]
  },
  {
   "cell_type": "markdown",
   "metadata": {},
   "source": [
    "### Glass Steagall Act 1933\n",
    "- One of the most important acts in the congress\n",
    "- First insurance of commencial banks deposits was created\n",
    "- People thought that the 1929 crash was related to bank missbehavior\n",
    "- The Glass Steagall act prohibited to be both commercial and investment banks\n",
    "- Other countries (Germany, Switzerland) have always alllowed the so-called universal banks\n",
    "- Since 1999 with Clinton, the Glass Steagall is not active anymore and banks can be universal\n",
    "- There have been large merges of banks in the last 20 years\n",
    "- Paul Volcker, a previous Fed Chairman wants to activate the Glass Steagall act again\n",
    "    - Volcker is famous for cutting the inflation in the 70s with a recession\n"
   ]
  },
  {
   "cell_type": "markdown",
   "metadata": {},
   "source": [
    "### Net Worth of the USA\n",
    "- Total assets in USA (what is owned): 101 Trillion\n",
    "    - Average person owns: 270k!\n",
    "    - The average family would own 1 million dollar!\n",
    "    - However, that wealth is not uniformly distributed\n",
    "    - Real estate: 25 T\n",
    "    - Pension funds: 21 T\n",
    "    - Non-corporate equity (non-traded stocks/shares): 11 T\n",
    "    - Deposits: 10 T\n",
    "    - Corporate equity (traded stocks): 13 T\n",
    "    - Mutual funds (indirect posesion of stocks and bonds): 8 T\n",
    "    - Treasury securities (bonds): 1.2 T\n",
    "    - Municipal bonds (regional government bonds): 1.5 T \n",
    "    - Life insurance: 1.3 T\n",
    "- Total liabilities (what is owed): 14.5 Trillion\n",
    "    - Home mortgages: 10 T\n",
    "    - Consumer credit: 3.5 T\n",
    "    - Loans: 1.5 T\n",
    "    - Difference Assets - Liabilities: 87 T"
   ]
  },
  {
   "cell_type": "markdown",
   "metadata": {},
   "source": [
    "### The Prudent Person\n",
    "- ERISA: Empoyment Retirees Income Security Act (1974)\n",
    "- This act defines how a prudent person would behave and asks financial managers to behave like that; basically, ask yourself what other people would do\n",
    "- Similar acts have appeared since"
   ]
  },
  {
   "cell_type": "markdown",
   "metadata": {},
   "source": [
    "### Advisors\n",
    "- Financial advisors\n",
    "    - Excluded: profesors, broker dealers, lawyers, reporters, etc.\n",
    "    - Advisors are any who advide qhere to invest, also analysts\n",
    "    - Financial advisors are regulated\n",
    "- Financial planners\n",
    "    - It's not regulated\n",
    "    - They are certified\n",
    "    - They do life-long financial planning\n",
    "- What should we be looking for when looking for a financial advisor\n",
    "    - Talk to other people who have them and ask for refeerals\n",
    "    - There are associations of financial advisors, maybe contact them\n",
    "    - Machines seem to be replacing financial advisors\n",
    "        - Shiller thinks though, that persons are not going to be replaced completely, because of a basic human trait: we want to have some kind of personal relation\n",
    "        - One problem of financial advise is that it's expensive; Shiller thinks there should be government subsidies for financial advisors, or philantropic support\n",
    "    - Low-income people need financial advise, because they are atargeted with false information, for instance, to buy a house witha mortgage\n",
    "        - It's not that they need stock portfolio management, but they need some coaching, like a therapist, to know how to save for the future\n",
    "    - Shiller thinks it's a good idea to have some philantropic buros where people go and ask for free"
   ]
  },
  {
   "cell_type": "markdown",
   "metadata": {},
   "source": [
    "### Mutual Funds and ETFs (Exchange Trade Funds)\n",
    "- Mutual Funds were invented in Holland in th 1770s, like many financial things\n",
    "- One of the pioneers in USA was the Massachusets Investment Trust (MIT, but no connection to the MIT university)\n",
    "    - They published their portfolio, in contrast to what´s done today in 1920\n",
    "    - They only had one class of investors or shares; many contemporary funds were playing tricks with class A & B shares\n",
    "    - They redeemed on demand: the investors could get their money whenever they wanted!\n",
    "    - MIT became the model for funds and investment management\n",
    "    - In the 1930s and 1940s everything was formally regulated\n",
    "- Mutual Funds: what are they and how do they work\n",
    "    - You contact the investment company and give a cheque with the money\n",
    "    - You don't buy shares, they do it for you\n",
    "    - They have a portfolio of shares\n",
    "    - When you give them money, you end up having a share of that portfolio, after subtracting the expenses (fees, salaries, etc.)\n",
    "    - When can call them and tell them we want to sell our share whenever we want to exit ang get our money\n",
    "    - They operate with closing prices: the closing (4 pm) prices of cheque in or exit is used\n",
    "- ETF = Exchange Trade Fund\n",
    "    - Something similar to the mutual funds\n",
    "    - Invented in the 1990s\n",
    "        - First ETF: Standard & Poor Depositary Receipts: they had a S&P500 portfolio\n",
    "    - They are more liquid than mutual funds, lower costs\n",
    "    - Mutual funds are called open-end funds\n",
    "        - Closed-end funds are something different: you buy your share on the fund, but you can't redeem them from the fund, you need to sell them in a market\n",
    "        - The advantage of closed-end funds is that they are traded all the time on the market, not at 4 pm at the Mutual Fund\n",
    "        - However, the price of the closed-fund share is not tied to the value of the assets hold by the fund! May the price of the share is lower than the assets, because they have a bad management and people don't trust them!\n",
    "    - The ETFs wre created as an alternative for open-end (= mutual funds) and closed-end funds\n",
    "    - The idea is you have\n",
    "        - Like an  open-end fund\n",
    "        - You can sell whenever you want because it is traded on a exchange (not only a at 4 pm at the Mutual Fund company), so immediately redeemable\n",
    "        - The fund tracks the value of the underlying assets\n",
    "    - ETFs are groups of company shares that have the certificate of being traded in the ETF basket\n",
    "        - The ETF itself has a share value, which follows the prices of the underlying assets, but it sometimes deviates a little bit\n",
    "        - We say the ETF is trading at a discount, when its price is lower than the assets\n",
    "        - At premium, when price of ETF higher than the assets\n",
    "        - The difference between ETF price and asset price is used to sell back asset share to the investors or buy more asset shares; that process keeps the ETF price tied or tracking to the asset price!\n",
    "        - So ETFs achieve automatic creation and redemption of shares\n",
    "    - A lot of people own stocks through ETFs now\n",
    "    - ETFs have a very low management fee\n",
    "    - ETFs are tipically for smart investors\n",
    "- \n",
    "        "
   ]
  },
  {
   "cell_type": "markdown",
   "metadata": {},
   "source": [
    "## Lesson 15"
   ]
  },
  {
   "cell_type": "markdown",
   "metadata": {},
   "source": [
    "### Brokers and Dealers\n",
    "- A broker is someone who acts on behalf of another one, agent which can earn a comission\n",
    "- A dealer always acts for himself; if contact a dealer, the dealer owns the stocks and he sells them to us at a price, there is no comission; we can sell to a dealer\n",
    "    - It is analogous to an antique dealer\n",
    "    - The dealers usually have higher costs, that's why often it's more expensive treating with them\n",
    "- A broker-dealer is a firm doing business both as broker and as dealer; it must be registered\n",
    "    - A person cannot be both, broker and dealer, on the same transaction\n",
    "- When we want to buy a home we treat with a real estate broker\n",
    "    - There are dealers, but it's uncommon, probably due to taxes\n",
    "    - In Germany: Immobilienmakler\n",
    "- Good and bad broker behavior\n",
    "    - Brokers can call the client to inform on new opportunities\n",
    "    - However, we cannot forget their goal is to make a comission\n",
    "    - It is illegal to make too many transactions that yield more comissions; that's called churning\n",
    "    - One way to avoid uncontrolled transactions by brokers (churning) is to have full control over our portfolio"
   ]
  },
  {
   "cell_type": "markdown",
   "metadata": {},
   "source": [
    "### Exchanges\n",
    "- First stock exchange in the USA: New York Stock Exchange, NYSE, 1791\n",
    "- NASDAQ: 1971; computerized market\n",
    "    - Pink sheets were replaced\n",
    "        - These were bid & ask quotes \n",
    "    - NYSE investigated the companies before incorporating them to the market\n",
    "- NYSE has the most prestige, but it's fading, because NASDAQ has power too\n",
    "- Exchanges must be registered\n",
    "- Exchanges flourished as information technologies advanced more\n",
    "- Companies choose where to list on\n",
    "    - In China for instance (and in other places), people tend to invest in local exchanges because there's a familiarity bias: people hear about them, they see people"
   ]
  },
  {
   "cell_type": "markdown",
   "metadata": {},
   "source": [
    "### Limit Order Book\n",
    "- Island ECN was the first exchange to show its book on the web in 2002; anyone could register and play in the platform\n",
    "    - Since there were many ordinary traders, ask and bid values were small\n",
    "- NASDAQ started to do the same; but they required professional investors, so the registration price was/is higher and the volumes too\n",
    "- The ask/bid proces and volumes are the limit order book"
   ]
  },
  {
   "cell_type": "markdown",
   "metadata": {},
   "source": [
    "### High Frequency Trading\n",
    "- Computer programs trade algorithmically\n",
    "- These trades are so fast that human beings do not see them\n",
    "- The speed of the algorithms becomes relevant; the limit is the speed of light; the distance to the data source starts to matter, because the data transmission time becomes an advantage/disadvantage\n",
    "- People are concerned with high frequency trading, because it works faster than humans, and there is not human-feasible control over it\n",
    "- Shiller thinks it is probably not that worrysome if you don't trade a lot, but\n",
    "    - It has been shown that high frequency trading sucks a lot of money\n",
    "    - Some proposals suggest grouping millisecond trades before execution and wait X seconds\n",
    "    - Shiller thinks millisecond tradinhg does not add value to the market; but people are installing fiber optic cable to the data sources so that they have millisecond advantage for their algorithms\n",
    "    - Fiber optic short cuts are unnecessary investments that we could avoid by gripuing trades and waiting 1-10 seconds before execution\n",
    "    - Therefore, regulations are likely to appear in that respect; these don't need to come from the government, maybe they come from the exchanges"
   ]
  },
  {
   "cell_type": "markdown",
   "metadata": {},
   "source": [
    "### Payment for Order Flow\n",
    "- Peculiar practice\n",
    "- We ask a broker to execute an action (buy/sell a stock/share)\n",
    "- The brokers do not execute the order directly, but they hand it to another person\n",
    "- That other person collects the orders and executes thems according to several policies\n",
    "    - For instance, when a big order needs to be executed, often it is chopped into smaller orders which are executed along the time\n",
    "    - That prevents big effects on the price\n",
    "- That creates an extra fee for the investor\n",
    "- The final executor could also be a high frequency trader\n",
    "- The SEC investigated that pratice and decided to not outlaw it\n",
    "    - They decided it was too complex to ban it, the consequences were unknown\n",
    "    - The response was to regulate some transparency: the broker needed to publish there whereabouts of the executor, some quality metrics (did they really get the best price?)"
   ]
  },
  {
   "cell_type": "markdown",
   "metadata": {},
   "source": [
    "### Kinds or Orders\n",
    "- Market order\n",
    "    - Typical for retail investors\n",
    "    - The broker supposedly gets the best market price\n",
    "- Limit order\n",
    "    - I want to buy below a price or sell above a price\n",
    "    - We expect that small price fluctuations will happen, so we minimize risk\n",
    "    - Some years ago there was a mini instantaneous crash in the markets and people who had market orders sold at very low prices; clearly, limit orders are much safer than market orders if we leave them automatized\n",
    "- Stop loss order\n",
    "    - I will sell at any price at or below a threshold\n",
    "    - This is a security in case the price falls below a certain point"
   ]
  },
  {
   "cell_type": "code",
   "execution_count": null,
   "metadata": {},
   "outputs": [],
   "source": []
  }
 ],
 "metadata": {
  "kernelspec": {
   "display_name": "Python 3",
   "language": "python",
   "name": "python3"
  },
  "language_info": {
   "codemirror_mode": {
    "name": "ipython",
    "version": 3
   },
   "file_extension": ".py",
   "mimetype": "text/x-python",
   "name": "python",
   "nbconvert_exporter": "python",
   "pygments_lexer": "ipython3",
   "version": "3.6.8"
  }
 },
 "nbformat": 4,
 "nbformat_minor": 2
}
