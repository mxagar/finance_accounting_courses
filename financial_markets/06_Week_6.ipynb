{
 "cells": [
  {
   "cell_type": "markdown",
   "metadata": {},
   "source": [
    "# Financial Markets\n",
    "\n",
    "Coursera, Yale.\n",
    "Prof. Robert Shiller."
   ]
  },
  {
   "cell_type": "markdown",
   "metadata": {},
   "source": [
    "## Lesson 14"
   ]
  },
  {
   "cell_type": "markdown",
   "metadata": {},
   "source": [
    "### Investment Banks Introduction\n",
    "- Investment banks and money managers and their influences\n",
    "- Commercial banks take deposits and make loans\n",
    "- Investment banks don't accept deposits and don't make loans, but they underwrite securities\n",
    "    - Companies go to investment banks when they need money\n",
    "    - Investment banks issue new shares for those companies or issue debt: that is underwriting securities\n",
    "    - Bulge-bracket firms (big firms): First Boston, Goldman Sachs (since the 2008 crisis it's a commercial bank), Merril Lynch, Morgan Stanley, Lehman Brothers (bankrupt after 2008)\n",
    "- Finance is about making things happen: you need finance to do or build good things\n",
    "    - Shiller sees investment very positively, although people distrust investment banks\n",
    "    - Shiller thinks the large economical growth we've seen is due to financial capitalism"
   ]
  },
  {
   "cell_type": "markdown",
   "metadata": {},
   "source": [
    "### Underwriting Securities\n",
    "- Underwriting securities = issuance of shares and corporate debt\n",
    "- Investment banks have researchers and know where the money is; in that sense, companies could get advise from them\n",
    "- If we want to issue new shares, investment banks examine us and certify the issue\n",
    "- Moral Hazard problem mitigated by investment banks\n",
    "    - Firms might want to issue new shares when they know that the high earnings are only temporarily high\n",
    "    - Investment banks deal with those types of issues\n",
    "    - Studies show that investment banks that repeatedly underprice or overprice issues suffer a market share loss afterwards\n",
    "        - Low price is bad for the company\n",
    "        - High price is bad for the new investors\n",
    "- Investment banks have many contacts and are necessary for issuing new shares; they are like an authority, without them, people won't trust you\n",
    "- The underwriting process\n",
    "    - There are several phases\n",
    "    - It is based on trust; many people in each step don't read really all the documents\n",
    "    - If after issuing the price falls, the underwriter investment bank buys shares at the initial price: that's called stabilization, SEC agrees with it (it's not considered manipulation)\n",
    "    - Stabilization is done to prevent panicking and to deal with reputation issues"
   ]
  },
  {
   "cell_type": "markdown",
   "metadata": {},
   "source": [
    "### Initial Public Offerings = IPOs\n",
    "- A company can trade shares privately\n",
    "- If they go public, they need to do it through the SEC and prepare an IPO\n",
    "- The SEC does not evalkuate if the shares are going to be sold; the SEC evaluates that there is no manipulation\n",
    "- Usually the price increases after the IPO: the underwriter underprices the shares - but the SEC does not intervine\n",
    "    - It is actually a manipulation, because the friends of the company get the shares cheaper\n",
    "    - That is how the world works\n",
    "    - Often, after the first day 15% increase can be observed; BUT: it could be that in one year the company is gone too!\n",
    "- The Concert analogy (Impressario hypothesis)\n",
    "    - Underwriters offer cheap tickets and advertise the concert as if it were great\n",
    "    - Then, the young excited people join to the concert\n",
    "    - They could increase the prices, but they don't so that the young people join! "
   ]
  },
  {
   "cell_type": "markdown",
   "metadata": {},
   "source": [
    "### Goldman Sachs and John Whitehead\n",
    "- Goldman Sachs was one of the most esteemed investment banks before the 2008 crisis\n",
    "    - They were making a lot of money\n",
    "    - Everything was done for money\n",
    "    - People are absolutely loyal to the firm\n",
    "- John Whitehead has been the Chairman of Goldman Sachs; he defined some principles\n",
    "    - Client's interests first\n",
    "    - Assets are people, capital, reputation\n",
    "    - Excellence\n",
    "    - Creativity and imagination in everything done"
   ]
  },
  {
   "cell_type": "code",
   "execution_count": null,
   "metadata": {},
   "outputs": [],
   "source": []
  }
 ],
 "metadata": {
  "kernelspec": {
   "display_name": "Python 3",
   "language": "python",
   "name": "python3"
  },
  "language_info": {
   "codemirror_mode": {
    "name": "ipython",
    "version": 3
   },
   "file_extension": ".py",
   "mimetype": "text/x-python",
   "name": "python",
   "nbconvert_exporter": "python",
   "pygments_lexer": "ipython3",
   "version": "3.6.8"
  }
 },
 "nbformat": 4,
 "nbformat_minor": 2
}
