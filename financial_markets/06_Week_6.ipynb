{
 "cells": [
  {
   "cell_type": "markdown",
   "metadata": {},
   "source": [
    "# Financial Markets\n",
    "\n",
    "Coursera, Yale.\n",
    "Prof. Robert Shiller."
   ]
  },
  {
   "cell_type": "markdown",
   "metadata": {},
   "source": [
    "## Lesson 14"
   ]
  },
  {
   "cell_type": "markdown",
   "metadata": {},
   "source": [
    "### Investment Banks Introduction\n",
    "- Investment banks and money managers and their influences\n",
    "- Commercial banks take deposits and make loans\n",
    "- Investment banks don't accept deposits and don't make loans, but they underwrite securities\n",
    "    - Companies go to investment banks when they need money\n",
    "    - Investment banks issue new shares for those companies or issue debt: that is underwriting securities\n",
    "    - Bulge-bracket firms (big firms): First Boston, Goldman Sachs (since the 2008 crisis it's a commercial bank), Merril Lynch, Morgan Stanley, Lehman Brothers (bankrupt after 2008)\n",
    "- Finance is about making things happen: you need finance to do or build good things\n",
    "    - Shiller sees investment very positively, although people distrust investment banks\n",
    "    - Shiller thinks the large economical growth we've seen is due to financial capitalism"
   ]
  },
  {
   "cell_type": "markdown",
   "metadata": {},
   "source": [
    "### Underwriting Securities\n",
    "- Underwriting securities = issuance of shares and corporate debt\n",
    "- Investment banks have researchers and know where the money is; in that sense, companies could get advise from them\n",
    "- If we want to issue new shares, investment banks examine us and certify the issue\n",
    "- Moral Hazard problem mitigated by investment banks\n",
    "    - Firms might want to issue new shares when they know that the high earnings are only temporarily high\n",
    "    - Investment banks deal with those types of issues\n",
    "    - Studies show that investment banks that repeatedly underprice or overprice issues suffer a market share loss afterwards\n",
    "        - Low price is bad for the company\n",
    "        - High price is bad for the new investors\n",
    "- Investment banks have many contacts and are necessary for issuing new shares; they are like an authority, without them, people won't trust you\n",
    "- The underwriting process\n",
    "    - There are several phases\n",
    "    - It is based on trust; many people in each step don't read really all the documents\n",
    "    - If after issuing the price falls, the underwriter investment bank buys shares at the initial price: that's called stabilization, SEC agrees with it (it's not considered manipulation)\n",
    "    - Stabilization is done to prevent panicking and to deal with reputation issues"
   ]
  },
  {
   "cell_type": "markdown",
   "metadata": {},
   "source": [
    "### Initial Public Offerings = IPOs\n",
    "- A company can trade shares privately\n",
    "- If they go public, they need to do it through the SEC and prepare an IPO\n",
    "- The SEC does not evalkuate if the shares are going to be sold; the SEC evaluates that there is no manipulation\n",
    "- Usually the price increases after the IPO: the underwriter underprices the shares - but the SEC does not intervine\n",
    "    - It is actually a manipulation, because the friends of the company get the shares cheaper\n",
    "    - That is how the world works\n",
    "    - Often, after the first day 15% increase can be observed; BUT: it could be that in one year the company is gone too!\n",
    "- The Concert analogy (Impressario hypothesis)\n",
    "    - Underwriters offer cheap tickets and advertise the concert as if it were great\n",
    "    - Then, the young excited people join to the concert\n",
    "    - They could increase the prices, but they don't so that the young people join! "
   ]
  },
  {
   "cell_type": "markdown",
   "metadata": {},
   "source": [
    "### Goldman Sachs and John Whitehead\n",
    "- Goldman Sachs was one of the most esteemed investment banks before the 2008 crisis\n",
    "    - They were making a lot of money\n",
    "    - Everything was done for money\n",
    "    - People are absolutely loyal to the firm\n",
    "- John Whitehead has been the Chairman of Goldman Sachs; he defined some principles\n",
    "    - Client's interests first\n",
    "    - Assets are people, capital, reputation\n",
    "    - Excellence\n",
    "    - Creativity and imagination in everything done"
   ]
  },
  {
   "cell_type": "markdown",
   "metadata": {},
   "source": [
    "### Rating Agencies\n",
    "- An alternative to an investmenmt bank in terms of trust would be a rating agency\n",
    "- A rating agency publishes its information, in contrast to an investment bank\n",
    "- First rating agency: Mooddy's (1909); he decided to give ratings like at school\n",
    "    - Best rating is AAA\n",
    "    - Rating agencies did not accept money at the begining; but in the 1970 they started charging\n",
    "    - They still accept money for their ratings, but that is unethical and it should be regulated and banned!\n",
    "    - It turned out they became a great business, especially when derivatives appeared\n",
    "    - In the early 2000s the rating agencies were getting casual and unprofessional; that was one of the causes of the 2008 crisis: they gave good marks to bad companies/mortgages\n",
    "    - Now they have lost their reputation, but they still continue, and they are more carefully observed"
   ]
  },
  {
   "cell_type": "markdown",
   "metadata": {},
   "source": [
    "### Glass Steagall Act 1933\n",
    "- One of the most important acts in the congress\n",
    "- First insurance of commencial banks deposits was created\n",
    "- People thought that the 1929 crash was related to bank missbehavior\n",
    "- The Glass Steagall act prohibited to be both commercial and investment banks\n",
    "- Other countries (Germany, Switzerland) have always alllowed the so-called universal banks\n",
    "- Since 1999 with Clinton, the Glass Steagall is not active anymore and banks can be universal\n",
    "- There have been large merges of banks in the last 20 years\n",
    "- Paul Volcker, a previous Fed Chairman wants to activate the Glass Steagall act again\n",
    "    - Volcker is famous for cutting the inflation in the 70s with a recession\n"
   ]
  },
  {
   "cell_type": "markdown",
   "metadata": {},
   "source": [
    "### Net Worth of the USA\n",
    "- Total assets in USA (what is owned): 101 Trillion\n",
    "    - Average person owns: 270k!\n",
    "    - The average family would own 1 million dollar!\n",
    "    - However, that wealth is not uniformly distributed\n",
    "    - Real estate: 25 T\n",
    "    - Pension funds: 21 T\n",
    "    - Non-corporate equity (non-traded stocks/shares): 11 T\n",
    "    - Deposits: 10 T\n",
    "    - Corporate equity (traded stocks): 13 T\n",
    "    - Mutual funds (indirect posesion of stocks and bonds): 8 T\n",
    "    - Treasury securities (bonds): 1.2 T\n",
    "    - Municipal bonds (regional government bonds): 1.5 T \n",
    "    - Life insurance: 1.3 T\n",
    "- Total liabilities (what is owed): 14.5 Trillion\n",
    "    - Home mortgages: 10 T\n",
    "    - Consumer credit: 3.5 T\n",
    "    - Loans: 1.5 T\n",
    "    - Difference Assets - Liabilities: 87 T"
   ]
  },
  {
   "cell_type": "code",
   "execution_count": null,
   "metadata": {},
   "outputs": [],
   "source": []
  }
 ],
 "metadata": {
  "kernelspec": {
   "display_name": "Python 3",
   "language": "python",
   "name": "python3"
  },
  "language_info": {
   "codemirror_mode": {
    "name": "ipython",
    "version": 3
   },
   "file_extension": ".py",
   "mimetype": "text/x-python",
   "name": "python",
   "nbconvert_exporter": "python",
   "pygments_lexer": "ipython3",
   "version": "3.6.8"
  }
 },
 "nbformat": 4,
 "nbformat_minor": 2
}
