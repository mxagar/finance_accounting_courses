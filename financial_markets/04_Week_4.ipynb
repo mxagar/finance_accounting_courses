{
 "cells": [
  {
   "cell_type": "markdown",
   "metadata": {},
   "source": [
    "# Financial Markets\n",
    "\n",
    "Coursera, Yale.\n",
    "Prof. Robert Shiller."
   ]
  },
  {
   "cell_type": "markdown",
   "metadata": {},
   "source": [
    "## Lesson 10"
   ]
  },
  {
   "cell_type": "markdown",
   "metadata": {},
   "source": [
    "### Recessions\n",
    "- Rcessions are substantially psychological\n",
    "    - There is a strong component of contagion of emotion\n",
    "- Inverted yield curves\n",
    "    - Short-term interest rates are above long-term\n",
    "    - That's not usual\n",
    "    - When that happens, its a leading indicator that a recession is comming\n",
    "    - Why?\n",
    "        - Recessions occur when people get pessimistic\n",
    "        - If the long-term future is pessimistic, a recession comes\n",
    "    - Historically has been like that\n",
    "    - Interestingly, central banks have started recessions inverting the yield curve\n",
    "        - They put short-term interests high and the curve inverts\n",
    "        - They have done that when inflation has started to increase too much\n",
    "        - With a recession the inflation goes down\n",
    "        - The have done that out of desperation\n",
    "- Stock markets are also a leading indicator of depression\n",
    "    - A significant frop in the stock market is the start of a recession\n",
    "    - People stop investing\n",
    "    - Hiring is shut down\n",
    "    - People are laid off\n",
    "- Bond market: is not a leading indicator for recession\n",
    "- Recessions are hard to forecast"
   ]
  },
  {
   "cell_type": "markdown",
   "metadata": {},
   "source": [
    "### History of Mortgage Lending\n",
    "- Mortgage comes from \"dead pledge\"\n",
    "    - I can sell your land/house if you don't pay me\n",
    "- Mortgages go back to the Tang dinasty in China, 600-700; they could impose fines on relatives\n",
    "- Ownership of properties was a mess until 1900 aproximately\n",
    "    - Germany invented the Grundbuch: centralized authority where ownership of properties is registered"
   ]
  },
  {
   "cell_type": "markdown",
   "metadata": {},
   "source": [
    "### Commecial Real Estate Vehicles\n",
    "- Real Estate Partnerships\n",
    "    - You need to be an acredited investor to aprticipate\n",
    "        - More than 1 M apart from house\n",
    "    - The idea is to protect small investor...\n",
    "    - ??\n",
    "- REIT: Real Estate Investment Trust\n",
    "    - Created in teh 1960\n",
    "    - Reason: it was unfair for small investors not to be able to participate in Real Estate partnerships\n",
    "    - Thanks to REITs, small investors can access real state\n",
    "    - It is regulated, they have also some tax advanatges\n",
    "    - There were several REIT booms caused by different reasons: late 60s, 86, 92"
   ]
  },
  {
   "cell_type": "markdown",
   "metadata": {},
   "source": [
    "### Real Estate Psychology\n",
    "- Real Estate is influenced by psychology\n",
    "- If we remove the psychological components, prices would be more similar to the construction costs\n",
    "- Before the 2008, everybody thought house prices always go up"
   ]
  },
  {
   "cell_type": "markdown",
   "metadata": {},
   "source": [
    "### Mortgages\n",
    "- In USA (2016) statistics\n",
    "    - 13.2T USD debt\n",
    "    - 48 million mortgaged homes, 10.3 underwater after the crisis: in 2012 the housing market bottomed: the value of the home was less than the value of the mortgage\n",
    "        - That caused the whole economy to go down, because people had negative earnings and stopped spending and investing\n",
    "        - That was so especially for the young home owners, who had basically their home, nothing else\n",
    "- In 1920s it was usual to have 5-year term loans (now, we have typically 30 years), so after 5 years the mortgage needed to be re-negotiated\n",
    "    - Many houeses were foreclosed after the 1929 crash, because people lost their jobs and couldn't re-negotiate their mortgages\n",
    "    - Roosevelt changed that in 1934\n",
    "        - They state took the risk using tax-payer money: the mortgages were insured by the state; if someone didn't pay, the state could do it\n",
    "        - 15-year terms became standard\n",
    "- When prices drop a lot, usually the chance of going up is higher: mean regression\n",
    "    - In some places, house price become lower than the construction cost; that means no more houses are built there\n",
    "    - If we know that the place is going to be re-populated and life is going to go back to the normal there, it's a good investment to buy a cheap house there, when the prices are below the construction cost\n",
    "- The interest rate of 30-year term mortgages and 10-year bond insterest rates are shwon in a graph from 1965 to 2016\n",
    "    - They are very correlated: the mortgage interest rate seems to be 1.5 percent points above the bond interest rate\n",
    "    - Why?\n",
    "        - Because although mortgages are for 30 years, they end up being paid beforehand\n",
    "        - So the banks follow the bond interest rate and add an offset\n",
    "        - The spread/offset of 1.5 is because mortgages are riskier and have more costs associated: letters, follow ups, people who don't pay or miss payings, etc.\n",
    "    - Interesting point: in the 1980s the interest rates went up to 19%!!\n",
    "        - Inflation was very high\n",
    "        - Those interest rates are almpost imposible to pay, so some special regulations and payment methods appeared\n",
    "        - As a consequence, home prices decreased, because nobody could afford paying one, so there was no demand\n",
    "        - It seems that inflation is a major cause for high interest rates: money depreciates, previously given fixed-interest mortgages are bad for banks (money had more value, thus interest rates were lower), thus, banks need to increase interest rates\n",
    "        - That is probably the reason why banks then to follow the 10-year bond interest rates\n",
    "- Types of mortages\n",
    "    - Convetional: fixed rate\n",
    "        - These are the best if the inflation becomes high\n",
    "        - Shiller thinks there is going to be high inflation somewhen again\n",
    "        - Now, we have virtually no inflation\n",
    "    - Adjustable rate mortgage; it fluctuates with other interest rates"
   ]
  },
  {
   "cell_type": "markdown",
   "metadata": {},
   "source": [
    "### PMI, CMOs, CDOs\n",
    "- PMI = Private Mortgage Insurance\n",
    "    - The home owner pays for the insurance, not the state\n",
    "    - There is some controversy, because insurance companies do not notify if the house value goes up and there is no need of insurance\n",
    "    - Insurance companies are not always reliable - some go bankrupt\n",
    "- CMO = Collateralized Mortgage Obligations\n",
    "    - Pool of mortgages where we can invest\n",
    "    - Mortgage payers are categorized from not risky at all (AAA) to very risky\n",
    "    - Investors can choose where to invest\n",
    "    - Usually hedge funds invest in very risky categories\n",
    "- CDO = Collateralized Debt Obligations\n",
    "    - Similar to CMOs, but more general: they buy any kind of debt and catagorize different risk classes\n",
    "    - Typically hold subprime mortgages\n",
    "    - During the 2008 crisis the felt a lot, so they became a good investment"
   ]
  },
  {
   "cell_type": "markdown",
   "metadata": {},
   "source": [
    "### Post-Crisis Regulation\n",
    "- After the 2008 crisis were really angry that CDO and CMO bad mortgages were sold by the banks to the general public\n",
    "    - Banks sold bad mortgages and they didn't care, because they didn't own them\n",
    "    - Bad mortgage means: the debtor is likely to not being able to pay\n",
    "    - There were many \"lier loans\": mortgages given to people that didn't show that they had a job, good record, etc.\n",
    "    - This is bad in at least two aspects: a mortgage is given to someone who probably won't be able to pay it and that bad mortgage is sold to unexperieced investors\n",
    "- Regulations that appeared\n",
    "    - Europe: the mortgage originator must hold at least 5% of the mortgage\n",
    "    - In the USA that was copied, but qualified residential mortgages were exent; the definition of qualification was left open, and it took 4 years to come up with it"
   ]
  },
  {
   "cell_type": "markdown",
   "metadata": {},
   "source": [
    "### Excess Reserves\n",
    "- Banks have to keep certain amount of reserves in cash in case people rush to the banks ans start taking their money\n",
    "- However, American banks didn't do that until the 2008 recession\n",
    "- The reason is that the FED/ECB cut the interest rates to 0 to stimulate the economy\n",
    "- Since the interest rates are 0, th ebanks can hold the money they have in reserve; in fact, the amount they hold increased rapidly to 2.4T USD: there is so much cash in reserve not being lent!\n",
    "- Regulation has made also difficult for banks to make risky loans\n",
    "- Suddenly, there is no place to invest!\n",
    "    - That is a fundamental problem nowadays: banks hoard money and don't invest\n",
    "    - That has never happened before\n",
    "    - The money in reserve is sitting there not producing anything, not earning any interests\n",
    "    - Banks could still invest in things that have interest rates of 8-10%, but these are risky to what they really know from beforehand, so they don't do anything out of fear of adverse selection"
   ]
  },
  {
   "cell_type": "markdown",
   "metadata": {},
   "source": [
    "### The Real Estate Bubble\n",
    "- Shiller shows a diagram from his book Irrational Exuberance: Home prices, Building costs, Population, Interest rates\n",
    "    - In the 2000s home prices went up very much, and although population also increased, that increase was much lower; so, we can see there was clearly a speculative bubble in real estate\n",
    "    - The Building cost decreased since 1980s and is more or less stable now; it might vary due to labour cost, but the technology is better, more efficient, which balances the price\n",
    "    - The bubble was originated by mortgages that were sold too easily, and people thought the price would go up without end\n",
    "    - Then, home prices crashed until 2012, and then it started to go up again\n",
    "    - That happened in the US and in many other countries in the world\n",
    "- Another diagram shown for 2002-2014: home prices & questionnaire agree real estate is best investment\n",
    "    - When home prices drop, agreement drops also\n",
    "    - This is indicative of a bubble\n",
    "    - People's opinion changes with the price, they don't look at the decade long price data!\n",
    "- Another diagram that explains the bubble: annualized expected 10-year appreciation & 30-year mortgage rate\n",
    "    - People though their houeses would appreciate 12% every year in 2004, whereas mortgage rates were around 6%\n",
    "    - Clearly, everybody though it was stupid not to buy a house!\n",
    "    - So everybody was buying houses...\n",
    "    - Expectations were higher than mortgage rates until 2012\n",
    "    - However, Time, the Economist, Shiller wrote in 2005 that there was a bubble\n",
    "- There are several ways of measuring housing prices\n",
    "    - Price-to-income ratio\n",
    "    - Price-to-rent\n",
    "    - China is probably a special case regarding real estate\n",
    "        - Fear of corruption\n",
    "        - Difficult to invest abroad\n",
    "        - Shortage of females\n",
    "        - Families save money to buy a hous for the son so that he can buy a house\n",
    "        - Because of all those reasons, people seem to invest in real estate\n",
    "- It is almost impossible to short the real estate market\n",
    "    - It might take several years until the bubble bursts\n",
    "    - The fact that it's no possible to short it makes the market risky: prices can go up like crazy\n",
    "- Bubbles\n",
    "    - They are spread like an epidemic in the media, social media\n",
    "        - Maybe the same indicators could be used for measuring them\n",
    "        - Bubbles also appear misteriously, suddenly, like influenza epidemics\n",
    "        - Shiller thinks epidemic is a better name for a bubble\n",
    "    - It is difficult to predict when they are going to burst\n",
    "    - When they burst, not always the market disappears completely, like with bursting bubbles, but the market might recover an even burst again!\n",
    "    - The 2008 bubble/crisis was special because the housing market bubble was everywhere, not only in EEUU, also in Spain, Italy, etc.\n",
    "        - Shiller thinks maybe the efficient markets theory influenced it too: Politicians believed in it, so all prices were correct, and nobody waged to speak out publicly the insanity of the prices\n",
    "        - When nobody criticizes a situation, rare things can happen"
   ]
  },
  {
   "cell_type": "markdown",
   "metadata": {},
   "source": [
    "### Short-Selling & Bubbles\n",
    "- Shiller mentions an article by Miller, from the 1970\n",
    "- Miller was criticizing the efficient markets theory: what happens is a group of people buy stocks and hold it even if it's obvious the company is not doing well and people would short it? The stocks would not be available for shorting\n",
    "    - Then, the price is not really reflecting the real value\n",
    "    - He asked the question and nobody could answer it\n",
    "    - Shiller thinks the answer is: if short-selling is hard to do (in China for example it is difficult), there is nothing that stops crazy people from bidding up the price\n",
    "- That is related to the housing market\n",
    "    - It's not possible to short the housing market: you cannot borrow a house and short it\n",
    "    - Therefore, prices can go up\n",
    "    - However, he created some options market with which is possible to short housing prices"
   ]
  },
  {
   "cell_type": "markdown",
   "metadata": {},
   "source": [
    "## Lesson 11"
   ]
  },
  {
   "cell_type": "markdown",
   "metadata": {},
   "source": [
    "### Regulation Overview\n",
    "- Misbehavior, Crises, and Regulation\n",
    "- Book by Shiller: Phishing for Phools\n",
    "    - People are constrained by the market: if everybody is misbehaving, you need too, otherwise you disappear\n",
    "    - In a competitive market, that's what happens\n",
    "    - That's the Phishing equilibrium\n",
    "    - Thus, people are phools that get deceived\n",
    "- Micro vs macroprudential regulations\n",
    "    - Most regulations before 2008 crisis were microprudential\n",
    "    - Now, there is also macro: regulations that protect from bigger events; it's a revolution since the last crisis; the whole economy is protected\n",
    "- Business wants regulation\n",
    "    - They want to avoid corruption, they prefer good behavior\n",
    "    - It's like in sports: do players want a referee? Of course they want one"
   ]
  },
  {
   "cell_type": "markdown",
   "metadata": {},
   "source": [
    "### Regulations on Housing\n",
    "- After the housing crisis, several rules appeared\n",
    "    - Max payment monthly 43% of net income\n",
    "    - Check that you have a job\n",
    "    - ...\n",
    "- People seem to expect from the government to act when prices of homes drop a lot\n",
    "    - It seems real estate is a kind of a civil right or something similar, and people get angry when prices drop a lot\n",
    "    - The truth is prices can well drop a lot in any market\n",
    "- There seems to be a difference between home owners and renters\n",
    "    - Home owners usually are more connected to their neighborhood, they know who the major is, etc.\n",
    "    - Although Shiller thinks maybe it's really easier to rent an appartment and forget about worries\n",
    "    - They have tax subsides in the USA for home owners; but it becomes effective for richer people, which is counterproductive\n",
    "- Shiller tried a futures market for real estate\n",
    "    - It has not taken off, but it's in the CME\n",
    "- Other possible innovations in real estate\n",
    "    - Home equty insurance: insurance when home price drops below the buy price; that'd've been great during the 2008 \n",
    "    crisis; but it's not implemented\n",
    "- Financial innovations came very slowly in the past decades and centuries"
   ]
  },
  {
   "cell_type": "markdown",
   "metadata": {},
   "source": [
    "### Five Levels of Financial Regulation: 1. Firm Regulation\n",
    "- The board of directors acts like a regulator\n",
    "- The board of directors is usually conformed by people with great CVs and good reputations\n",
    "- Civil law vs common law\n",
    "    - In USA, the have common law: they have laws, but if a court decides something, it is a precedent which acts like a law\n",
    "    - In Europe, we have civil law: laws are done in the parliament; a court does not define the law with a decisions, the precedent doesn't set a law\n",
    "    - Shiller thinks common law is better than civil law, because the common law is more specific and close to the case, not that general; thus, law is set with particular cases\n",
    "- Tunneling: expropriation/thievery by minority shareholders (figuratively, as by underground tunnel)\n",
    "    - People steal in a subtle manner, which is clear for shareholders, but difficult to disentangle\n",
    "    - It is more usual in civil law countries, because common law help prevent it more easily\n",
    "    - How is tunneling achieved\n",
    "        - You sell assets for low values to your complices\n",
    "        - You buy services from frieds at high values (higher than market price)\n",
    "        - Excessice executive compensations\n",
    "        - Loan guarantees\n",
    "        - Expropriation of corporate opportunities\n",
    "        - Dilutive share issues\n",
    "        - Insider trading: buy extra shares before good news, sell before bad news\n",
    "    - Board of directors have the moral and legal obligation to prevent tunneling\n",
    "- Regulation is necessary, but too much regulation would make things difficult"
   ]
  },
  {
   "cell_type": "markdown",
   "metadata": {},
   "source": [
    "### Five Levels of Financial Regulation: 2. Trade Groups, eg, Stock Exchanges\n",
    "- 1792, first stock exchange\n",
    "- At the begining there were fixed commissions, a group of elite mafia trading; they were abolished\n",
    "- Deutsche Boerse tried to buy the New York Stock Exchange (NYSE), but the couldn't"
   ]
  },
  {
   "cell_type": "markdown",
   "metadata": {},
   "source": [
    "### Five Levels of Financial Regulation: 3. Local Regulation\n",
    "- USA started as a confederation of states\n",
    "- Banking regulation\n",
    "    - Until the National Banking Act (civil war), there was no national bank with monetary policies\n",
    "    - However, many things were regulated locally\n",
    "    - Big change: Securities and Exchange Commission (SEC) appeared, everything was centralized in banking"
   ]
  },
  {
   "cell_type": "markdown",
   "metadata": {},
   "source": [
    "### Five Levels of Financial Regulation: 4. National Regulation\n",
    "- Can there be too much regulation? Where is the limit?\n",
    "    - China as example; the don't have many regulations, they have a lot of corruption - that's typical for emerging countries\n",
    "    - In USA, in the 1920, there was corruption too\n",
    "    - Regulations appear during the time and resources are built\n",
    "- SEC: part of Roosevelts New Deal, 1934\n",
    "    - Local regulation failed\n",
    "    - SEC appears, banking and related topic are regulated in a centralized manner\n",
    "    - Initially, SEC was viewed as very socialist, many critics\n",
    "    - Interestingly, many countries copied USA\n",
    "    - The idea behind SEC was to ask to security issuers to submit records of what they were doing\n",
    "    - The SEC wanted additionally to make everything public and easy for people to see\n",
    "    - The idea was to prevent fraud and manipulation\n",
    "- A major thing that the SEC did was the definition between public and private securities\n",
    "    - Public: SEC has approved them as a general public investment medium\n",
    "        - There is an approval process\n",
    "        - If we want our company shares to be listed are public, we need to go through the process\n",
    "        - That is the procedure of going public\n",
    "        - Initially companies start private, then they go public with an IPO: Initial Public Offering\n",
    "    - Private: stocks are not publicly traded\n",
    "        - Sometimes companies go from public to private; why? because they don't want to publicly share information\n",
    "        - Hedge funds are examples of private companies\n",
    "            - They are for wealthy investors only, accredited investors (to protect common people)\n",
    "- SEC rules\n",
    "    - Every broker, stock exchange, security must register\n",
    "    - Registration does not mean approval\n",
    "- Sometimes share-owners complain that SEC people really don't have experience in the real world, so the regulations might be taken too far\n",
    "    - Shiller thinks that might happen sometimes\n",
    "    - Shiller thinks, out of his own experience, that SEC and government are slow in accepting new things or innovations\n",
    "        - He tells the story from 1996, when he was advocating for inflation-adjusted or indexed bonds. A Treasury department guy joked that would not work;  but, nowadays, there are indexed bonds!\n",
    "    - Shiller thinks the solution to that rigidity could come from\n",
    "        - Making the career as regulator attractive\n",
    "        - Enabling going from the private sector to regulator positions, and vice versa\n",
    "- Insiders vs. Outsiders\n",
    "    - Another SEC concept\n",
    "    - Insiders are people with special access to advantageous information about a company\n",
    "    - SEC wants to block insider trading\n",
    "    - Germany had no rules against insider trading until 1994\n",
    "- Frontrunning\n",
    "    - When a broker buys shares in front of a large order that will boost stock price\n",
    "    - So bsasically the broker has the order of buying many shares, and buys for him before, because he knows that the big order will affect the price\n",
    "- Decimalization\n",
    "    - It favors front-running\n",
    "    - ??\n",
    "- Financial Accounting Standards\n",
    "    - SEC has the right to define standards, but it prefers the private sector to do it\n",
    "- Earning definitions\n",
    "    - Net income: bottomline\n",
    "    - Operating income: revenue - cost of doing business\n",
    "    - There are many types of earnings and a lot of confusion\n",
    "- Securities Investor Protection Corporation (SIPC)\n",
    "    - Protection for investors\n",
    "- The 2008 crisis can be seen as a regulatory failure\n",
    "    - The origin was mainly mortgage crisis\n",
    "    - Too many infeasible mortgages were given\n",
    "    - The valuation of the bought houses was not standardized, the values were inflated\n",
    "        - Home appraisers were bribed\n",
    "    - Many regulations appeared afterwards\n",
    "- Government agencies tend to be burocratic\n",
    "    - They have many rules\n",
    "    - Regulators usually are well-meaning people according to Shiller"
   ]
  },
  {
   "cell_type": "markdown",
   "metadata": {},
   "source": [
    "### Five Levels of Financial Regulation: 5. International Regulation\n",
    "- Bank of International Settlements: the Bankers' Bank\n",
    "    - Created in 1930\n",
    "    - 57 central baks are member\n",
    "    - Basel, Switzerland\n",
    "- Basel Committee\n",
    "    - Created by the G10 in 1974 to coordinate banking regulation\n",
    "- G8, G20\n",
    "    - G7/8: Europe, USA, Canada, Japan: 2 meetings, heads of state & finance ministers\n",
    "    - G20: more countries, more tension\n",
    "- Financial Stability Board\n",
    "    - Created by the G20"
   ]
  },
  {
   "cell_type": "markdown",
   "metadata": {},
   "source": [
    "### Final Thoughts\n",
    "- Regulation must change continuously, adapt to new times\n",
    "- Reulation is the key for success!\n",
    "    - Regulation within limits leads to great success"
   ]
  },
  {
   "cell_type": "markdown",
   "metadata": {},
   "source": [
    "## Assignment\n",
    "Write a short (limit 1000 words) essay on the United Nations Human Rights Council's 2017 report on the financialization of housing:\n",
    "\n",
    "https://www.ohchr.org/en/NewsEvents/Pages/DisplayNews.aspx?NewsID=21264&LangID=E"
   ]
  },
  {
   "cell_type": "markdown",
   "metadata": {},
   "source": [
    "### Summary points\n",
    "- 2017-03-01, Leilani Farha's speech to the Human Rights Council\n",
    "    - Special Rapporteur on Housing\n",
    "    - All solutions outlined here are in the report \"New Urban Agenda\", which aims to provide housing based on human rights and erradicate homelessness by 2030.\n",
    "- Housing has transformed: it has been financialized: it is valued as a commodity, a way of accumulating wealth instead of a human right\n",
    "    - That causes displacement, unaffordability\n",
    "- Real estate represents the 60% of all global assets; residential real estate 75% of that or 2x the global GDP\n",
    "- Influx of capital of wealthy anonimuos foreign investors drives prices up since they have a much bigger impact than the incomes of the residents\n",
    "- Relatively affluent states have allowed the financialization of housing with dramatic effects\n",
    "    - Spain: 300k foreclosures and evictions\n",
    "- Three assaults on human rights\n",
    "    - Financialization undermines democratic governance and community accountability: Governments are more likely to respond to what credit agencies demand than to what human rights require\n",
    "    - Financialization of housing exacerbates inequality and social exclusion: more wealth for the wealthy, and deprives the poor of housing and communities\n",
    "    - Financialization detaches housing from its connection to communities and to the human dignity and security that are at the core of all human rights: The needs of existing residents or the kinds of housing they need is of little concern to global financial investors\n",
    "- Some measures being taken against that\n",
    "    - Restrictions for feoreign investors\n",
    "    - Taxes on vacant homes\n",
    "    - Taxes on luxury properties, used in subsidizing poor communities\n",
    "    - Taxes on speculation\n",
    "    - Prohibition of foreclosures and evictions that would result in homelessness\n",
    "- However, states must shift the current paradigm and make policies taking into account that housing should primarily serve a social function: a profound change is needed\n",
    "    - Financial regulations\n",
    "    - Recognize and apply housing as a human right\n",
    "    - Review laws to prevent foreclosures and evictions, reasonable alternatives are possible\n",
    "- Country visit reports (India & Portugal)\n",
    "    - **India**\n",
    "        - Complex socio-political federalist system\n",
    "        - Soon the largest population worldwide: 1.3 billion people\n",
    "        - Accelerated urbanization and growth\n",
    "        - 60 million households have no access to adequate housing: electricity, water, sanitation, waste management\n",
    "        - There is an ambitious plan on going to rehabilitate the slums in situ\n",
    "        - Evictions happen violently, forcing people to become homeless, which means living in terrible extreme conditions, ven though shelters are being constructed\n",
    "        - The access to justice for the poorest is very limited\n",
    "        - Recommendations\n",
    "            - Housing law based on human rights\n",
    "            - Address homelessness to eliminate it by 2030\n",
    "            - National moratorium on forced evictions and demolitions; if evictions are necessary due to safety and health issues, human rights must be followed\n",
    "            - Informal slums musz be recognized and rehabilitated in situ\n",
    "            - Curb rising prices due to speculation in metropolita cities\n",
    "    - **Portugal**\n",
    "        - The Constitution stablishes a strong foundation for adequate housing, but the crisis and austerity measures have created a difficult situation for many\n",
    "        - Portugal has some programmes to mitigate the effects of austerity: rehabilitation of rental properties\n",
    "        - However, Portugal is one of the most unequal countries in Europe: housing excusion, lack of affordability, insifficient subsidies, growing homelessness.\n",
    "            - Examples: Roma (ciganos) and African descents, who life in infra-human conditions; evictions and demolitions\n",
    "        - Touristification (Lisabon & Porto) is an issue: it brought a total of 2 billions in investments, but prices went up to become unaffordable\n",
    "        - Recommendations\n",
    "            - Create new housing laws after consulting most vulnerable\n",
    "            - Commit to ending homelessness\n",
    "            - Assess and address housing conditions in informal settlements\n",
    "            - Stop evictions and demolitions; guarantee basic rights and conditions and in-situ relocations if necessary\n",
    "        "
   ]
  },
  {
   "cell_type": "markdown",
   "metadata": {},
   "source": [
    "### Essay: Risk Reflection of Large Scale Impact Businesses"
   ]
  },
  {
   "cell_type": "markdown",
   "metadata": {},
   "source": [
    "**Summary**\n",
    "\n",
    "The assigned text contains the message from Leilani Farha, Special Rapporteur on the right to adequate housing of the United Nations, who addresses to the members of the Human Rights Council.\n",
    "\n",
    "Ms. Farha summarises several general points concerning housing affairs worldwide and, additionally, she reports insights and recommendations related to her visits to India and Portugal.\n",
    "\n",
    "As far as the global situation is concerned, Ms. Farha warns of an alarming financialization of housing. Real estate represents already the 60% of all global assets as many metropolitan cities have allowed foreign investors to acquire houses as mere financial assets; as a consequence, housing prices have increased more than the incomes of the local residents in numerous places. That leads to relocations and community dismembering, to increased wealth and right inequality, and, in many situations, to foreclosures and evictions.\n",
    "\n",
    "Although some restrictions and taxations are being already applied, Ms. Farha urges states to strongly commit to the New Urban Agenda, which has the goal of homelessness eradication by 2030; she exhorts them to shift the policies and regulations around housing towards a more humane paradigm in which houses represent their original meaning, a living space, and a human right that cannot be abolished by avoidable evictions.\n",
    "\n",
    "Concerning the state visits, Ms. Farha describes two very distinct countries that nonetheless have fundamental challenges related to housing affairs: India and Portugal. On one hand, India has a growing population of 1.3 billion citizens and sixty million households in it lack of adequate water, electricity and sanitation conditions. Along these lines, Ms. Farha recommends a national moratorium on forced evictions and the recognition and in-situ rehabilitation of informal slums.\n",
    "\n",
    "On the other hand, Ms. Farha describes Portugal as one of the most unequal countries in Europe. She reports the exclusion that African descents and the general housing unaffordability, among others, due to touristification (particularly in Lisbon and Porto).\n",
    "\n",
    "**Commentary**\n",
    "\n",
    "Real estate as a mere investment vehicle, and especially a globalised real estate market in which foreign investors can freely acquire houses, can lead to many social problems. More so in our inter-connected and quickly evolving society. Unfortunately, unforeseen paths and activities might emerge from apparently positive new technologies, which end up negatively affecting many citizens due to outdated regulations that do not protect them from those unforeseen activities.\n",
    "\n",
    "A clear example are social media platforms and their large scale effects in how we interact as humans. And the particular case for housing is the platform Airbnb. Airbnb is undoubtedly a great technological innovation: I rent my spare room to occasional guests that visit my city due to professional and private reasons. Airbnb was one of the major triggerers of the shared-economy and created an apparently win-win scenario. However, in many touristic cities in Spain the wealthiest home-owners monetised their unused real estates assets and rented them exclusively in the summer season; as a consequence, the offer of regular rents decreased, which lead to the increment of the monthly fees for the regular tenants. On top of that, that regulation loophole represented only advantages for the wealthiest: they had full access to their apartments, no contracts were needed, the places were only half of the year occupied and used, and probably more money than with regular rents was earned.\n",
    "\n",
    "Airbnb is not inherently bad. In fact, we desperately need such innovations as Airbnb to propel our prosperity, and in a related manner, real estate is a positive and useful mean to storing value for many investors. On the other hand, regulations clearly protect us all, but they have always been slower than technological innovations. Regulations could be understood as the delayed reaction to damaging imbalances caused by novel ways of organising our activities. And perhaps there we have part of the key: we need to embed in the technological innovations the seed for the regulation to reduce that delay.\n",
    "\n",
    "Several financial innovations and regulations have appeared in the field of real state, such as insurance or strict mortgage lending requirements to prevent damaging situations; some of them were and are still controversial. As it is done in many engineering fields, we could require a thorough risk analysis to every new technology and business which might have large scale impacts on fundamental rights such as housing. That additional burden would be strongly debated, but it would be in line with the stress tests required to companies and financial institutions after the 2007/8 crisis. Reflecting on the possible risks and their mitigations could make the regulator and the society aware of negative impacts and solutions."
   ]
  },
  {
   "cell_type": "code",
   "execution_count": null,
   "metadata": {},
   "outputs": [],
   "source": []
  }
 ],
 "metadata": {
  "kernelspec": {
   "display_name": "Python 3",
   "language": "python",
   "name": "python3"
  },
  "language_info": {
   "codemirror_mode": {
    "name": "ipython",
    "version": 3
   },
   "file_extension": ".py",
   "mimetype": "text/x-python",
   "name": "python",
   "nbconvert_exporter": "python",
   "pygments_lexer": "ipython3",
   "version": "3.6.8"
  }
 },
 "nbformat": 4,
 "nbformat_minor": 2
}
