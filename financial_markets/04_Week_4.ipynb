{
 "cells": [
  {
   "cell_type": "markdown",
   "metadata": {},
   "source": [
    "# Financial Markets\n",
    "\n",
    "Coursera, Yale.\n",
    "Prof. Robert Shiller."
   ]
  },
  {
   "cell_type": "markdown",
   "metadata": {},
   "source": [
    "## Lesson 10"
   ]
  },
  {
   "cell_type": "markdown",
   "metadata": {},
   "source": [
    "### Recessions\n",
    "- Rcessions are substantially psychological\n",
    "    - There is a strong component of contagion of emotion\n",
    "- Inverted yield curves\n",
    "    - Short-term interest rates are above long-term\n",
    "    - That's not usual\n",
    "    - When that happens, its a leading indicator that a recession is comming\n",
    "    - Why?\n",
    "        - Recessions occur when people get pessimistic\n",
    "        - If the long-term future is pessimistic, a recession comes\n",
    "    - Historically has been like that\n",
    "    - Interestingly, central banks have started recessions inverting the yield curve\n",
    "        - They put short-term interests high and the curve inverts\n",
    "        - They have done that when inflation has started to increase too much\n",
    "        - With a recession the inflation goes down\n",
    "        - The have done that out of desperation\n",
    "- Stock markets are also a leading indicator of depression\n",
    "    - A significant frop in the stock market is the start of a recession\n",
    "    - People stop investing\n",
    "    - Hiring is shut down\n",
    "    - People are laid off\n",
    "- Bond market: is not a leading indicator for recession\n",
    "- Recessions are hard to forecast"
   ]
  },
  {
   "cell_type": "markdown",
   "metadata": {},
   "source": [
    "### History of Mortgage Lending\n",
    "- Mortgage comes from \"dead pledge\"\n",
    "    - I can sell your land/house if you don't pay me\n",
    "- Mortgages go back to the Tang dinasty in China, 600-700; they could impose fines on relatives\n",
    "- Ownership of properties was a mess until 1900 aproximately\n",
    "    - Germany invented the Grundbuch: centralized authority where ownership of properties is registered"
   ]
  },
  {
   "cell_type": "markdown",
   "metadata": {},
   "source": [
    "### Commecial Real Estate Vehicles\n",
    "- Real Estate Partnerships\n",
    "    - You need to be an acredited investor to aprticipate\n",
    "        - More than 1 M apart from house\n",
    "    - The idea is to protect small investor...\n",
    "    - ??\n",
    "- REIT: Real Estate Investment Trust\n",
    "    - Created in teh 1960\n",
    "    - Reason: it was unfair for small investors not to be able to participate in Real Estate partnerships\n",
    "    - Thanks to REITs, small investors can access real state\n",
    "    - It is regulated, they have also some tax advanatges\n",
    "    - There were several REIT booms caused by different reasons: late 60s, 86, 92"
   ]
  },
  {
   "cell_type": "markdown",
   "metadata": {},
   "source": [
    "### Real Estate Psychology\n",
    "- Real Estate is influenced by psychology\n",
    "- If we remove the psychological components, prices would be more similar to the construction costs\n",
    "- Before the 2008, everybody thought house prices always go up"
   ]
  },
  {
   "cell_type": "markdown",
   "metadata": {},
   "source": [
    "### Mortgages\n",
    "- In USA (2016) statistics\n",
    "    - 13.2T USD debt\n",
    "    - 48 million mortgaged homes, 10.3 underwater after the crisis: in 2012 the housing market bottomed: the value of the home was less than the value of the mortgage\n",
    "        - That caused the whole economy to go down, because people had negative earnings and stopped spending and investing\n",
    "        - That was so especially for the young home owners, who had basically their home, nothing else\n",
    "- In 1920s it was usual to have 5-year term loans (now, we have typically 30 years), so after 5 years the mortgage needed to be re-negotiated\n",
    "    - Many houeses were foreclosed after the 1929 crash, because people lost their jobs and couldn't re-negotiate their mortgages\n",
    "    - Roosevelt changed that in 1934\n",
    "        - They state took the risk using tax-payer money: the mortgages were insured by the state; if someone didn't pay, the state could do it\n",
    "        - 15-year terms became standard\n",
    "- When prices drop a lot, usually the chance of going up is higher: mean regression\n",
    "    - In some places, house price become lower than the construction cost; that means no more houses are built there\n",
    "    - If we know that the place is going to be re-populated and life is going to go back to the normal there, it's a good investment to buy a cheap house there, when the prices are below the construction cost\n",
    "- The interest rate of 30-year term mortgages and 10-year bond insterest rates are shwon in a graph from 1965 to 2016\n",
    "    - They are very correlated: the mortgage interest rate seems to be 1.5 percent points above the bond interest rate\n",
    "    - Why?\n",
    "        - Because although mortgages are for 30 years, they end up being paid beforehand\n",
    "        - So the banks follow the bond interest rate and add an offset\n",
    "        - The spread/offset of 1.5 is because mortgages are riskier and have more costs associated: letters, follow ups, people who don't pay or miss payings, etc.\n",
    "    - Interesting point: in the 1980s the interest rates went up to 19%!!\n",
    "        - Inflation was very high\n",
    "        - Those interest rates are almpost imposible to pay, so some special regulations and payment methods appeared\n",
    "        - As a consequence, home prices decreased, because nobody could afford paying one, so there was no demand\n",
    "        - It seems that inflation is a major cause for high interest rates: money depreciates, previously given fixed-interest mortgages are bad for banks (money had more value, thus interest rates were lower), thus, banks need to increase interest rates\n",
    "        - That is probably the reason why banks then to follow the 10-year bond interest rates\n",
    "- Types of mortages\n",
    "    - Convetional: fixed rate\n",
    "        - These are the best if the inflation becomes high\n",
    "        - Shiller thinks there is going to be high inflation somewhen again\n",
    "        - Now, we have virtually no inflation\n",
    "    - Adjustable rate mortgage; it fluctuates with other interest rates"
   ]
  },
  {
   "cell_type": "markdown",
   "metadata": {},
   "source": [
    "### PMI, CMOs, CDOs\n",
    "- PMI = Private Mortgage Insurance\n",
    "    - The home owner pays for the insurance, not the state\n",
    "    - There is some controversy, because insurance companies do not notify if the house value goes up and there is no need of insurance\n",
    "    - Insurance companies are not always reliable - some go bankrupt\n",
    "- CMO = Collateralized Mortgage Obligations\n",
    "    - Pool of mortgages where we can invest\n",
    "    - Mortgage payers are categorized from not risky at all (AAA) to very risky\n",
    "    - Investors can choose where to invest\n",
    "    - Usually hedge funds invest in very risky categories\n",
    "- CDO = Collateralized Debt Obligations\n",
    "    - Similar to CMOs, but more general: they buy any kind of debt and catagorize different risk classes\n",
    "    - Typically hold subprime mortgages\n",
    "    - During the 2008 crisis the felt a lot, so they became a good investment"
   ]
  },
  {
   "cell_type": "markdown",
   "metadata": {},
   "source": [
    "### Post-Crisis Regulation\n",
    "- After the 2008 crisis were really angry that CDO and CMO bad mortgages were sold by the banks to the general public\n",
    "    - Banks sold bad mortgages and they didn't care, because they didn't own them\n",
    "    - Bad mortgage means: the debtor is likely to not being able to pay\n",
    "    - There were many \"lier loans\": mortgages given to people that didn't show that they had a job, good record, etc.\n",
    "    - This is bad in at least two aspects: a mortgage is given to someone who probably won't be able to pay it and that bad mortgage is sold to unexperieced investors\n",
    "- Regulations that appeared\n",
    "    - Europe: the mortgage originator must hold at least 5% of the mortgage\n",
    "    - In the USA that was copied, but qualified residential mortgages were exent; the definition of qualification was left open, and it took 4 years to come up with it"
   ]
  },
  {
   "cell_type": "markdown",
   "metadata": {},
   "source": [
    "### Excess Reserves\n",
    "- Banks have to keep certain amount of reserves in cash in case people rush to the banks ans start taking their money\n",
    "- However, American banks didn't do that until the 2008 recession\n",
    "- The reason is that the FED/ECB cut the interest rates to 0 to stimulate the economy\n",
    "- Since the interest rates are 0, th ebanks can hold the money they have in reserve; in fact, the amount they hold increased rapidly to 2.4T USD: there is so much cash in reserve not being lent!\n",
    "- Regulation has made also difficult for banks to make risky loans\n",
    "- Suddenly, there is no place to invest!\n",
    "    - That is a fundamental problem nowadays: banks hoard money and don't invest\n",
    "    - That has never happened before\n",
    "    - The money in reserve is sitting there not producing anything, not earning any interests\n",
    "    - Banks could still invest in things that have interest rates of 8-10%, but these are risky to what they really know from beforehand, so they don't do anything out of fear of adverse selection"
   ]
  },
  {
   "cell_type": "markdown",
   "metadata": {},
   "source": [
    "### The Real Estate Bubble\n",
    "- Shiller shows a diagram from his book Irrational Exuberance: Home prices, Building costs, Population, Interest rates\n",
    "    - In the 2000s home prices went up very much, and although population also increased, that increase was much lower; so, we can see there was clearly a speculative bubble in real estate\n",
    "    - The Building cost decreased since 1980s and is more or less stable now; it might vary due to labour cost, but the technology is better, more efficient, which balances the price\n",
    "    - The bubble was originated by mortgages that were sold too easily, and people thought the price would go up without end\n",
    "    - Then, home prices crashed until 2012, and then it started to go up again\n",
    "    - That happened in the US and in many other countries in the world"
   ]
  },
  {
   "cell_type": "code",
   "execution_count": null,
   "metadata": {},
   "outputs": [],
   "source": []
  }
 ],
 "metadata": {
  "kernelspec": {
   "display_name": "Python 3",
   "language": "python",
   "name": "python3"
  },
  "language_info": {
   "codemirror_mode": {
    "name": "ipython",
    "version": 3
   },
   "file_extension": ".py",
   "mimetype": "text/x-python",
   "name": "python",
   "nbconvert_exporter": "python",
   "pygments_lexer": "ipython3",
   "version": "3.6.8"
  }
 },
 "nbformat": 4,
 "nbformat_minor": 2
}
